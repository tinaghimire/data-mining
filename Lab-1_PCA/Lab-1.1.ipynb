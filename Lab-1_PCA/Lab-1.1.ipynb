{
  "cells": [
    {
      "cell_type": "markdown",
      "metadata": {
        "id": "Ms6mIdkW9659"
      },
      "source": [
        "# PCA on Random Data\n",
        "\n",
        "## Steps\n",
        "1. Initialize a pseudo random number generator with a random seed.\n",
        "2. Sample from a univariate \"normal\" (Gaussian) distribution an array of 20 by 2 samples.\n",
        "3. Plot the sample values.\n",
        "4. Create a 2 by 2 matrix and fill it with random values from a uniform distribution having values 0 and 1.\n",
        "5. Multiply the matrices from (2) and (4).\n",
        "6. Plot the resulting sample values.\n",
        "7. Compute the variance among the data axes.\n",
        "8. Compute the covariance matrix.\n",
        "9. Compute the eigenvalues and eigenvectors of the covariance matrix.\n",
        "10. Keeping both eigenvectors, perform a change of basis.\n",
        "11. Compute the proportion of variance due to both eigenvectors.\n",
        "12. Plot the data values in the new basis.\n",
        "13. Calculate the new covariance matrix.\n",
        "14. Repeat steps (10) and (12) using only one eigenvector.\n",
        "\n"
      ]
    },
    {
      "cell_type": "code",
      "execution_count": 1,
      "metadata": {
        "id": "ygS2NZik96I8"
      },
      "outputs": [
        {
          "name": "stdout",
          "output_type": "stream",
          "text": [
            "Requirement already satisfied: numpy in c:\\users\\ghimi\\appdata\\local\\programs\\python\\python312\\lib\\site-packages (1.26.1)Note: you may need to restart the kernel to use updated packages.\n",
            "\n"
          ]
        },
        {
          "name": "stderr",
          "output_type": "stream",
          "text": [
            "\n",
            "[notice] A new release of pip is available: 23.3.2 -> 24.0\n",
            "[notice] To update, run: python.exe -m pip install --upgrade pip\n",
            "\n",
            "[notice] A new release of pip is available: 23.3.2 -> 24.0\n",
            "[notice] To update, run: python.exe -m pip install --upgrade pip\n"
          ]
        },
        {
          "name": "stdout",
          "output_type": "stream",
          "text": [
            "Requirement already satisfied: matplotlib in c:\\users\\ghimi\\appdata\\local\\programs\\python\\python312\\lib\\site-packages (3.8.0)\n",
            "Requirement already satisfied: contourpy>=1.0.1 in c:\\users\\ghimi\\appdata\\local\\programs\\python\\python312\\lib\\site-packages (from matplotlib) (1.1.1)\n",
            "Requirement already satisfied: cycler>=0.10 in c:\\users\\ghimi\\appdata\\local\\programs\\python\\python312\\lib\\site-packages (from matplotlib) (0.12.1)\n",
            "Requirement already satisfied: fonttools>=4.22.0 in c:\\users\\ghimi\\appdata\\local\\programs\\python\\python312\\lib\\site-packages (from matplotlib) (4.43.1)\n",
            "Requirement already satisfied: kiwisolver>=1.0.1 in c:\\users\\ghimi\\appdata\\local\\programs\\python\\python312\\lib\\site-packages (from matplotlib) (1.4.5)\n",
            "Requirement already satisfied: numpy<2,>=1.21 in c:\\users\\ghimi\\appdata\\local\\programs\\python\\python312\\lib\\site-packages (from matplotlib) (1.26.1)\n",
            "Requirement already satisfied: packaging>=20.0 in c:\\users\\ghimi\\appdata\\local\\programs\\python\\python312\\lib\\site-packages (from matplotlib) (23.2)\n",
            "Requirement already satisfied: pillow>=6.2.0 in c:\\users\\ghimi\\appdata\\local\\programs\\python\\python312\\lib\\site-packages (from matplotlib) (10.0.1)\n",
            "Requirement already satisfied: pyparsing>=2.3.1 in c:\\users\\ghimi\\appdata\\local\\programs\\python\\python312\\lib\\site-packages (from matplotlib) (3.1.1)\n",
            "Requirement already satisfied: python-dateutil>=2.7 in c:\\users\\ghimi\\appdata\\local\\programs\\python\\python312\\lib\\site-packages (from matplotlib) (2.8.2)\n",
            "Requirement already satisfied: six>=1.5 in c:\\users\\ghimi\\appdata\\local\\programs\\python\\python312\\lib\\site-packages (from python-dateutil>=2.7->matplotlib) (1.16.0)\n",
            "Note: you may need to restart the kernel to use updated packages.\n"
          ]
        }
      ],
      "source": [
        "%pip install numpy\n",
        "%pip install matplotlib\n",
        "import numpy as np\n",
        "import matplotlib.pyplot as plt\n",
        "import pandas as pd"
      ]
    },
    {
      "cell_type": "code",
      "execution_count": 2,
      "metadata": {
        "id": "j9a4py_F96JA"
      },
      "outputs": [],
      "source": [
        "# Initialize a pseudo random number generator with a random seed.\n",
        "\n",
        "# random_seed = np.random.randint(0, 1000)\n",
        "random_seed = 0\n",
        "\n",
        "np.random.seed(random_seed)"
      ]
    },
    {
      "cell_type": "code",
      "execution_count": 3,
      "metadata": {
        "colab": {
          "base_uri": "https://localhost:8080/"
        },
        "id": "AXXj1rgEByQv",
        "outputId": "e5ed548d-0dc8-4168-d4c3-7587ce860e9c"
      },
      "outputs": [
        {
          "data": {
            "text/plain": [
              "array([[ 1.76405235,  0.40015721],\n",
              "       [ 0.97873798,  2.2408932 ],\n",
              "       [ 1.86755799, -0.97727788],\n",
              "       [ 0.95008842, -0.15135721],\n",
              "       [-0.10321885,  0.4105985 ],\n",
              "       [ 0.14404357,  1.45427351],\n",
              "       [ 0.76103773,  0.12167502],\n",
              "       [ 0.44386323,  0.33367433],\n",
              "       [ 1.49407907, -0.20515826],\n",
              "       [ 0.3130677 , -0.85409574],\n",
              "       [-2.55298982,  0.6536186 ],\n",
              "       [ 0.8644362 , -0.74216502],\n",
              "       [ 2.26975462, -1.45436567],\n",
              "       [ 0.04575852, -0.18718385],\n",
              "       [ 1.53277921,  1.46935877],\n",
              "       [ 0.15494743,  0.37816252],\n",
              "       [-0.88778575, -1.98079647],\n",
              "       [-0.34791215,  0.15634897],\n",
              "       [ 1.23029068,  1.20237985],\n",
              "       [-0.38732682, -0.30230275]])"
            ]
          },
          "execution_count": 3,
          "metadata": {},
          "output_type": "execute_result"
        }
      ],
      "source": [
        "# Sample from a univariate \"normal\" (Gaussian) distribution an array of 20 by 2 samples.\n",
        "dataset = np.random.normal(loc=0, scale=1, size=(20,2)) # loc is mean, so loc = 0 and scale is standard deviation, so scale = 1\n",
        "dataset"
      ]
    },
    {
      "cell_type": "code",
      "execution_count": 4,
      "metadata": {
        "colab": {
          "base_uri": "https://localhost:8080/"
        },
        "id": "FwcUhRrgA5Ey",
        "outputId": "6867c6fd-2a2c-4ae1-8c50-53b2768f0cd3"
      },
      "outputs": [
        {
          "data": {
            "text/plain": [
              "((20,), (20,))"
            ]
          },
          "execution_count": 4,
          "metadata": {},
          "output_type": "execute_result"
        }
      ],
      "source": [
        "x=dataset[:,0]\n",
        "y=dataset[:,1]\n",
        "x.shape, y.shape # 20 data each"
      ]
    },
    {
      "cell_type": "code",
      "execution_count": 5,
      "metadata": {
        "colab": {
          "base_uri": "https://localhost:8080/",
          "height": 718
        },
        "id": "rikfzEtm96JB",
        "outputId": "22f196b5-bb87-463b-f8d6-fd0f3363aee9"
      },
      "outputs": [
        {
          "data": {
            "image/png": "[encoded data removed]",
            "text/plain": [
              "<Figure size 1000x800 with 1 Axes>"
            ]
          },
          "metadata": {},
          "output_type": "display_data"
        }
      ],
      "source": [
        "# Plot the sample values.\n",
        "plt.figure(figsize=(10,8))\n",
        "plt.title(\"Plot of sample values in 2D\")\n",
        "plt.scatter(x,y)\n",
        "plt.xlabel(\"X\")\n",
        "plt.ylabel(\"Y\")\n",
        "plt.show()"
      ]
    },
    {
      "cell_type": "code",
      "execution_count": 6,
      "metadata": {
        "colab": {
          "base_uri": "https://localhost:8080/"
        },
        "id": "t80hOFVoBI0_",
        "outputId": "d07c3a6c-8cc1-4a4d-8ece-fc858f0a26fd"
      },
      "outputs": [
        {
          "data": {
            "text/plain": [
              "array([[0.5488135 , 0.71518937],\n",
              "       [0.60276338, 0.54488318]])"
            ]
          },
          "execution_count": 6,
          "metadata": {},
          "output_type": "execute_result"
        }
      ],
      "source": [
        "# Create a 2 by 2 matrix and fill it with random values from a uniform distribution having values 0 and 1\n",
        "np.random.seed(0)\n",
        "\n",
        "p_matrix = np.random.uniform(low=0.0, high=1.0, size=(2,2))\n",
        "p_matrix"
      ]
    },
    {
      "cell_type": "code",
      "execution_count": 7,
      "metadata": {
        "id": "a2FvKP2wEPks"
      },
      "outputs": [
        {
          "data": {
            "text/plain": [
              "[1.170684681405265, 1.003147509748088]"
            ]
          },
          "execution_count": 7,
          "metadata": {},
          "output_type": "execute_result"
        }
      ],
      "source": [
        "# Compute the variance among the data axes.\n",
        "variance = [x.var(), y.var()]\n",
        "variance"
      ]
    },
    {
      "cell_type": "code",
      "execution_count": 8,
      "metadata": {
        "colab": {
          "base_uri": "https://localhost:8080/"
        },
        "id": "bwBCT4kVBIir",
        "outputId": "9ec2845a-cdce-450a-e55d-d62a2a61d08e"
      },
      "outputs": [
        {
          "data": {
            "text/plain": [
              "array([[ 1.20933586,  1.47967041],\n",
              "       [ 1.88787297,  1.92100802],\n",
              "       [ 0.43587373,  0.80315533],\n",
              "       [ 0.43018877,  0.59702114],\n",
              "       [ 0.19084584,  0.14990719],\n",
              "       [ 0.95563587,  0.89542761],\n",
              "       [ 0.49100902,  0.61058476],\n",
              "       [ 0.4447248 ,  0.49925979],\n",
              "       [ 0.69630888,  0.95676218],\n",
              "       [-0.34300185, -0.24147971],\n",
              "       [-1.00713794, -1.46972539],\n",
              "       [ 0.02706437,  0.21384234],\n",
              "       [ 0.36903362,  0.83084497],\n",
              "       [-0.08771468, -0.06926733],\n",
              "       [ 1.72688558,  1.89685628],\n",
              "       [ 0.31297976,  0.31687115],\n",
              "       [-1.68118037, -1.71423761],\n",
              "       [-0.09669745, -0.16363115],\n",
              "       [ 1.39995068,  1.53504737],\n",
              "       [-0.39478721, -0.44173171]])"
            ]
          },
          "execution_count": 8,
          "metadata": {},
          "output_type": "execute_result"
        }
      ],
      "source": [
        "# Multiply the matrices from dataset and p_matrix.\n",
        "new_dataset = np.dot(dataset, p_matrix)\n",
        "new_dataset"
      ]
    },
    {
      "cell_type": "code",
      "execution_count": 28,
      "metadata": {
        "colab": {
          "base_uri": "https://localhost:8080/",
          "height": 718
        },
        "id": "GqVjAMUx96JE",
        "outputId": "a2a57116-dd50-4f0e-be6b-18ac820e6b51"
      },
      "outputs": [
        {
          "data": {
            "image/png": "[encoded data removed]",
            "text/plain": [
              "<Figure size 1000x800 with 1 Axes>"
            ]
          },
          "metadata": {},
          "output_type": "display_data"
        }
      ],
      "source": [
        "x=new_dataset[:,0]\n",
        "y=new_dataset[:,1]\n",
        "\n",
        "plt.figure(figsize=(10,8))\n",
        "plt.title(\"Multiplication of random dataset and 2x2 matrix\")\n",
        "plt.scatter(x,y)\n",
        "plt.xlabel(\"X\")\n",
        "plt.ylabel(\"Y\")\n",
        "plt.show()"
      ]
    },
    {
      "cell_type": "code",
      "execution_count": 10,
      "metadata": {
        "colab": {
          "base_uri": "https://localhost:8080/"
        },
        "id": "rXJaSP4U96JE",
        "outputId": "381bba5e-9e21-44d0-dc83-ec7ddeedd702"
      },
      "outputs": [
        {
          "data": {
            "text/plain": [
              "array([[0.74505332, 0.81972305],\n",
              "       [0.81972305, 0.93232565]])"
            ]
          },
          "execution_count": 10,
          "metadata": {},
          "output_type": "execute_result"
        }
      ],
      "source": [
        "# Compute the covariance matrix.\n",
        "cov_matrix = np.cov(new_dataset, rowvar=False) # rowvar means each row as variable(feature) and each column as data\n",
        "# But in our data each column represent features and each row as data\n",
        "cov_matrix"
      ]
    },
    {
      "cell_type": "code",
      "execution_count": 11,
      "metadata": {
        "colab": {
          "base_uri": "https://localhost:8080/"
        },
        "id": "EQ__d4rB96JF",
        "outputId": "b525003b-6faf-412b-8836-da68d059bce7"
      },
      "outputs": [
        {
          "data": {
            "text/plain": [
              "(array([0.01363578, 1.66374319]),\n",
              " array([[-0.7461538 , -0.66577361],\n",
              "        [ 0.66577361, -0.7461538 ]]))"
            ]
          },
          "execution_count": 11,
          "metadata": {},
          "output_type": "execute_result"
        }
      ],
      "source": [
        "# Compute the eigenvalues and eigenvectors of the covariance matrix.\n",
        "value, vector = np.linalg.eig(cov_matrix)\n",
        "value, vector"
      ]
    },
    {
      "cell_type": "code",
      "execution_count": 12,
      "metadata": {
        "id": "okeMExeD96JF",
        "outputId": "6724dcef-2d22-49ba-b742-db13396c5b35"
      },
      "outputs": [
        {
          "data": {
            "text/plain": [
              "1.6637431893476098"
            ]
          },
          "execution_count": 12,
          "metadata": {},
          "output_type": "execute_result"
        }
      ],
      "source": [
        "# Maximum eigen value\n",
        "max_value = np.max(value)\n",
        "max_value"
      ]
    },
    {
      "cell_type": "code",
      "execution_count": 13,
      "metadata": {
        "colab": {
          "base_uri": "https://localhost:8080/"
        },
        "id": "TiJvuB1BJAqT",
        "outputId": "5192c7e5-dcb2-42c8-c9be-128a54b92a85"
      },
      "outputs": [
        {
          "data": {
            "text/plain": [
              "array([[ 8.27749644e-02, -1.90920561e+00],\n",
              "       [-1.29687152e-01, -2.69026345e+00],\n",
              "       [ 2.09490786e-01, -8.89470634e-01],\n",
              "       [ 7.64939299e-02, -7.31877923e-01],\n",
              "       [-4.25960954e-02, -2.38913946e-01],\n",
              "       [-1.16899263e-01, -1.30436386e+00],\n",
              "       [ 4.01429692e-02, -7.82490991e-01],\n",
              "       [ 5.60895099e-04, -6.68610630e-01],\n",
              "       [ 1.17433489e-01, -1.17747582e+00],\n",
              "       [ 9.51613129e-02,  4.08542587e-01],\n",
              "       [-2.27024579e-01,  1.76716705e+00],\n",
              "       [ 1.22176407e-01, -1.77578015e-01],\n",
              "       [ 2.77798816e-01, -8.65630986e-01],\n",
              "       [ 1.93322815e-02,  1.10082197e-01],\n",
              "       [-2.56453908e-02, -2.56506138e+00],\n",
              "       [-2.25665867e-02, -4.44808276e-01],\n",
              "       [ 1.13124964e-01,  2.39837044e+00],\n",
              "       [-3.67901263e-02,  1.86472614e-01],\n",
              "       [-2.25844887e-02, -2.07743165e+00],\n",
              "       [ 4.78668087e-04,  5.92438702e-01]])"
            ]
          },
          "execution_count": 13,
          "metadata": {},
          "output_type": "execute_result"
        }
      ],
      "source": [
        "# Keeping both eigenvectors, perform a change of basis.\n",
        "transformed_data = np.dot(new_dataset, vector)\n",
        "transformed_data"
      ]
    },
    {
      "cell_type": "code",
      "execution_count": 14,
      "metadata": {
        "colab": {
          "base_uri": "https://localhost:8080/"
        },
        "id": "MKts-t6cJq2s",
        "outputId": "ae5ed4a0-d26d-48cd-cdf7-4fa03c0d808a"
      },
      "outputs": [
        {
          "data": {
            "text/plain": [
              "[0.00812921975838951, 0.9918707802416105]"
            ]
          },
          "execution_count": 14,
          "metadata": {},
          "output_type": "execute_result"
        }
      ],
      "source": [
        "# Compute the proportion of variance due to both eigenvectors.\n",
        "sum = np.sum(value) # Sum of eigenvalues\n",
        "prop_of_var = [value[0]/sum, value[1]/sum]\n",
        "prop_of_var # Here value[1] will carry most of the values."
      ]
    },
    {
      "cell_type": "code",
      "execution_count": 30,
      "metadata": {
        "colab": {
          "base_uri": "https://localhost:8080/",
          "height": 718
        },
        "id": "a1ewXYcDJRoT",
        "outputId": "58f2a99f-a1ea-4549-cc0e-116106152c92"
      },
      "outputs": [
        {
          "data": {
            "image/png": "[encoded data removed]",
            "text/plain": [
              "<Figure size 1000x800 with 1 Axes>"
            ]
          },
          "metadata": {},
          "output_type": "display_data"
        }
      ],
      "source": [
        "# Plot the data values in the new basis.\n",
        "x=transformed_data[:,1]\n",
        "y=transformed_data[:,0]\n",
        "x.shape, y.shape # 20 data each\n",
        "\n",
        "plt.figure(figsize=(10,8))\n",
        "plt.title(\"Plot of Transformed Data\")\n",
        "plt.scatter(x,y)\n",
        "plt.xlabel(\"PCA1\")\n",
        "plt.ylabel(\"PCA2\")\n",
        "plt.axis('equal')\n",
        "plt.show()"
      ]
    },
    {
      "cell_type": "code",
      "execution_count": 16,
      "metadata": {
        "colab": {
          "base_uri": "https://localhost:8080/"
        },
        "id": "Lr93E8h2KA4q",
        "outputId": "bf9b2e3c-6727-4bb3-a22f-063aa7bb7688"
      },
      "outputs": [
        {
          "data": {
            "text/plain": [
              "array([[ 1.36357823e-02, -1.65123959e-18],\n",
              "       [-1.65123959e-18,  1.66374319e+00]])"
            ]
          },
          "execution_count": 16,
          "metadata": {},
          "output_type": "execute_result"
        }
      ],
      "source": [
        "# Calculate the new covariance matrix.\n",
        "new_cov_matrix = np.cov(transformed_data, rowvar=False)\n",
        "new_cov_matrix"
      ]
    },
    {
      "cell_type": "code",
      "execution_count": 17,
      "metadata": {
        "colab": {
          "base_uri": "https://localhost:8080/"
        },
        "id": "IKmH8bfkKb9v",
        "outputId": "918ba077-c648-478b-8203-bbe9e57dbb19"
      },
      "outputs": [
        {
          "data": {
            "text/plain": [
              "((20,),\n",
              " array([ 1.47967041,  1.92100802,  0.80315533,  0.59702114,  0.14990719,\n",
              "         0.89542761,  0.61058476,  0.49925979,  0.95676218, -0.24147971,\n",
              "        -1.46972539,  0.21384234,  0.83084497, -0.06926733,  1.89685628,\n",
              "         0.31687115, -1.71423761, -0.16363115,  1.53504737, -0.44173171]))"
            ]
          },
          "execution_count": 17,
          "metadata": {},
          "output_type": "execute_result"
        }
      ],
      "source": [
        "# Change of basis (using only one eigenvector as new basis)\n",
        "reduced_transformed_data = np.dot(transformed_data, vector[1])\n",
        "reduced_transformed_data.shape, reduced_transformed_data # Reduced to 1D"
      ]
    },
    {
      "cell_type": "code",
      "execution_count": 32,
      "metadata": {
        "colab": {
          "base_uri": "https://localhost:8080/",
          "height": 718
        },
        "id": "GoH2U7pxLHWz",
        "outputId": "e02bb774-19e5-476e-84ee-40da219507cf"
      },
      "outputs": [
        {
          "data": {
            "image/png": "[encoded data removed]",
            "text/plain": [
              "<Figure size 1000x800 with 1 Axes>"
            ]
          },
          "metadata": {},
          "output_type": "display_data"
        }
      ],
      "source": [
        "# Plot the data values in the new basis.\n",
        "plt.figure(figsize=(10,8))\n",
        "plt.title(\"Plot of sample values in 1D using PCA1\")\n",
        "plt.scatter(reduced_transformed_data, np.zeros_like(reduced_transformed_data))\n",
        "plt.xlabel(\"PCA1\")\n",
        "# plt.ylabel(\"Y\")\n",
        "# plt.axis(\"equal\")\n",
        "plt.show()"
      ]
    },
    {
      "cell_type": "code",
      "execution_count": null,
      "metadata": {},
      "outputs": [],
      "source": []
    }
  ],
  "metadata": {
    "colab": {
      "provenance": []
    },
    "kernelspec": {
      "display_name": "base",
      "language": "python",
      "name": "python3"
    },
    "language_info": {
      "codemirror_mode": {
        "name": "ipython",
        "version": 3
      },
      "file_extension": ".py",
      "mimetype": "text/x-python",
      "name": "python",
      "nbconvert_exporter": "python",
      "pygments_lexer": "ipython3",
      "version": "3.12.0"
    }
  },
  "nbformat": 4,
  "nbformat_minor": 0
}
