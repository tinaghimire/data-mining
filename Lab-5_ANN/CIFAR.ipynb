{
 "cells": [
  {
   "cell_type": "code",
   "execution_count": 237,
   "metadata": {},
   "outputs": [
    {
     "name": "stdout",
     "output_type": "stream",
     "text": [
      "^C\n",
      "Note: you may need to restart the kernel to use updated packages.\n"
     ]
    },
    {
     "ename": "ImportError",
     "evalue": "cannot import name 'pywrap_tensorflow' from 'tensorflow.python' (c:\\Users\\ghimi\\AppData\\Local\\Programs\\Python\\Python312\\Lib\\site-packages\\tensorflow\\python\\__init__.py)",
     "output_type": "error",
     "traceback": [
      "\u001b[1;31m---------------------------------------------------------------------------\u001b[0m",
      "\u001b[1;31mImportError\u001b[0m                               Traceback (most recent call last)",
      "Cell \u001b[1;32mIn[237], line 2\u001b[0m\n\u001b[0;32m      1\u001b[0m get_ipython()\u001b[38;5;241m.\u001b[39mrun_line_magic(\u001b[38;5;124m'\u001b[39m\u001b[38;5;124mpip\u001b[39m\u001b[38;5;124m'\u001b[39m, \u001b[38;5;124m'\u001b[39m\u001b[38;5;124minstall tensorflow\u001b[39m\u001b[38;5;124m'\u001b[39m)\n\u001b[1;32m----> 2\u001b[0m \u001b[38;5;28;01mfrom\u001b[39;00m \u001b[38;5;21;01mtensorflow\u001b[39;00m\u001b[38;5;21;01m.\u001b[39;00m\u001b[38;5;21;01mkeras\u001b[39;00m\u001b[38;5;21;01m.\u001b[39;00m\u001b[38;5;21;01mdatasets\u001b[39;00m \u001b[38;5;28;01mimport\u001b[39;00m cifar10\n",
      "File \u001b[1;32mc:\\Users\\ghimi\\AppData\\Local\\Programs\\Python\\Python312\\Lib\\site-packages\\tensorflow\\__init__.py:38\u001b[0m\n\u001b[0;32m     35\u001b[0m \u001b[38;5;28;01mimport\u001b[39;00m \u001b[38;5;21;01msys\u001b[39;00m \u001b[38;5;28;01mas\u001b[39;00m \u001b[38;5;21;01m_sys\u001b[39;00m\n\u001b[0;32m     37\u001b[0m \u001b[38;5;66;03m# Do not remove this line; See https://github.com/tensorflow/tensorflow/issues/42596\u001b[39;00m\n\u001b[1;32m---> 38\u001b[0m \u001b[38;5;28;01mfrom\u001b[39;00m \u001b[38;5;21;01mtensorflow\u001b[39;00m\u001b[38;5;21;01m.\u001b[39;00m\u001b[38;5;21;01mpython\u001b[39;00m \u001b[38;5;28;01mimport\u001b[39;00m pywrap_tensorflow \u001b[38;5;28;01mas\u001b[39;00m _pywrap_tensorflow  \u001b[38;5;66;03m# pylint: disable=unused-import\u001b[39;00m\n\u001b[0;32m     39\u001b[0m \u001b[38;5;28;01mfrom\u001b[39;00m \u001b[38;5;21;01mtensorflow\u001b[39;00m\u001b[38;5;21;01m.\u001b[39;00m\u001b[38;5;21;01mpython\u001b[39;00m\u001b[38;5;21;01m.\u001b[39;00m\u001b[38;5;21;01mtools\u001b[39;00m \u001b[38;5;28;01mimport\u001b[39;00m module_util \u001b[38;5;28;01mas\u001b[39;00m _module_util\n\u001b[0;32m     40\u001b[0m \u001b[38;5;28;01mfrom\u001b[39;00m \u001b[38;5;21;01mtensorflow\u001b[39;00m\u001b[38;5;21;01m.\u001b[39;00m\u001b[38;5;21;01mpython\u001b[39;00m\u001b[38;5;21;01m.\u001b[39;00m\u001b[38;5;21;01mutil\u001b[39;00m\u001b[38;5;21;01m.\u001b[39;00m\u001b[38;5;21;01mlazy_loader\u001b[39;00m \u001b[38;5;28;01mimport\u001b[39;00m KerasLazyLoader \u001b[38;5;28;01mas\u001b[39;00m _KerasLazyLoader\n",
      "\u001b[1;31mImportError\u001b[0m: cannot import name 'pywrap_tensorflow' from 'tensorflow.python' (c:\\Users\\ghimi\\AppData\\Local\\Programs\\Python\\Python312\\Lib\\site-packages\\tensorflow\\python\\__init__.py)"
     ]
    }
   ],
   "source": [
    "%pip install tensorflow\n",
    "from tensorflow.keras.datasets import cifar10"
   ]
  },
  {
   "cell_type": "code",
   "execution_count": 234,
   "metadata": {},
   "outputs": [
    {
     "ename": "NameError",
     "evalue": "name 'cifar10' is not defined",
     "output_type": "error",
     "traceback": [
      "\u001b[1;31m---------------------------------------------------------------------------\u001b[0m",
      "\u001b[1;31mNameError\u001b[0m                                 Traceback (most recent call last)",
      "Cell \u001b[1;32mIn[234], line 1\u001b[0m\n\u001b[1;32m----> 1\u001b[0m (X_train, y_train), (X_test, y_test) \u001b[38;5;241m=\u001b[39m \u001b[43mcifar10\u001b[49m\u001b[38;5;241m.\u001b[39mload_data()\n",
      "\u001b[1;31mNameError\u001b[0m: name 'cifar10' is not defined"
     ]
    }
   ],
   "source": [
    "(X_train, y_train), (X_test, y_test) = cifar10.load_data()"
   ]
  },
  {
   "cell_type": "code",
   "execution_count": 219,
   "metadata": {},
   "outputs": [
    {
     "data": {
      "text/plain": [
       "((50000, 3072), (50000,))"
      ]
     },
     "execution_count": 219,
     "metadata": {},
     "output_type": "execute_result"
    }
   ],
   "source": [
    "file_paths = [\n",
    "    r\"C:\\Users\\ghimi\\OneDrive\\Documents\\lab\\Data_Mining\\Lab-5_ANN\\cifar-10-batches-py\\data_batch_1\",\n",
    "    r\"C:\\Users\\ghimi\\OneDrive\\Documents\\lab\\Data_Mining\\Lab-5_ANN\\cifar-10-batches-py\\data_batch_2\",\n",
    "    r\"C:\\Users\\ghimi\\OneDrive\\Documents\\lab\\Data_Mining\\Lab-5_ANN\\cifar-10-batches-py\\data_batch_3\",\n",
    "    r\"C:\\Users\\ghimi\\OneDrive\\Documents\\lab\\Data_Mining\\Lab-5_ANN\\cifar-10-batches-py\\data_batch_4\",\n",
    "    r\"C:\\Users\\ghimi\\OneDrive\\Documents\\lab\\Data_Mining\\Lab-5_ANN\\cifar-10-batches-py\\data_batch_5\"\n",
    "]\n",
    "\n",
    "data_list = []\n",
    "labels_list = []\n",
    "\n",
    "for file_path in file_paths:\n",
    "    # Load the data\n",
    "    data_dict = unpickle(file_path)\n",
    "    \n",
    "    # Extract 'data' and 'labels'\n",
    "    data_array = np.array(data_dict[b'data'])\n",
    "    labels = np.array(data_dict[b'labels'])\n",
    "    \n",
    "    # Append to lists\n",
    "    data_list.append(data_array)\n",
    "    labels_list.append(labels)\n",
    "\n",
    "# Concatenate all arrays\n",
    "X_train = np.concatenate(data_list, axis=0)\n",
    "y_train = np.concatenate(labels_list, axis=0)\n",
    "\n",
    "X_train.shape, y_train.shape\n"
   ]
  },
  {
   "cell_type": "code",
   "execution_count": 218,
   "metadata": {},
   "outputs": [
    {
     "data": {
      "text/plain": [
       "((10000, 3072), (10000,))"
      ]
     },
     "execution_count": 218,
     "metadata": {},
     "output_type": "execute_result"
    }
   ],
   "source": [
    "data = unpickle(r\"C:\\Users\\ghimi\\OneDrive\\Documents\\lab\\Data_Mining\\Lab-5_ANN\\cifar-10-batches-py\\test_batch\")\n",
    "X_test = np.array(data[b'data'])\n",
    "y_test = np.array(data[b'labels'])\n",
    "\n",
    "X_test.shape, y_test.shape"
   ]
  },
  {
   "cell_type": "code",
   "execution_count": 129,
   "metadata": {},
   "outputs": [],
   "source": [
    "# 1. Load dataset\n",
    "# train = pd.read_csv(\".\\\\CIFAR-10\\\\train.csv\")\n",
    "\n",
    "class_labels = ['airplane', 'automobile', 'bird', 'cat', 'deer', 'dog', 'frog', 'horse', 'ship', 'truck'] # 0 - airplane, 9 - truck"
   ]
  },
  {
   "cell_type": "code",
   "execution_count": 222,
   "metadata": {},
   "outputs": [
    {
     "data": {
      "text/plain": [
       "(3072, 50000)"
      ]
     },
     "execution_count": 222,
     "metadata": {},
     "output_type": "execute_result"
    }
   ],
   "source": [
    "X_train.shape"
   ]
  },
  {
   "cell_type": "code",
   "execution_count": 223,
   "metadata": {},
   "outputs": [
    {
     "data": {
      "text/plain": [
       "((10000, 3072), (10000,))"
      ]
     },
     "execution_count": 223,
     "metadata": {},
     "output_type": "execute_result"
    }
   ],
   "source": [
    "X_test = X_test.T\n",
    "X_test_scaled = X_test/255\n",
    "\n",
    "X_test.shape, y_test.shape "
   ]
  },
  {
   "cell_type": "code",
   "execution_count": 231,
   "metadata": {},
   "outputs": [
    {
     "data": {
      "text/plain": [
       "((50000, 3072), (50000,))"
      ]
     },
     "execution_count": 231,
     "metadata": {},
     "output_type": "execute_result"
    }
   ],
   "source": [
    "X_train = X_train.T\n",
    "X_train = X_train / 255\n",
    "\n",
    "X_train.shape, y_train.shape "
   ]
  },
  {
   "cell_type": "code",
   "execution_count": 233,
   "metadata": {},
   "outputs": [
    {
     "name": "stdout",
     "output_type": "stream",
     "text": [
      "(32, 32, 3)\n"
     ]
    },
    {
     "data": {
      "image/png": "[encoded data removed]",
      "text/plain": [
       "<Figure size 300x300 with 1 Axes>"
      ]
     },
     "metadata": {},
     "output_type": "display_data"
    }
   ],
   "source": [
    "index = np.random.randint(0, len(X_train))\n",
    "\n",
    "new_img =  X_train[index]  \n",
    "new_img = new_img.reshape(32,32,3)\n",
    "print(new_img.shape) \n",
    "# plt.figimage(new_img)\n",
    "plt.figure(figsize=(3,3))\n",
    "plt.imshow(new_img) \n",
    "plt.axis(\"off\")\n",
    "plt.show()"
   ]
  },
  {
   "cell_type": "code",
   "execution_count": 62,
   "metadata": {},
   "outputs": [],
   "source": [
    "def kaiming_normal(w_shape):\n",
    "    n_input = w_shape[1]\n",
    "    var = 2.0 / n_input\n",
    "    sd = np.sqrt(var)\n",
    "    return np.random.normal(0, sd, size = w_shape)"
   ]
  },
  {
   "cell_type": "code",
   "execution_count": 63,
   "metadata": {},
   "outputs": [
    {
     "data": {
      "text/plain": [
       "array([[ 0.00925707, -0.01182521,  0.07950398, ..., -0.05712916,\n",
       "        -0.01004061,  0.04295494],\n",
       "       [ 0.04632933,  0.01984781, -0.04155681, ..., -0.03196539,\n",
       "        -0.10402469, -0.02583548],\n",
       "       [ 0.18370535,  0.00292043, -0.01027423, ..., -0.14686686,\n",
       "         0.0060496 ,  0.01183088],\n",
       "       ...,\n",
       "       [ 0.0078487 , -0.07369176, -0.05471001, ...,  0.02713474,\n",
       "        -0.03569581, -0.08357005],\n",
       "       [-0.03154196, -0.06350561,  0.07310521, ..., -0.03435042,\n",
       "         0.07001726,  0.07736996],\n",
       "       [-0.04864935,  0.04516457, -0.04718643, ...,  0.02457078,\n",
       "        -0.01893666, -0.00115035]])"
      ]
     },
     "execution_count": 63,
     "metadata": {},
     "output_type": "execute_result"
    }
   ],
   "source": [
    "def initial_params():    \n",
    "    W1 = kaiming_normal((512,784))\n",
    "    W2 = kaiming_normal((128,512))\n",
    "    W3 = kaiming_normal((10,128))\n",
    "    b1 = np.random.normal(0, 1, size=(512,1))\n",
    "    b2 = np.random.normal(0, 1, size=(128,1))\n",
    "    b3 = np.random.normal(0, 1, size=(10,1))\n",
    "\n",
    "    # print(W1.shape, W2.shape, b1.shape, b2.shape)\n",
    "    return W1, b1, W2, b2, W3, b3\n",
    "\n",
    "_, _, W2, _, _, _  = initial_params()\n",
    "W2[:100]"
   ]
  },
  {
   "cell_type": "code",
   "execution_count": 64,
   "metadata": {},
   "outputs": [
    {
     "data": {
      "text/plain": [
       "(array([[ 0.37700599],\n",
       "        [-0.30988893],\n",
       "        [-0.26211368],\n",
       "        [-0.24089361],\n",
       "        [-0.39546297],\n",
       "        [-0.33914058],\n",
       "        [ 0.06237394],\n",
       "        [-0.49283226],\n",
       "        [-0.27406423],\n",
       "        [-0.35030625]]),\n",
       " array([[ 0.37700599],\n",
       "        [-0.00309889],\n",
       "        [-0.00262114],\n",
       "        [-0.00240894],\n",
       "        [-0.00395463],\n",
       "        [-0.00339141],\n",
       "        [ 0.06237394],\n",
       "        [-0.00492832],\n",
       "        [-0.00274064],\n",
       "        [-0.00350306]]))"
      ]
     },
     "execution_count": 64,
     "metadata": {},
     "output_type": "execute_result"
    }
   ],
   "source": [
    "def LeakyReLU_fn(vector, alpha=0.01):\n",
    "    return np.where(vector > 0, vector, alpha * vector)\n",
    "\n",
    "# Example usage\n",
    "vector = np.random.uniform(low=-0.5, high=0.5, size=(10,1))\n",
    "leaky_relu = LeakyReLU_fn(vector)\n",
    "\n",
    "vector, leaky_relu"
   ]
  },
  {
   "cell_type": "code",
   "execution_count": 65,
   "metadata": {},
   "outputs": [
    {
     "data": {
      "text/plain": [
       "(array([[ 0.28693239],\n",
       "        [ 0.46891183],\n",
       "        [-0.21177232],\n",
       "        [ 0.12514177],\n",
       "        [-0.15401148],\n",
       "        [-0.42789229],\n",
       "        [-0.08614569],\n",
       "        [ 0.29872256],\n",
       "        [ 0.03216592],\n",
       "        [-0.10938453]]),\n",
       " array([[1.  ],\n",
       "        [1.  ],\n",
       "        [0.01],\n",
       "        [1.  ],\n",
       "        [0.01],\n",
       "        [0.01],\n",
       "        [0.01],\n",
       "        [1.  ],\n",
       "        [1.  ],\n",
       "        [0.01]]))"
      ]
     },
     "execution_count": 65,
     "metadata": {},
     "output_type": "execute_result"
    }
   ],
   "source": [
    "def d_LeakyReLU(vector, alpha=0.01):\n",
    "    return np.where(vector > 0, 1.0, alpha)\n",
    "\n",
    "\n",
    "vector = np.random.uniform(low=-0.5, high=0.5, size=(10,1))\n",
    "d_leaky_relu = d_LeakyReLU(vector)\n",
    "\n",
    "vector, d_leaky_relu"
   ]
  },
  {
   "cell_type": "code",
   "execution_count": 66,
   "metadata": {},
   "outputs": [
    {
     "data": {
      "text/plain": [
       "array([-0.03874859, -0.17651747, -0.2898168 , -0.34894475, -0.34542793,\n",
       "        0.17277914, -0.20804188,  0.00126703, -0.12143501, -0.46650158,\n",
       "        0.        ])"
      ]
     },
     "execution_count": 66,
     "metadata": {},
     "output_type": "execute_result"
    }
   ],
   "source": [
    "vector = np.random.uniform(low=-0.5, high=0.5, size=(10,1))\n",
    "vector = np.append(vector, [0.00000])\n",
    "vector"
   ]
  },
  {
   "cell_type": "code",
   "execution_count": 67,
   "metadata": {},
   "outputs": [
    {
     "data": {
      "text/plain": [
       "(-0.5, 0.5)"
      ]
     },
     "execution_count": 67,
     "metadata": {},
     "output_type": "execute_result"
    },
    {
     "data": {
      "image/png": "[encoded data removed]",
      "text/plain": [
       "<Figure size 640x480 with 1 Axes>"
      ]
     },
     "metadata": {},
     "output_type": "display_data"
    }
   ],
   "source": [
    "leaky_relu = LeakyReLU_fn(vector)\n",
    "d_leaky_relu = d_LeakyReLU(vector)\n",
    "\n",
    "plt.scatter(vector, leaky_relu, c='blue')\n",
    "plt.scatter(vector, d_leaky_relu, c='green')\n",
    "plt.ylim(0.0, 1.1)\n",
    "plt.xlim(-0.5, 0.5)"
   ]
  },
  {
   "cell_type": "code",
   "execution_count": 68,
   "metadata": {},
   "outputs": [
    {
     "data": {
      "text/plain": [
       "(array([[-0.31114558],\n",
       "        [-0.16470195],\n",
       "        [-0.34057315],\n",
       "        [ 0.29391439],\n",
       "        [-0.19998352],\n",
       "        [-0.49191382],\n",
       "        [-0.15538583],\n",
       "        [-0.00747857],\n",
       "        [-0.36229555],\n",
       "        [ 0.31520704]]),\n",
       " array([[0.42283514],\n",
       "        [0.45891734],\n",
       "        [0.41567026],\n",
       "        [0.57295417],\n",
       "        [0.45017008],\n",
       "        [0.37944282],\n",
       "        [0.46123152],\n",
       "        [0.49813037],\n",
       "        [0.41040399],\n",
       "        [0.57815573]]))"
      ]
     },
     "execution_count": 68,
     "metadata": {},
     "output_type": "execute_result"
    }
   ],
   "source": [
    "def sigmoid(vector):\n",
    "    return 1 / (1 + np.exp(-vector))\n",
    "\n",
    "vector = np.random.uniform(low=-0.5, high=0.5, size=(10,1))\n",
    "sigm = sigmoid(vector)\n",
    "vector, sigm"
   ]
  },
  {
   "cell_type": "code",
   "execution_count": 69,
   "metadata": {},
   "outputs": [],
   "source": [
    "# def df_softmax(vector):\n",
    "#     d_softmax = softmax_fn(vector) * (1 - softmax_fn(vector))\n",
    "\n",
    "#     return d_softmax\n",
    "\n",
    "# vector = np.random.uniform(low=-0.5, high=0.5, size=(10,1))\n",
    "# d_softmax = softmax_fn(vector)\n",
    "# vector, d_softmax"
   ]
  },
  {
   "cell_type": "code",
   "execution_count": 70,
   "metadata": {},
   "outputs": [
    {
     "data": {
      "text/plain": [
       "<matplotlib.collections.PathCollection at 0x1eb43448fb0>"
      ]
     },
     "execution_count": 70,
     "metadata": {},
     "output_type": "execute_result"
    },
    {
     "data": {
      "image/png": "[encoded data removed]",
      "text/plain": [
       "<Figure size 640x480 with 1 Axes>"
      ]
     },
     "metadata": {},
     "output_type": "display_data"
    }
   ],
   "source": [
    "vector = np.random.uniform(low=-0.5, high=0.5, size=(10,1))\n",
    "vector = np.append(vector, [0.00000, -0.5, 0.5])\n",
    "vector\n",
    "\n",
    "sigm = sigmoid(vector)\n",
    "# d_softmax = df_softmax(vector)\n",
    "\n",
    "plt.scatter(vector, sigm, c='blue')\n",
    "# plt.scatter(vector, d_softmax, c='green')\n"
   ]
  },
  {
   "cell_type": "code",
   "execution_count": 71,
   "metadata": {},
   "outputs": [],
   "source": [
    "def forward_prop(W1, b1, W2, b2, W3, b3, A0):\n",
    "    Z1 = np.dot(W1, A0) + b1\n",
    "    A1 = LeakyReLU_fn(Z1)\n",
    "\n",
    "    Z2 = np.dot(W2, A1) + b2\n",
    "    A2 = LeakyReLU_fn(Z2)\n",
    "\n",
    "    Z3 = np.dot(W3, A2) + b3\n",
    "    A3 = sigmoid(Z3)\n",
    "\n",
    "    return Z1, A1, Z2, A2, Z3, A3"
   ]
  },
  {
   "cell_type": "code",
   "execution_count": 72,
   "metadata": {},
   "outputs": [
    {
     "data": {
      "text/plain": [
       "(10, 1000)"
      ]
     },
     "execution_count": 72,
     "metadata": {},
     "output_type": "execute_result"
    }
   ],
   "source": [
    "# One hot encoding\n",
    "def one_hot_encoding(Y, num_classes):\n",
    "    num_classes = int(num_classes)  # Ensure num_classes is an integer\n",
    "    encoded_mat = np.zeros((num_classes, len(Y)))\n",
    "    for i in range(len(Y)):\n",
    "        class_index = int(Y[i])\n",
    "        encoded_mat[class_index, i] = 1\n",
    "    return encoded_mat\n",
    "\n",
    "y_train = one_hot_encoding(y_train, num_classes=10)\n",
    "y_train.shape\n",
    "y_test = one_hot_encoding(y_test, num_classes=10)\n",
    "y_test.shape\n"
   ]
  },
  {
   "cell_type": "code",
   "execution_count": 73,
   "metadata": {},
   "outputs": [],
   "source": [
    "# Backward propagation\n",
    "def backward_prop(Z1, A1, Z2, A2, W1, W2, A3, Z3, W3, A0, y_train, lambda_reg):\n",
    "    m = A0.shape[1]\n",
    "    dZ3 = A3 - y_train\n",
    "    dZ2 = np.dot(W3.T, dZ3) * d_LeakyReLU(Z2)\n",
    "    dZ1 = np.dot(W2.T, dZ2) * d_LeakyReLU(Z1)\n",
    "\n",
    "    dW1 = (1 / m) * np.dot(dZ1, A0.T) + (lambda_reg / m) * W1\n",
    "    dW2 = (1 / m) * np.dot(dZ2, A1.T) + (lambda_reg / m) * W2\n",
    "    dW3 = (1 / m) * np.dot(dZ3, A2.T) + (lambda_reg / m) * W3\n",
    "    db1 = (1 / m) * np.sum(dZ1, axis=1, keepdims=True)\n",
    "    db2 = (1 / m) * np.sum(dZ2, axis=1, keepdims=True)\n",
    "    db3 = (1 / m) * np.sum(dZ3, axis=1, keepdims=True)\n",
    "\n",
    "    return dW1, db1, dW2, db2, dW3, db3"
   ]
  },
  {
   "cell_type": "code",
   "execution_count": 74,
   "metadata": {},
   "outputs": [],
   "source": [
    "def update_parameters(W1, b1, W2, b2, W3, b3, dW1, db1, dW2, db2, dW3, db3, learning_rate= 0.01):\n",
    "    W1 = W1 - learning_rate * dW1\n",
    "    b1 = b1 - learning_rate * db1\n",
    "    W2 = W2 - learning_rate * dW2\n",
    "    b2 = b2 - learning_rate * db2\n",
    "    W3 = W3 - learning_rate * dW3\n",
    "    b3 = b3 - learning_rate * db3       \n",
    "\n",
    "    return W1, b1, W2, b2, W3, b3"
   ]
  },
  {
   "cell_type": "code",
   "execution_count": 75,
   "metadata": {},
   "outputs": [],
   "source": [
    "def obtain_predictions(vector):  # Corrected parameter name\n",
    "    return np.argmax(vector, axis=0)\n"
   ]
  },
  {
   "cell_type": "code",
   "execution_count": 76,
   "metadata": {},
   "outputs": [
    {
     "name": "stdout",
     "output_type": "stream",
     "text": [
      "Requirement already satisfied: scikit-learn in c:\\users\\ghimi\\appdata\\local\\programs\\python\\python312\\lib\\site-packages (1.5.1)Note: you may need to restart the kernel to use updated packages.\n",
      "\n",
      "Requirement already satisfied: numpy>=1.19.5 in c:\\users\\ghimi\\appdata\\local\\programs\\python\\python312\\lib\\site-packages (from scikit-learn) (1.26.1)\n",
      "Requirement already satisfied: scipy>=1.6.0 in c:\\users\\ghimi\\appdata\\local\\programs\\python\\python312\\lib\\site-packages (from scikit-learn) (1.14.0)\n",
      "Requirement already satisfied: joblib>=1.2.0 in c:\\users\\ghimi\\appdata\\local\\programs\\python\\python312\\lib\\site-packages (from scikit-learn) (1.3.2)\n",
      "Requirement already satisfied: threadpoolctl>=3.1.0 in c:\\users\\ghimi\\appdata\\local\\programs\\python\\python312\\lib\\site-packages (from scikit-learn) (3.5.0)\n"
     ]
    },
    {
     "name": "stderr",
     "output_type": "stream",
     "text": [
      "\n",
      "[notice] A new release of pip is available: 23.3.2 -> 24.1.2\n",
      "[notice] To update, run: python.exe -m pip install --upgrade pip\n"
     ]
    }
   ],
   "source": [
    "%pip install scikit-learn\n",
    "from sklearn.metrics import accuracy_score"
   ]
  },
  {
   "cell_type": "code",
   "execution_count": 77,
   "metadata": {},
   "outputs": [],
   "source": [
    "def accuracy_sc(y_pred, y_actual): # Vectors  \n",
    "    num_samples = y_actual.shape[1]\n",
    "\n",
    "    if y_pred.ndim ==2:\n",
    "        pred_label = obtain_predictions(y_pred)\n",
    "    else:\n",
    "        pred_label = y_pred\n",
    "        \n",
    "    if y_actual.ndim == 2:\n",
    "        actual_label = obtain_predictions(y_actual)\n",
    "    else:\n",
    "        actual_label = y_actual\n",
    "    \n",
    "    num_correct = np.sum(pred_label == actual_label)\n",
    "    # print(num_correct)\n",
    "    return num_correct / num_samples"
   ]
  },
  {
   "cell_type": "code",
   "execution_count": 78,
   "metadata": {},
   "outputs": [
    {
     "data": {
      "text/plain": [
       "(10, 41000)"
      ]
     },
     "execution_count": 78,
     "metadata": {},
     "output_type": "execute_result"
    }
   ],
   "source": [
    "y_train.shape"
   ]
  },
  {
   "cell_type": "code",
   "execution_count": 79,
   "metadata": {},
   "outputs": [],
   "source": [
    "def gradient_descent(X_train, y_train, learning_rate, num_iterations, lambda_reg):\n",
    "    W1, b1, W2, b2, W3, b3 = initial_params()\n",
    "\n",
    "    accuracy_list = []\n",
    "\n",
    "    for i in range(num_iterations+1):\n",
    "        Z1, A1, Z2, A2, Z3, A3 = forward_prop(W1, b1, W2, b2, W3, b3, X_train)\n",
    "        dW1, db1, dW2, db2, dW3, db3 = backward_prop(Z1, A1, Z2, A2, W1, W2, A3, Z3, W3, X_train, y_train, lambda_reg)\n",
    "        W1, b1, W2, b2, W3, b3 = update_parameters(W1, b1, W2, b2, W3, b3, dW1, db1, dW2, db2, dW3, db3, learning_rate)\n",
    "\n",
    "        if i%5==0:\n",
    "            accuracy = accuracy_sc(A3,y_train)\n",
    "            accuracy_list.append((i,accuracy))\n",
    "            print(f\"Iteration: {i} \\t Accuracy: {accuracy:.5f}\")\n",
    "\n",
    "    return W1, b1, W2, b2, W3, b3, accuracy_list"
   ]
  },
  {
   "cell_type": "code",
   "execution_count": 80,
   "metadata": {},
   "outputs": [],
   "source": [
    "def make_prediction(X_test, W1, b1, W2, b2, W3, b3):\n",
    "    Z1, A1, Z2, A2, Z3, A3 = forward_prop(W1, b1, W2, b2, W3, b3, X_test) \n",
    "    pred = obtain_predictions(A3)\n",
    "    return pred    "
   ]
  },
  {
   "cell_type": "code",
   "execution_count": 81,
   "metadata": {},
   "outputs": [],
   "source": [
    "def plot_image(image):\n",
    "    X_test_2d = image.reshape(28,-1)\n",
    "    print(X_test_2d.shape)\n",
    "    plt.imshow(X_test_2d) \n",
    "    plt.axis('off')\n",
    "    plt.show()"
   ]
  },
  {
   "cell_type": "code",
   "execution_count": 82,
   "metadata": {},
   "outputs": [
    {
     "name": "stdout",
     "output_type": "stream",
     "text": [
      "Iteration: 0 \t Accuracy: 0.09934\n",
      "Iteration: 5 \t Accuracy: 0.09932\n",
      "Iteration: 10 \t Accuracy: 0.09890\n",
      "Iteration: 15 \t Accuracy: 0.10198\n",
      "Iteration: 20 \t Accuracy: 0.10700\n",
      "Iteration: 25 \t Accuracy: 0.11024\n",
      "Iteration: 30 \t Accuracy: 0.11132\n"
     ]
    }
   ],
   "source": [
    "W1, b1, W2, b2, W3, b3, accuracy_list = gradient_descent(X_train, y_train, learning_rate=0.001, num_iterations=5000, lambda_reg=0.02)"
   ]
  },
  {
   "cell_type": "code",
   "execution_count": null,
   "metadata": {},
   "outputs": [],
   "source": [
    "iterations, accuracies = zip(*accuracy_list)\n",
    "\n",
    "plt.figure(figsize=(10, 6))\n",
    "plt.plot(iterations, accuracies, marker='o', linestyle='-', color='b')\n",
    "plt.title('Accuracy vs. Iteration')\n",
    "plt.xlabel('Iteration')\n",
    "plt.ylabel('Accuracy')\n",
    "plt.grid(True)\n",
    "plt.show()"
   ]
  },
  {
   "cell_type": "code",
   "execution_count": null,
   "metadata": {},
   "outputs": [],
   "source": [
    "def test_predictions(W1, b1, W2, b2, W3, b3, X_test, y_test):\n",
    "    test = make_prediction(X_test, W1, b1, W2, b2, W3, b3)\n",
    "    image = X_test.T\n",
    "    print(test.shape)\n",
    "    accuracy = accuracy_sc(test, y_test)\n",
    "    print(f\"Accuracy:{accuracy}\")\n",
    "    y_test_label = obtain_predictions(y_test)\n",
    "    for i in range(10):\n",
    "        print(test[i], y_test_label[i])\n",
    "        print(image[i].shape)\n",
    "        plot_image(image[i])"
   ]
  },
  {
   "cell_type": "code",
   "execution_count": null,
   "metadata": {},
   "outputs": [],
   "source": [
    "test_predictions(W1, b1, W2, b2, W3, b3, X_test, y_test)"
   ]
  }
 ],
 "metadata": {
  "kernelspec": {
   "display_name": "Python 3",
   "language": "python",
   "name": "python3"
  },
  "language_info": {
   "codemirror_mode": {
    "name": "ipython",
    "version": 3
   },
   "file_extension": ".py",
   "mimetype": "text/x-python",
   "name": "python",
   "nbconvert_exporter": "python",
   "pygments_lexer": "ipython3",
   "version": "3.12.0"
  }
 },
 "nbformat": 4,
 "nbformat_minor": 2
}
