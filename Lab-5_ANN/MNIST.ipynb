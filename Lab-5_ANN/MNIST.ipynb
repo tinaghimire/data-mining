{
 "cells": [
  {
   "cell_type": "code",
   "execution_count": 6,
   "metadata": {},
   "outputs": [],
   "source": [
    "import matplotlib.pyplot as plt\n",
    "import numpy as np\n",
    "import pandas as pd"
   ]
  },
  {
   "cell_type": "code",
   "execution_count": 7,
   "metadata": {},
   "outputs": [
    {
     "data": {
      "text/html": [
       "<div>\n",
       "<style scoped>\n",
       "    .dataframe tbody tr th:only-of-type {\n",
       "        vertical-align: middle;\n",
       "    }\n",
       "\n",
       "    .dataframe tbody tr th {\n",
       "        vertical-align: top;\n",
       "    }\n",
       "\n",
       "    .dataframe thead th {\n",
       "        text-align: right;\n",
       "    }\n",
       "</style>\n",
       "<table border=\"1\" class=\"dataframe\">\n",
       "  <thead>\n",
       "    <tr style=\"text-align: right;\">\n",
       "      <th></th>\n",
       "      <th>label</th>\n",
       "      <th>pixel0</th>\n",
       "      <th>pixel1</th>\n",
       "      <th>pixel2</th>\n",
       "      <th>pixel3</th>\n",
       "      <th>pixel4</th>\n",
       "      <th>pixel5</th>\n",
       "      <th>pixel6</th>\n",
       "      <th>pixel7</th>\n",
       "      <th>pixel8</th>\n",
       "      <th>...</th>\n",
       "      <th>pixel774</th>\n",
       "      <th>pixel775</th>\n",
       "      <th>pixel776</th>\n",
       "      <th>pixel777</th>\n",
       "      <th>pixel778</th>\n",
       "      <th>pixel779</th>\n",
       "      <th>pixel780</th>\n",
       "      <th>pixel781</th>\n",
       "      <th>pixel782</th>\n",
       "      <th>pixel783</th>\n",
       "    </tr>\n",
       "  </thead>\n",
       "  <tbody>\n",
       "    <tr>\n",
       "      <th>0</th>\n",
       "      <td>1</td>\n",
       "      <td>0</td>\n",
       "      <td>0</td>\n",
       "      <td>0</td>\n",
       "      <td>0</td>\n",
       "      <td>0</td>\n",
       "      <td>0</td>\n",
       "      <td>0</td>\n",
       "      <td>0</td>\n",
       "      <td>0</td>\n",
       "      <td>...</td>\n",
       "      <td>0</td>\n",
       "      <td>0</td>\n",
       "      <td>0</td>\n",
       "      <td>0</td>\n",
       "      <td>0</td>\n",
       "      <td>0</td>\n",
       "      <td>0</td>\n",
       "      <td>0</td>\n",
       "      <td>0</td>\n",
       "      <td>0</td>\n",
       "    </tr>\n",
       "    <tr>\n",
       "      <th>1</th>\n",
       "      <td>0</td>\n",
       "      <td>0</td>\n",
       "      <td>0</td>\n",
       "      <td>0</td>\n",
       "      <td>0</td>\n",
       "      <td>0</td>\n",
       "      <td>0</td>\n",
       "      <td>0</td>\n",
       "      <td>0</td>\n",
       "      <td>0</td>\n",
       "      <td>...</td>\n",
       "      <td>0</td>\n",
       "      <td>0</td>\n",
       "      <td>0</td>\n",
       "      <td>0</td>\n",
       "      <td>0</td>\n",
       "      <td>0</td>\n",
       "      <td>0</td>\n",
       "      <td>0</td>\n",
       "      <td>0</td>\n",
       "      <td>0</td>\n",
       "    </tr>\n",
       "    <tr>\n",
       "      <th>2</th>\n",
       "      <td>1</td>\n",
       "      <td>0</td>\n",
       "      <td>0</td>\n",
       "      <td>0</td>\n",
       "      <td>0</td>\n",
       "      <td>0</td>\n",
       "      <td>0</td>\n",
       "      <td>0</td>\n",
       "      <td>0</td>\n",
       "      <td>0</td>\n",
       "      <td>...</td>\n",
       "      <td>0</td>\n",
       "      <td>0</td>\n",
       "      <td>0</td>\n",
       "      <td>0</td>\n",
       "      <td>0</td>\n",
       "      <td>0</td>\n",
       "      <td>0</td>\n",
       "      <td>0</td>\n",
       "      <td>0</td>\n",
       "      <td>0</td>\n",
       "    </tr>\n",
       "    <tr>\n",
       "      <th>3</th>\n",
       "      <td>4</td>\n",
       "      <td>0</td>\n",
       "      <td>0</td>\n",
       "      <td>0</td>\n",
       "      <td>0</td>\n",
       "      <td>0</td>\n",
       "      <td>0</td>\n",
       "      <td>0</td>\n",
       "      <td>0</td>\n",
       "      <td>0</td>\n",
       "      <td>...</td>\n",
       "      <td>0</td>\n",
       "      <td>0</td>\n",
       "      <td>0</td>\n",
       "      <td>0</td>\n",
       "      <td>0</td>\n",
       "      <td>0</td>\n",
       "      <td>0</td>\n",
       "      <td>0</td>\n",
       "      <td>0</td>\n",
       "      <td>0</td>\n",
       "    </tr>\n",
       "    <tr>\n",
       "      <th>4</th>\n",
       "      <td>0</td>\n",
       "      <td>0</td>\n",
       "      <td>0</td>\n",
       "      <td>0</td>\n",
       "      <td>0</td>\n",
       "      <td>0</td>\n",
       "      <td>0</td>\n",
       "      <td>0</td>\n",
       "      <td>0</td>\n",
       "      <td>0</td>\n",
       "      <td>...</td>\n",
       "      <td>0</td>\n",
       "      <td>0</td>\n",
       "      <td>0</td>\n",
       "      <td>0</td>\n",
       "      <td>0</td>\n",
       "      <td>0</td>\n",
       "      <td>0</td>\n",
       "      <td>0</td>\n",
       "      <td>0</td>\n",
       "      <td>0</td>\n",
       "    </tr>\n",
       "  </tbody>\n",
       "</table>\n",
       "<p>5 rows × 785 columns</p>\n",
       "</div>"
      ],
      "text/plain": [
       "   label  pixel0  pixel1  pixel2  pixel3  pixel4  pixel5  pixel6  pixel7  \\\n",
       "0      1       0       0       0       0       0       0       0       0   \n",
       "1      0       0       0       0       0       0       0       0       0   \n",
       "2      1       0       0       0       0       0       0       0       0   \n",
       "3      4       0       0       0       0       0       0       0       0   \n",
       "4      0       0       0       0       0       0       0       0       0   \n",
       "\n",
       "   pixel8  ...  pixel774  pixel775  pixel776  pixel777  pixel778  pixel779  \\\n",
       "0       0  ...         0         0         0         0         0         0   \n",
       "1       0  ...         0         0         0         0         0         0   \n",
       "2       0  ...         0         0         0         0         0         0   \n",
       "3       0  ...         0         0         0         0         0         0   \n",
       "4       0  ...         0         0         0         0         0         0   \n",
       "\n",
       "   pixel780  pixel781  pixel782  pixel783  \n",
       "0         0         0         0         0  \n",
       "1         0         0         0         0  \n",
       "2         0         0         0         0  \n",
       "3         0         0         0         0  \n",
       "4         0         0         0         0  \n",
       "\n",
       "[5 rows x 785 columns]"
      ]
     },
     "execution_count": 7,
     "metadata": {},
     "output_type": "execute_result"
    }
   ],
   "source": [
    "df = pd.read_csv('digit_data.csv')\n",
    "df.head()"
   ]
  },
  {
   "cell_type": "code",
   "execution_count": 8,
   "metadata": {},
   "outputs": [
    {
     "data": {
      "text/plain": [
       "array([[1, 0, 0, ..., 0, 0, 0],\n",
       "       [0, 0, 0, ..., 0, 0, 0],\n",
       "       [1, 0, 0, ..., 0, 0, 0],\n",
       "       ...,\n",
       "       [7, 0, 0, ..., 0, 0, 0],\n",
       "       [6, 0, 0, ..., 0, 0, 0],\n",
       "       [9, 0, 0, ..., 0, 0, 0]], dtype=int64)"
      ]
     },
     "execution_count": 8,
     "metadata": {},
     "output_type": "execute_result"
    }
   ],
   "source": [
    "data = np.array(df)\n",
    "data"
   ]
  },
  {
   "cell_type": "code",
   "execution_count": 9,
   "metadata": {},
   "outputs": [
    {
     "data": {
      "text/plain": [
       "(42000, 785)"
      ]
     },
     "execution_count": 9,
     "metadata": {},
     "output_type": "execute_result"
    }
   ],
   "source": [
    "data_shape = data.shape\n",
    "data_count = data_shape[0]\n",
    "features = data_shape[1]\n",
    "\n",
    "data_count, features"
   ]
  },
  {
   "cell_type": "code",
   "execution_count": 10,
   "metadata": {},
   "outputs": [],
   "source": [
    "np.random.shuffle(data)"
   ]
  },
  {
   "cell_type": "code",
   "execution_count": 11,
   "metadata": {},
   "outputs": [],
   "source": [
    "y = data[:1000]\n",
    "X = data[1000:]"
   ]
  },
  {
   "cell_type": "code",
   "execution_count": 12,
   "metadata": {},
   "outputs": [
    {
     "data": {
      "text/plain": [
       "((1000, 785), (999, 785), (785,))"
      ]
     },
     "execution_count": 12,
     "metadata": {},
     "output_type": "execute_result"
    }
   ],
   "source": [
    "# For test set\n",
    "y_T = y.T\n",
    "X_test = y[1:]\n",
    "y_test = y[0]\n",
    "\n",
    "y.shape, X_test.shape, y_test.shape "
   ]
  },
  {
   "cell_type": "code",
   "execution_count": 13,
   "metadata": {},
   "outputs": [
    {
     "data": {
      "text/plain": [
       "array([[8, 0, 0, ..., 0, 0, 0],\n",
       "       [7, 0, 0, ..., 0, 0, 0],\n",
       "       [9, 0, 0, ..., 0, 0, 0],\n",
       "       ...,\n",
       "       [1, 0, 0, ..., 0, 0, 0],\n",
       "       [9, 0, 0, ..., 0, 0, 0],\n",
       "       [2, 0, 0, ..., 0, 0, 0]], dtype=int64)"
      ]
     },
     "execution_count": 13,
     "metadata": {},
     "output_type": "execute_result"
    }
   ],
   "source": [
    "X_test"
   ]
  },
  {
   "cell_type": "code",
   "execution_count": 14,
   "metadata": {},
   "outputs": [
    {
     "data": {
      "text/plain": [
       "(255, 5543)"
      ]
     },
     "execution_count": 14,
     "metadata": {},
     "output_type": "execute_result"
    }
   ],
   "source": [
    "maxi = 0\n",
    "count = 0\n",
    "\n",
    "for X_in in X_test:\n",
    "    if maxi < max(X_in):\n",
    "        maxi = max(X_in)\n",
    "\n",
    "for X_in in X_test:\n",
    "    for X_elem in X_in:\n",
    "        if X_elem == maxi:\n",
    "            count += 1\n",
    "\n",
    "maxi, count"
   ]
  },
  {
   "cell_type": "code",
   "execution_count": 15,
   "metadata": {},
   "outputs": [
    {
     "data": {
      "text/plain": [
       "array([[0.03137255, 0.        , 0.        , ..., 0.        , 0.        ,\n",
       "        0.        ],\n",
       "       [0.02745098, 0.        , 0.        , ..., 0.        , 0.        ,\n",
       "        0.        ],\n",
       "       [0.03529412, 0.        , 0.        , ..., 0.        , 0.        ,\n",
       "        0.        ],\n",
       "       ...,\n",
       "       [0.00392157, 0.        , 0.        , ..., 0.        , 0.        ,\n",
       "        0.        ],\n",
       "       [0.03529412, 0.        , 0.        , ..., 0.        , 0.        ,\n",
       "        0.        ],\n",
       "       [0.00784314, 0.        , 0.        , ..., 0.        , 0.        ,\n",
       "        0.        ]])"
      ]
     },
     "execution_count": 15,
     "metadata": {},
     "output_type": "execute_result"
    }
   ],
   "source": [
    "divide_X_test = X_test / 255 # Color normalize\n",
    "divide_X_test"
   ]
  },
  {
   "cell_type": "code",
   "execution_count": 16,
   "metadata": {},
   "outputs": [
    {
     "data": {
      "text/plain": [
       "array([20211])"
      ]
     },
     "execution_count": 16,
     "metadata": {},
     "output_type": "execute_result"
    }
   ],
   "source": [
    "index = np.random.randint(0, len(X),1)\n",
    "index"
   ]
  },
  {
   "cell_type": "code",
   "execution_count": 17,
   "metadata": {},
   "outputs": [
    {
     "data": {
      "text/plain": [
       "(41000, 785)"
      ]
     },
     "execution_count": 17,
     "metadata": {},
     "output_type": "execute_result"
    }
   ],
   "source": [
    "X.shape"
   ]
  },
  {
   "cell_type": "code",
   "execution_count": 18,
   "metadata": {},
   "outputs": [
    {
     "data": {
      "text/plain": [
       "(1, 785)"
      ]
     },
     "execution_count": 18,
     "metadata": {},
     "output_type": "execute_result"
    }
   ],
   "source": [
    "X[index].shape"
   ]
  },
  {
   "cell_type": "code",
   "execution_count": 19,
   "metadata": {},
   "outputs": [
    {
     "data": {
      "text/plain": [
       "(28, 28)"
      ]
     },
     "execution_count": 19,
     "metadata": {},
     "output_type": "execute_result"
    }
   ],
   "source": [
    "new_img = X[index,:-1]\n",
    "new_img.shape\n",
    "\n",
    "new_image = new_img.reshape(28,-1)\n",
    "new_image.shape"
   ]
  },
  {
   "cell_type": "code",
   "execution_count": 20,
   "metadata": {},
   "outputs": [
    {
     "data": {
      "image/png": "[encoded data removed]",
      "text/plain": [
       "<Figure size 640x480 with 1 Axes>"
      ]
     },
     "metadata": {},
     "output_type": "display_data"
    }
   ],
   "source": [
    "# X_test_2d = new_img.reshape(28,-1)\n",
    "# X_test_2d.shape\n",
    "plt.imshow(new_image) \n",
    "plt.axis('off')\n",
    "plt.show()"
   ]
  },
  {
   "cell_type": "code",
   "execution_count": 21,
   "metadata": {},
   "outputs": [
    {
     "data": {
      "text/plain": [
       "array([[-0.17770899, -0.01691247, -0.33314575, -0.01207657,  0.21426945,\n",
       "         0.44464319, -0.41322341,  0.21940054, -0.35604575,  0.23014887],\n",
       "       [ 0.19195447,  0.29044338, -0.32834343, -0.4614796 , -0.15393353,\n",
       "         0.08941055, -0.42011384,  0.12308453,  0.15146105,  0.31016341],\n",
       "       [ 0.31488338, -0.08125915, -0.11639424,  0.31701672, -0.35641738,\n",
       "        -0.2489451 ,  0.13190666,  0.09472986,  0.21241221,  0.33883667],\n",
       "       [ 0.29674004,  0.26671449,  0.13410376,  0.14199657, -0.05725042,\n",
       "        -0.06590685,  0.40311285,  0.03335116,  0.37849748, -0.02906267],\n",
       "       [-0.09443536, -0.19107363,  0.14292382,  0.27403804, -0.03702292,\n",
       "         0.42564275,  0.28194141,  0.48359386, -0.31323944,  0.18850408],\n",
       "       [ 0.33558957, -0.33760247, -0.3673052 ,  0.19253288,  0.38597174,\n",
       "         0.45579934,  0.23079131,  0.02062318, -0.08834736, -0.02781641],\n",
       "       [ 0.08406735,  0.18944776, -0.01405568, -0.03283766, -0.12446734,\n",
       "        -0.23826215, -0.07896034, -0.09293064, -0.44339893,  0.00288906],\n",
       "       [-0.12536944,  0.45102874,  0.12235861,  0.15817815, -0.27842952,\n",
       "        -0.24446131,  0.15427492,  0.38761787,  0.32409825,  0.23800911],\n",
       "       [-0.37986163,  0.05520146, -0.35428757,  0.20151332, -0.34118588,\n",
       "        -0.23157037, -0.4619567 , -0.38497008,  0.4742684 , -0.27478418],\n",
       "       [ 0.04851187,  0.28587207, -0.32659998, -0.07910766, -0.34854663,\n",
       "        -0.36954383, -0.4183928 ,  0.20095827,  0.01133604, -0.2344608 ]])"
      ]
     },
     "execution_count": 21,
     "metadata": {},
     "output_type": "execute_result"
    }
   ],
   "source": [
    "def initial_params():    \n",
    "    W1 = np.random.uniform(low=-0.5, high=0.5, size=(10,784))\n",
    "    W2 = np.random.uniform(low=-0.5, high=0.5, size=(10,10))\n",
    "    b1 = np.random.uniform(low=-0.5, high=0.5, size=(10,1))\n",
    "    b2 = np.random.uniform(low=-0.5, high=0.5, size=(10,1))\n",
    "\n",
    "    # print(W1.shape, W2.shape, b1.shape, b2.shape)\n",
    "    return W1, b1, W2, b2\n",
    "\n",
    "_, _, W2, _ = initial_params()\n",
    "W2[:100]"
   ]
  },
  {
   "cell_type": "code",
   "execution_count": 22,
   "metadata": {},
   "outputs": [
    {
     "data": {
      "text/plain": [
       "array([[0.        ],\n",
       "       [0.47598818],\n",
       "       [0.        ],\n",
       "       [0.40556871],\n",
       "       [0.        ],\n",
       "       [0.        ],\n",
       "       [0.29237469],\n",
       "       [0.        ],\n",
       "       [0.242543  ],\n",
       "       [0.        ]])"
      ]
     },
     "execution_count": 22,
     "metadata": {},
     "output_type": "execute_result"
    }
   ],
   "source": [
    "def ReLU_fn(vector):\n",
    "    relu = np.empty(shape=vector.shape)\n",
    "    for i in range(len(vector)):\n",
    "        if vector[i] >= 0.0:\n",
    "            relu[i] = vector[i]\n",
    "        else:\n",
    "            relu[i] = 0.0\n",
    "\n",
    "    return relu\n",
    "\n",
    "vector = np.random.uniform(low=-0.5, high=0.5, size=(10,1))\n",
    "relu = ReLU_fn(vector)\n",
    "relu"
   ]
  },
  {
   "cell_type": "code",
   "execution_count": 23,
   "metadata": {},
   "outputs": [
    {
     "data": {
      "text/plain": [
       "array([[0.],\n",
       "       [0.],\n",
       "       [1.],\n",
       "       [1.],\n",
       "       [0.],\n",
       "       [1.],\n",
       "       [1.],\n",
       "       [1.],\n",
       "       [1.],\n",
       "       [1.]])"
      ]
     },
     "execution_count": 23,
     "metadata": {},
     "output_type": "execute_result"
    }
   ],
   "source": [
    "def d_ReLU(vector):\n",
    "    relu = np.empty(shape=vector.shape)\n",
    "    for i in range(len(vector)):\n",
    "        if vector[i] >= 0.0:\n",
    "            relu[i] = 1.0\n",
    "        else:\n",
    "            relu[i] = 0.0\n",
    "\n",
    "    return relu\n",
    "\n",
    "vector = np.random.uniform(low=-0.5, high=0.5, size=(10,1))\n",
    "relu = d_ReLU(vector)\n",
    "relu"
   ]
  },
  {
   "cell_type": "code",
   "execution_count": null,
   "metadata": {},
   "outputs": [],
   "source": []
  },
  {
   "cell_type": "code",
   "execution_count": 24,
   "metadata": {},
   "outputs": [
    {
     "data": {
      "text/plain": [
       "array([-0.04960465,  0.00237028,  0.27388453, -0.2998402 ,  0.38442177,\n",
       "        0.17708221, -0.48386886, -0.37653578, -0.32561895,  0.41992916,\n",
       "        0.        ])"
      ]
     },
     "execution_count": 24,
     "metadata": {},
     "output_type": "execute_result"
    }
   ],
   "source": [
    "vector = np.random.uniform(low=-0.5, high=0.5, size=(10,1))\n",
    "vector = np.append(vector, [0.00000])\n",
    "vector"
   ]
  },
  {
   "cell_type": "code",
   "execution_count": 25,
   "metadata": {},
   "outputs": [
    {
     "data": {
      "text/plain": [
       "(-0.5, 0.5)"
      ]
     },
     "execution_count": 25,
     "metadata": {},
     "output_type": "execute_result"
    },
    {
     "data": {
      "image/png": "[encoded data removed]",
      "text/plain": [
       "<Figure size 640x480 with 1 Axes>"
      ]
     },
     "metadata": {},
     "output_type": "display_data"
    }
   ],
   "source": [
    "relu = ReLU_fn(vector)\n",
    "d_relu = d_ReLU(vector)\n",
    "\n",
    "plt.scatter(vector, relu, c='blue')\n",
    "plt.scatter(vector, d_relu, c='green')\n",
    "plt.ylim(0.0, 1.1)\n",
    "plt.xlim(-0.5, 0.5)"
   ]
  },
  {
   "cell_type": "code",
   "execution_count": 26,
   "metadata": {},
   "outputs": [
    {
     "data": {
      "text/plain": [
       "(array([[ 0.33470715],\n",
       "        [-0.12512747],\n",
       "        [-0.42783864],\n",
       "        [-0.31242612],\n",
       "        [-0.24847124],\n",
       "        [ 0.34581177],\n",
       "        [ 0.48791805],\n",
       "        [ 0.23294794],\n",
       "        [ 0.16804718],\n",
       "        [-0.34302683]]),\n",
       " array([[0.58290426],\n",
       "        [0.46875888],\n",
       "        [0.39464256],\n",
       "        [0.42252266],\n",
       "        [0.43819981],\n",
       "        [0.58560158],\n",
       "        [0.61961586],\n",
       "        [0.55797505],\n",
       "        [0.54191321],\n",
       "        [0.41507441]]))"
      ]
     },
     "execution_count": 26,
     "metadata": {},
     "output_type": "execute_result"
    }
   ],
   "source": [
    "def softmax_fn(vector):\n",
    "    softmax = np.zeros(shape= vector.shape)\n",
    "    for i in range(len(vector)):\n",
    "        softmax[i] = 1 / (1+np.exp(-vector[i]))\n",
    "\n",
    "    return softmax\n",
    "\n",
    "vector = np.random.uniform(low=-0.5, high=0.5, size=(10,1))\n",
    "softmax = softmax_fn(vector)\n",
    "vector, softmax"
   ]
  },
  {
   "cell_type": "code",
   "execution_count": 27,
   "metadata": {},
   "outputs": [
    {
     "data": {
      "text/plain": [
       "(array([[ 0.15648551],\n",
       "        [-0.32699941],\n",
       "        [-0.37442844],\n",
       "        [-0.04618879],\n",
       "        [-0.33395574],\n",
       "        [-0.13567785],\n",
       "        [-0.49916801],\n",
       "        [ 0.12610235],\n",
       "        [-0.41019149],\n",
       "        [ 0.3800889 ]]),\n",
       " array([[0.53904174],\n",
       "        [0.41897089],\n",
       "        [0.40747139],\n",
       "        [0.48845485],\n",
       "        [0.41727844],\n",
       "        [0.46613247],\n",
       "        [0.37773621],\n",
       "        [0.53148388],\n",
       "        [0.39886621],\n",
       "        [0.59389455]]))"
      ]
     },
     "execution_count": 27,
     "metadata": {},
     "output_type": "execute_result"
    }
   ],
   "source": [
    "def df_softmax(vector):\n",
    "    d_softmax = np.zeros(shape= vector.shape)\n",
    "    for i in range(len(vector)):\n",
    "        expon = np.exp(-i)\n",
    "        d_softmax[i] = expon / np.power(1+expon, 2)\n",
    "\n",
    "    return d_softmax\n",
    "\n",
    "vector = np.random.uniform(low=-0.5, high=0.5, size=(10,1))\n",
    "d_softmax = softmax_fn(vector)\n",
    "vector, d_softmax"
   ]
  },
  {
   "cell_type": "code",
   "execution_count": 28,
   "metadata": {},
   "outputs": [
    {
     "data": {
      "text/plain": [
       "(-0.5, 0.5)"
      ]
     },
     "execution_count": 28,
     "metadata": {},
     "output_type": "execute_result"
    },
    {
     "data": {
      "image/png": "[encoded data removed]",
      "text/plain": [
       "<Figure size 640x480 with 1 Axes>"
      ]
     },
     "metadata": {},
     "output_type": "display_data"
    }
   ],
   "source": [
    "vector = np.random.uniform(low=-0.5, high=0.5, size=(10,1))\n",
    "vector = np.append(vector, [0.00000])\n",
    "vector\n",
    "\n",
    "softmax = softmax_fn(vector)\n",
    "d_softmax = df_softmax(vector)\n",
    "\n",
    "plt.scatter(vector, softmax, c='blue')\n",
    "# plt.scatter(vector, d_softmax, c='green')\n",
    "plt.ylim(0.0, 1.1)\n",
    "plt.xlim(-0.5, 0.5)\n"
   ]
  },
  {
   "cell_type": "code",
   "execution_count": 29,
   "metadata": {},
   "outputs": [],
   "source": [
    "# %pip install torch"
   ]
  },
  {
   "cell_type": "code",
   "execution_count": 30,
   "metadata": {},
   "outputs": [
    {
     "ename": "ModuleNotFoundError",
     "evalue": "No module named 'torch'",
     "output_type": "error",
     "traceback": [
      "\u001b[1;31m---------------------------------------------------------------------------\u001b[0m",
      "\u001b[1;31mModuleNotFoundError\u001b[0m                       Traceback (most recent call last)",
      "Cell \u001b[1;32mIn[30], line 1\u001b[0m\n\u001b[1;32m----> 1\u001b[0m \u001b[38;5;28;01mimport\u001b[39;00m \u001b[38;5;21;01mtorch\u001b[39;00m\n",
      "\u001b[1;31mModuleNotFoundError\u001b[0m: No module named 'torch'"
     ]
    }
   ],
   "source": [
    "# torch"
   ]
  },
  {
   "cell_type": "code",
   "execution_count": 31,
   "metadata": {},
   "outputs": [
    {
     "data": {
      "text/plain": [
       "[<matplotlib.lines.Line2D at 0x26451bda5a0>]"
      ]
     },
     "execution_count": 31,
     "metadata": {},
     "output_type": "execute_result"
    },
    {
     "data": {
      "image/png": "[encoded data removed]",
      "text/plain": [
       "<Figure size 640x480 with 1 Axes>"
      ]
     },
     "metadata": {},
     "output_type": "display_data"
    }
   ],
   "source": [
    "plt.plot(vector, softmax)"
   ]
  },
  {
   "cell_type": "code",
   "execution_count": 34,
   "metadata": {},
   "outputs": [],
   "source": [
    "def forward_prop(W1, b1, W2, b2, A0):\n",
    "    Z1 = np.matmul(W1, A0) + b1\n",
    "    A1 = ReLU_fn(Z1)\n",
    "\n",
    "    Z2 = np.matmul(W2, A1) + b2\n",
    "    A2 = softmax_fn(Z2)\n",
    "\n",
    "    return Z1, A1, Z2, A2"
   ]
  },
  {
   "cell_type": "code",
   "execution_count": null,
   "metadata": {},
   "outputs": [],
   "source": [
    "def one_hot_encoding(Y):\n",
    "    if Y "
   ]
  }
 ],
 "metadata": {
  "kernelspec": {
   "display_name": "Python 3",
   "language": "python",
   "name": "python3"
  },
  "language_info": {
   "codemirror_mode": {
    "name": "ipython",
    "version": 3
   },
   "file_extension": ".py",
   "mimetype": "text/x-python",
   "name": "python",
   "nbconvert_exporter": "python",
   "pygments_lexer": "ipython3",
   "version": "3.12.0"
  }
 },
 "nbformat": 4,
 "nbformat_minor": 2
}
