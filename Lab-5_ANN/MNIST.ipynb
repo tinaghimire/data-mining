{
 "cells": [
  {
   "cell_type": "code",
   "execution_count": 2,
   "metadata": {},
   "outputs": [],
   "source": [
    "import matplotlib.pyplot as plt\n",
    "import numpy as np\n",
    "import pandas as pd"
   ]
  },
  {
   "cell_type": "code",
   "execution_count": 3,
   "metadata": {},
   "outputs": [
    {
     "data": {
      "text/html": [
       "<div>\n",
       "<style scoped>\n",
       "    .dataframe tbody tr th:only-of-type {\n",
       "        vertical-align: middle;\n",
       "    }\n",
       "\n",
       "    .dataframe tbody tr th {\n",
       "        vertical-align: top;\n",
       "    }\n",
       "\n",
       "    .dataframe thead th {\n",
       "        text-align: right;\n",
       "    }\n",
       "</style>\n",
       "<table border=\"1\" class=\"dataframe\">\n",
       "  <thead>\n",
       "    <tr style=\"text-align: right;\">\n",
       "      <th></th>\n",
       "      <th>label</th>\n",
       "      <th>pixel0</th>\n",
       "      <th>pixel1</th>\n",
       "      <th>pixel2</th>\n",
       "      <th>pixel3</th>\n",
       "      <th>pixel4</th>\n",
       "      <th>pixel5</th>\n",
       "      <th>pixel6</th>\n",
       "      <th>pixel7</th>\n",
       "      <th>pixel8</th>\n",
       "      <th>...</th>\n",
       "      <th>pixel774</th>\n",
       "      <th>pixel775</th>\n",
       "      <th>pixel776</th>\n",
       "      <th>pixel777</th>\n",
       "      <th>pixel778</th>\n",
       "      <th>pixel779</th>\n",
       "      <th>pixel780</th>\n",
       "      <th>pixel781</th>\n",
       "      <th>pixel782</th>\n",
       "      <th>pixel783</th>\n",
       "    </tr>\n",
       "  </thead>\n",
       "  <tbody>\n",
       "    <tr>\n",
       "      <th>0</th>\n",
       "      <td>1</td>\n",
       "      <td>0</td>\n",
       "      <td>0</td>\n",
       "      <td>0</td>\n",
       "      <td>0</td>\n",
       "      <td>0</td>\n",
       "      <td>0</td>\n",
       "      <td>0</td>\n",
       "      <td>0</td>\n",
       "      <td>0</td>\n",
       "      <td>...</td>\n",
       "      <td>0</td>\n",
       "      <td>0</td>\n",
       "      <td>0</td>\n",
       "      <td>0</td>\n",
       "      <td>0</td>\n",
       "      <td>0</td>\n",
       "      <td>0</td>\n",
       "      <td>0</td>\n",
       "      <td>0</td>\n",
       "      <td>0</td>\n",
       "    </tr>\n",
       "    <tr>\n",
       "      <th>1</th>\n",
       "      <td>0</td>\n",
       "      <td>0</td>\n",
       "      <td>0</td>\n",
       "      <td>0</td>\n",
       "      <td>0</td>\n",
       "      <td>0</td>\n",
       "      <td>0</td>\n",
       "      <td>0</td>\n",
       "      <td>0</td>\n",
       "      <td>0</td>\n",
       "      <td>...</td>\n",
       "      <td>0</td>\n",
       "      <td>0</td>\n",
       "      <td>0</td>\n",
       "      <td>0</td>\n",
       "      <td>0</td>\n",
       "      <td>0</td>\n",
       "      <td>0</td>\n",
       "      <td>0</td>\n",
       "      <td>0</td>\n",
       "      <td>0</td>\n",
       "    </tr>\n",
       "    <tr>\n",
       "      <th>2</th>\n",
       "      <td>1</td>\n",
       "      <td>0</td>\n",
       "      <td>0</td>\n",
       "      <td>0</td>\n",
       "      <td>0</td>\n",
       "      <td>0</td>\n",
       "      <td>0</td>\n",
       "      <td>0</td>\n",
       "      <td>0</td>\n",
       "      <td>0</td>\n",
       "      <td>...</td>\n",
       "      <td>0</td>\n",
       "      <td>0</td>\n",
       "      <td>0</td>\n",
       "      <td>0</td>\n",
       "      <td>0</td>\n",
       "      <td>0</td>\n",
       "      <td>0</td>\n",
       "      <td>0</td>\n",
       "      <td>0</td>\n",
       "      <td>0</td>\n",
       "    </tr>\n",
       "    <tr>\n",
       "      <th>3</th>\n",
       "      <td>4</td>\n",
       "      <td>0</td>\n",
       "      <td>0</td>\n",
       "      <td>0</td>\n",
       "      <td>0</td>\n",
       "      <td>0</td>\n",
       "      <td>0</td>\n",
       "      <td>0</td>\n",
       "      <td>0</td>\n",
       "      <td>0</td>\n",
       "      <td>...</td>\n",
       "      <td>0</td>\n",
       "      <td>0</td>\n",
       "      <td>0</td>\n",
       "      <td>0</td>\n",
       "      <td>0</td>\n",
       "      <td>0</td>\n",
       "      <td>0</td>\n",
       "      <td>0</td>\n",
       "      <td>0</td>\n",
       "      <td>0</td>\n",
       "    </tr>\n",
       "    <tr>\n",
       "      <th>4</th>\n",
       "      <td>0</td>\n",
       "      <td>0</td>\n",
       "      <td>0</td>\n",
       "      <td>0</td>\n",
       "      <td>0</td>\n",
       "      <td>0</td>\n",
       "      <td>0</td>\n",
       "      <td>0</td>\n",
       "      <td>0</td>\n",
       "      <td>0</td>\n",
       "      <td>...</td>\n",
       "      <td>0</td>\n",
       "      <td>0</td>\n",
       "      <td>0</td>\n",
       "      <td>0</td>\n",
       "      <td>0</td>\n",
       "      <td>0</td>\n",
       "      <td>0</td>\n",
       "      <td>0</td>\n",
       "      <td>0</td>\n",
       "      <td>0</td>\n",
       "    </tr>\n",
       "  </tbody>\n",
       "</table>\n",
       "<p>5 rows × 785 columns</p>\n",
       "</div>"
      ],
      "text/plain": [
       "   label  pixel0  pixel1  pixel2  pixel3  pixel4  pixel5  pixel6  pixel7  \\\n",
       "0      1       0       0       0       0       0       0       0       0   \n",
       "1      0       0       0       0       0       0       0       0       0   \n",
       "2      1       0       0       0       0       0       0       0       0   \n",
       "3      4       0       0       0       0       0       0       0       0   \n",
       "4      0       0       0       0       0       0       0       0       0   \n",
       "\n",
       "   pixel8  ...  pixel774  pixel775  pixel776  pixel777  pixel778  pixel779  \\\n",
       "0       0  ...         0         0         0         0         0         0   \n",
       "1       0  ...         0         0         0         0         0         0   \n",
       "2       0  ...         0         0         0         0         0         0   \n",
       "3       0  ...         0         0         0         0         0         0   \n",
       "4       0  ...         0         0         0         0         0         0   \n",
       "\n",
       "   pixel780  pixel781  pixel782  pixel783  \n",
       "0         0         0         0         0  \n",
       "1         0         0         0         0  \n",
       "2         0         0         0         0  \n",
       "3         0         0         0         0  \n",
       "4         0         0         0         0  \n",
       "\n",
       "[5 rows x 785 columns]"
      ]
     },
     "execution_count": 3,
     "metadata": {},
     "output_type": "execute_result"
    }
   ],
   "source": [
    "# 1. Load dataset\n",
    "df = pd.read_csv('digit_data.csv')\n",
    "df.head()"
   ]
  },
  {
   "cell_type": "code",
   "execution_count": 4,
   "metadata": {},
   "outputs": [
    {
     "data": {
      "text/plain": [
       "array([[1, 0, 0, ..., 0, 0, 0],\n",
       "       [0, 0, 0, ..., 0, 0, 0],\n",
       "       [1, 0, 0, ..., 0, 0, 0],\n",
       "       ...,\n",
       "       [7, 0, 0, ..., 0, 0, 0],\n",
       "       [6, 0, 0, ..., 0, 0, 0],\n",
       "       [9, 0, 0, ..., 0, 0, 0]], dtype=int64)"
      ]
     },
     "execution_count": 4,
     "metadata": {},
     "output_type": "execute_result"
    }
   ],
   "source": [
    "# 2. Convert the data given in the dataFrame into a NumPy array\n",
    "data = np.array(df)\n",
    "data"
   ]
  },
  {
   "cell_type": "code",
   "execution_count": 5,
   "metadata": {},
   "outputs": [
    {
     "data": {
      "text/plain": [
       "(42000, 785)"
      ]
     },
     "execution_count": 5,
     "metadata": {},
     "output_type": "execute_result"
    }
   ],
   "source": [
    "# 3. Query the shape of the array\n",
    "data_shape = data.shape\n",
    "data_count = data_shape[0]\n",
    "features = data_shape[1]\n",
    "\n",
    "data_count, features"
   ]
  },
  {
   "cell_type": "code",
   "execution_count": 6,
   "metadata": {},
   "outputs": [],
   "source": [
    "# 4. Shuffle the contents of the array \n",
    "np.random.shuffle(data)"
   ]
  },
  {
   "cell_type": "code",
   "execution_count": 7,
   "metadata": {},
   "outputs": [],
   "source": [
    "# 5. Use first 1000 images of the dataset as the test set and remaining as the train set\n",
    "test = data[:1000]\n",
    "train = data[1000:]"
   ]
  },
  {
   "cell_type": "code",
   "execution_count": 8,
   "metadata": {},
   "outputs": [
    {
     "data": {
      "text/plain": [
       "((785, 1000), (784, 1000), (1000,))"
      ]
     },
     "execution_count": 8,
     "metadata": {},
     "output_type": "execute_result"
    }
   ],
   "source": [
    "# For test set -- Transpose the data (Take rows as the labels of the test set and rows as the features)\n",
    "test = test.T\n",
    "X_test = test[1:, :]\n",
    "y_test = test[0,:]\n",
    "X_test = X_test / 255 # Color normalization\n",
    "\n",
    "\n",
    "test.shape, X_test.shape, y_test.shape "
   ]
  },
  {
   "cell_type": "code",
   "execution_count": 9,
   "metadata": {},
   "outputs": [
    {
     "data": {
      "text/plain": [
       "((785, 41000), (784, 41000), (41000,))"
      ]
     },
     "execution_count": 9,
     "metadata": {},
     "output_type": "execute_result"
    }
   ],
   "source": [
    "# For train set -- Transpose the data (Take rows as the labels and rows as the features)\n",
    "train = train.T\n",
    "X_train = train[1:, :]\n",
    "y_train = train[0]\n",
    "\n",
    "X_train = X_train / 255\n",
    "\n",
    "train.shape, X_train.shape, y_train.shape "
   ]
  },
  {
   "cell_type": "code",
   "execution_count": 10,
   "metadata": {},
   "outputs": [
    {
     "data": {
      "text/plain": [
       "array([70])"
      ]
     },
     "execution_count": 10,
     "metadata": {},
     "output_type": "execute_result"
    }
   ],
   "source": [
    "# Generate a random index in the range dedicated for training images\n",
    "index = np.random.randint(0, len(train),1)\n",
    "index"
   ]
  },
  {
   "cell_type": "code",
   "execution_count": 11,
   "metadata": {},
   "outputs": [
    {
     "data": {
      "text/plain": [
       "(785, 41000)"
      ]
     },
     "execution_count": 11,
     "metadata": {},
     "output_type": "execute_result"
    }
   ],
   "source": [
    "train.shape"
   ]
  },
  {
   "cell_type": "code",
   "execution_count": 12,
   "metadata": {},
   "outputs": [
    {
     "data": {
      "text/plain": [
       "(1, 41000)"
      ]
     },
     "execution_count": 12,
     "metadata": {},
     "output_type": "execute_result"
    }
   ],
   "source": [
    "train[index].shape"
   ]
  },
  {
   "cell_type": "code",
   "execution_count": 13,
   "metadata": {},
   "outputs": [
    {
     "data": {
      "text/plain": [
       "(28, 28)"
      ]
     },
     "execution_count": 13,
     "metadata": {},
     "output_type": "execute_result"
    }
   ],
   "source": [
    "train_ = train.T\n",
    "new_img = train_[index, :-1]\n",
    "new_img.shape\n",
    "\n",
    "new_image = new_img.reshape(28,-1)\n",
    "new_image.shape"
   ]
  },
  {
   "cell_type": "code",
   "execution_count": 14,
   "metadata": {},
   "outputs": [
    {
     "data": {
      "image/png": "[encoded data removed]",
      "text/plain": [
       "<Figure size 640x480 with 1 Axes>"
      ]
     },
     "metadata": {},
     "output_type": "display_data"
    }
   ],
   "source": [
    "# X_test_2d = new_img.reshape(28,-1)\n",
    "# X_test_2d.shape\n",
    "plt.imshow(new_image) \n",
    "plt.axis('off')\n",
    "plt.show()"
   ]
  },
  {
   "cell_type": "code",
   "execution_count": 15,
   "metadata": {},
   "outputs": [
    {
     "data": {
      "text/plain": [
       "array([[ 0.44314841, -0.39733444,  0.10503931, -0.2166332 ,  0.06243067,\n",
       "         0.08704518,  0.48338016,  0.49494418,  0.12356843, -0.23909955],\n",
       "       [ 0.27164121,  0.4355622 ,  0.4439486 , -0.37439391,  0.49188731,\n",
       "         0.27783037,  0.34087809, -0.44918668, -0.35977666,  0.40023518],\n",
       "       [ 0.08062851, -0.08847159,  0.31441042, -0.14280093,  0.44471988,\n",
       "        -0.28675427,  0.42030066,  0.30053649,  0.30518301, -0.25498065],\n",
       "       [ 0.26904516,  0.48098335,  0.46705344, -0.49502535, -0.33015393,\n",
       "        -0.04229857,  0.29027528, -0.23713321, -0.13918691,  0.48640465],\n",
       "       [ 0.07601528, -0.06738177,  0.22263947,  0.19837409, -0.11003674,\n",
       "        -0.05910006, -0.13174047, -0.33072078, -0.45811499,  0.31739084],\n",
       "       [ 0.39974963, -0.32929784, -0.06610813, -0.15105559, -0.36891276,\n",
       "         0.01346338,  0.29602982,  0.23659062, -0.37531941,  0.39989562],\n",
       "       [ 0.36234829, -0.07530395, -0.39833808, -0.40435942, -0.44732347,\n",
       "        -0.16115194, -0.14720179,  0.00550456, -0.29607639,  0.37759947],\n",
       "       [-0.13369169, -0.26385263, -0.24511666, -0.32249869,  0.35449715,\n",
       "         0.12039812,  0.41021698, -0.43277762,  0.00673716,  0.10015286],\n",
       "       [-0.14741666, -0.36900805,  0.18053646,  0.12251323,  0.1889738 ,\n",
       "        -0.1068468 ,  0.30096764, -0.38367324, -0.37752507,  0.1309214 ],\n",
       "       [-0.19148226,  0.23824749, -0.21801246, -0.27382724,  0.10996634,\n",
       "         0.19425735, -0.09492895,  0.47970754,  0.37843154, -0.01193642]])"
      ]
     },
     "execution_count": 15,
     "metadata": {},
     "output_type": "execute_result"
    }
   ],
   "source": [
    "def initial_params():    \n",
    "    W1 = np.random.uniform(low=-0.5, high=0.5, size=(10,784))\n",
    "    W2 = np.random.uniform(low=-0.5, high=0.5, size=(10,10))\n",
    "    b1 = np.random.uniform(low=-0.5, high=0.5, size=(10,1))\n",
    "    b2 = np.random.uniform(low=-0.5, high=0.5, size=(10,1))\n",
    "\n",
    "    # print(W1.shape, W2.shape, b1.shape, b2.shape)\n",
    "    return W1, b1, W2, b2\n",
    "\n",
    "_, _, W2, _ = initial_params()\n",
    "W2[:100]"
   ]
  },
  {
   "cell_type": "code",
   "execution_count": 16,
   "metadata": {},
   "outputs": [
    {
     "data": {
      "text/plain": [
       "(array([[-0.28044838],\n",
       "        [ 0.18628608],\n",
       "        [ 0.36480451],\n",
       "        [ 0.04392161],\n",
       "        [-0.04915175],\n",
       "        [-0.00904416],\n",
       "        [-0.40452119],\n",
       "        [ 0.26671671],\n",
       "        [-0.43464224],\n",
       "        [-0.30706455]]),\n",
       " array([[0.        ],\n",
       "        [0.18628608],\n",
       "        [0.36480451],\n",
       "        [0.04392161],\n",
       "        [0.        ],\n",
       "        [0.        ],\n",
       "        [0.        ],\n",
       "        [0.26671671],\n",
       "        [0.        ],\n",
       "        [0.        ]]))"
      ]
     },
     "execution_count": 16,
     "metadata": {},
     "output_type": "execute_result"
    }
   ],
   "source": [
    "def ReLU_fn(vector):\n",
    "    return np.maximum(0, vector)\n",
    "\n",
    "vector = np.random.uniform(low=-0.5, high=0.5, size=(10,1))\n",
    "relu = ReLU_fn(vector)\n",
    "vector, relu"
   ]
  },
  {
   "cell_type": "code",
   "execution_count": 17,
   "metadata": {},
   "outputs": [
    {
     "data": {
      "text/plain": [
       "array([[1.],\n",
       "       [1.],\n",
       "       [0.],\n",
       "       [1.],\n",
       "       [0.],\n",
       "       [0.],\n",
       "       [1.],\n",
       "       [0.],\n",
       "       [1.],\n",
       "       [0.]])"
      ]
     },
     "execution_count": 17,
     "metadata": {},
     "output_type": "execute_result"
    }
   ],
   "source": [
    "def d_ReLU(vector):\n",
    "    return np.where(vector > 0, 1.0, 0.0)\n",
    "\n",
    "\n",
    "vector = np.random.uniform(low=-0.5, high=0.5, size=(10,1))\n",
    "relu = d_ReLU(vector)\n",
    "relu"
   ]
  },
  {
   "cell_type": "code",
   "execution_count": 18,
   "metadata": {},
   "outputs": [
    {
     "data": {
      "text/plain": [
       "array([-2.39268779e-01,  1.80785577e-01, -8.58575777e-02, -4.32074605e-01,\n",
       "       -4.86871044e-01,  2.58818820e-01, -2.61451606e-01, -4.96574038e-02,\n",
       "        1.02001554e-01, -4.44121950e-04,  0.00000000e+00])"
      ]
     },
     "execution_count": 18,
     "metadata": {},
     "output_type": "execute_result"
    }
   ],
   "source": [
    "vector = np.random.uniform(low=-0.5, high=0.5, size=(10,1))\n",
    "vector = np.append(vector, [0.00000])\n",
    "vector"
   ]
  },
  {
   "cell_type": "code",
   "execution_count": 19,
   "metadata": {},
   "outputs": [
    {
     "data": {
      "text/plain": [
       "(-0.5, 0.5)"
      ]
     },
     "execution_count": 19,
     "metadata": {},
     "output_type": "execute_result"
    },
    {
     "data": {
      "image/png": "[encoded data removed]",
      "text/plain": [
       "<Figure size 640x480 with 1 Axes>"
      ]
     },
     "metadata": {},
     "output_type": "display_data"
    }
   ],
   "source": [
    "relu = ReLU_fn(vector)\n",
    "d_relu = d_ReLU(vector)\n",
    "\n",
    "plt.scatter(vector, relu, c='blue')\n",
    "plt.scatter(vector, d_relu, c='green')\n",
    "plt.ylim(0.0, 1.1)\n",
    "plt.xlim(-0.5, 0.5)"
   ]
  },
  {
   "cell_type": "code",
   "execution_count": 20,
   "metadata": {},
   "outputs": [
    {
     "data": {
      "text/plain": [
       "(array([[ 0.47002127],\n",
       "        [-0.26575997],\n",
       "        [ 0.24907257],\n",
       "        [ 0.38998464],\n",
       "        [ 0.03488457],\n",
       "        [-0.01975045],\n",
       "        [-0.34732771],\n",
       "        [ 0.24333899],\n",
       "        [ 0.06640877],\n",
       "        [ 0.33279875]]),\n",
       " array([[0.13807639],\n",
       "        [0.06615668],\n",
       "        [0.11070383],\n",
       "        [0.12745591],\n",
       "        [0.08935975],\n",
       "        [0.08460855],\n",
       "        [0.06097464],\n",
       "        [0.11007091],\n",
       "        [0.09222162],\n",
       "        [0.12037171]]))"
      ]
     },
     "execution_count": 20,
     "metadata": {},
     "output_type": "execute_result"
    }
   ],
   "source": [
    "def softmax_fn(vector):\n",
    "    exp_vector = np.exp(vector - np.max(vector))\n",
    "    return exp_vector / exp_vector.sum()\n",
    "\n",
    "vector = np.random.uniform(low=-0.5, high=0.5, size=(10,1))\n",
    "softmax = softmax_fn(vector)\n",
    "vector, softmax"
   ]
  },
  {
   "cell_type": "code",
   "execution_count": 21,
   "metadata": {},
   "outputs": [],
   "source": [
    "# def df_softmax(vector):\n",
    "#     d_softmax = softmax_fn(vector) * (1 - softmax_fn(vector))\n",
    "\n",
    "#     return d_softmax\n",
    "\n",
    "# vector = np.random.uniform(low=-0.5, high=0.5, size=(10,1))\n",
    "# d_softmax = softmax_fn(vector)\n",
    "# vector, d_softmax"
   ]
  },
  {
   "cell_type": "code",
   "execution_count": 22,
   "metadata": {},
   "outputs": [
    {
     "data": {
      "text/plain": [
       "<matplotlib.collections.PathCollection at 0x294b12e5820>"
      ]
     },
     "execution_count": 22,
     "metadata": {},
     "output_type": "execute_result"
    },
    {
     "data": {
      "image/png": "[encoded data removed]",
      "text/plain": [
       "<Figure size 640x480 with 1 Axes>"
      ]
     },
     "metadata": {},
     "output_type": "display_data"
    }
   ],
   "source": [
    "vector = np.random.uniform(low=-0.5, high=0.5, size=(10,1))\n",
    "vector = np.append(vector, [0.00000, -0.5, 0.5])\n",
    "vector\n",
    "\n",
    "softmax = softmax_fn(vector)\n",
    "# d_softmax = df_softmax(vector)\n",
    "\n",
    "plt.scatter(vector, softmax, c='blue')\n",
    "# plt.scatter(vector, d_softmax, c='green')\n"
   ]
  },
  {
   "cell_type": "code",
   "execution_count": 23,
   "metadata": {},
   "outputs": [],
   "source": [
    "def forward_prop(W1, b1, W2, b2, A0):\n",
    "    Z1 = np.dot(W1, A0) + b1\n",
    "    A1 = ReLU_fn(Z1)\n",
    "\n",
    "    Z2 = np.dot(W2, A1) + b2\n",
    "    A2 = softmax_fn(Z2)\n",
    "\n",
    "    return Z1, A1, Z2, A2"
   ]
  },
  {
   "cell_type": "code",
   "execution_count": 24,
   "metadata": {},
   "outputs": [
    {
     "data": {
      "text/plain": [
       "(10, 1000)"
      ]
     },
     "execution_count": 24,
     "metadata": {},
     "output_type": "execute_result"
    }
   ],
   "source": [
    "# One hot encoding\n",
    "def one_hot_encoding(Y, num_classes):\n",
    "    num_classes = int(num_classes)  # Ensure num_classes is an integer\n",
    "    encoded_mat = np.zeros((num_classes, len(Y)))\n",
    "    for i in range(len(Y)):\n",
    "        class_index = int(Y[i])\n",
    "        encoded_mat[class_index, i] = 1\n",
    "    return encoded_mat\n",
    "\n",
    "y_train = one_hot_encoding(y_train, num_classes=10)\n",
    "y_train.shape\n",
    "y_test = one_hot_encoding(y_test, num_classes=10)\n",
    "y_test.shape\n"
   ]
  },
  {
   "cell_type": "code",
   "execution_count": 25,
   "metadata": {},
   "outputs": [],
   "source": [
    "# Backward propagation\n",
    "def backward_prop(Z1, A1, Z2, A2, W1, W2, y, A0, y_train):\n",
    "    m = A0.shape[1]\n",
    "    dZ2 = A2 - y_train\n",
    "    dZ1 = np.dot(W2.T, dZ2) * d_ReLU(Z1)\n",
    "\n",
    "    dW1 = (1 / m) * np.dot(dZ1, A0.T)\n",
    "    dW2 = (1 / m) * np.dot(dZ2, A1.T)\n",
    "    db1 = (1 / m) * np.sum(dZ1, axis=1, keepdims=True)\n",
    "    db2 = (1 / m) * np.sum(dZ2, axis=1, keepdims=True)\n",
    "\n",
    "    return dW1, db1, dW2, db2"
   ]
  },
  {
   "cell_type": "code",
   "execution_count": 26,
   "metadata": {},
   "outputs": [],
   "source": [
    "# Update parameters\n",
    "def update_parameters(W1, b1, W2, b2, dW1, db1, dW2, db2, learning_rate= 0.01):\n",
    "    W1 = W1 - learning_rate * dW1\n",
    "    b1 = b1 - learning_rate * db1\n",
    "    W2 = W2 - learning_rate * dW2\n",
    "    b2 = b2 - learning_rate * db2\n",
    "\n",
    "    return W1, b1, W2, b2"
   ]
  },
  {
   "cell_type": "code",
   "execution_count": 27,
   "metadata": {},
   "outputs": [],
   "source": [
    "def obtain_predictions(vector):  # Corrected parameter name\n",
    "    return np.argmax(vector, axis=0)\n"
   ]
  },
  {
   "cell_type": "code",
   "execution_count": 28,
   "metadata": {},
   "outputs": [
    {
     "name": "stderr",
     "output_type": "stream",
     "text": [
      "\n",
      "[notice] A new release of pip is available: 23.3.2 -> 24.1.2\n",
      "[notice] To update, run: python.exe -m pip install --upgrade pip\n"
     ]
    },
    {
     "name": "stdout",
     "output_type": "stream",
     "text": [
      "Requirement already satisfied: scikit-learn in c:\\users\\ghimi\\appdata\\local\\programs\\python\\python312\\lib\\site-packages (1.5.1)Note: you may need to restart the kernel to use updated packages.\n",
      "\n",
      "Requirement already satisfied: numpy>=1.19.5 in c:\\users\\ghimi\\appdata\\local\\programs\\python\\python312\\lib\\site-packages (from scikit-learn) (1.26.1)\n",
      "Requirement already satisfied: scipy>=1.6.0 in c:\\users\\ghimi\\appdata\\local\\programs\\python\\python312\\lib\\site-packages (from scikit-learn) (1.14.0)\n",
      "Requirement already satisfied: joblib>=1.2.0 in c:\\users\\ghimi\\appdata\\local\\programs\\python\\python312\\lib\\site-packages (from scikit-learn) (1.3.2)\n",
      "Requirement already satisfied: threadpoolctl>=3.1.0 in c:\\users\\ghimi\\appdata\\local\\programs\\python\\python312\\lib\\site-packages (from scikit-learn) (3.5.0)\n"
     ]
    }
   ],
   "source": [
    "%pip install scikit-learn\n",
    "from sklearn.metrics import accuracy_score"
   ]
  },
  {
   "cell_type": "code",
   "execution_count": 29,
   "metadata": {},
   "outputs": [],
   "source": [
    "def accuracy_sc(y_pred, y_actual): # Vectors  \n",
    "    num_samples = y_actual.shape[1]\n",
    "\n",
    "    if y_pred.ndim ==2:\n",
    "        pred_label = obtain_predictions(y_pred)\n",
    "    else:\n",
    "        pred_label = y_pred\n",
    "        \n",
    "    if y_actual.ndim == 2:\n",
    "        actual_label = obtain_predictions(y_actual)\n",
    "    else:\n",
    "        actual_label = y_actual\n",
    "    \n",
    "    num_correct = np.sum(pred_label == actual_label)\n",
    "    # print(num_correct)\n",
    "    return num_correct / num_samples"
   ]
  },
  {
   "cell_type": "code",
   "execution_count": 30,
   "metadata": {},
   "outputs": [
    {
     "data": {
      "text/plain": [
       "(10, 41000)"
      ]
     },
     "execution_count": 30,
     "metadata": {},
     "output_type": "execute_result"
    }
   ],
   "source": [
    "y_train.shape"
   ]
  },
  {
   "cell_type": "code",
   "execution_count": 31,
   "metadata": {},
   "outputs": [],
   "source": [
    "def gradient_descent(X_train, y_train, learning_rate, num_iterations):\n",
    "    W1, b1, W2, b2 = initial_params()\n",
    "\n",
    "    accuracy_list = []\n",
    "\n",
    "    for i in range(num_iterations+1):\n",
    "        Z1, A1, Z2, A2 = forward_prop(W1, b1, W2, b2, X_train)\n",
    "        dW1, db1, dW2, db2 = backward_prop(Z1, A1, Z2, A2, W1, W2, y_train, X_train, y_train)\n",
    "        W1, b1, W2, b2 = update_parameters(W1, b1, W2, b2, dW1, db1, dW2, db2, learning_rate)\n",
    "\n",
    "        if i%5==0:\n",
    "            accuracy = accuracy_sc(A2,y_train)\n",
    "            accuracy_list.append((i,accuracy))\n",
    "            print(f\"Iteration: {i} \\t Accuracy: {accuracy:.5f}\")\n",
    "\n",
    "    return W1, b1, W2, b2, accuracy_list"
   ]
  },
  {
   "cell_type": "code",
   "execution_count": 32,
   "metadata": {},
   "outputs": [],
   "source": [
    "def make_prediction(X_test, W1, b1, W2, b2):\n",
    "    _, _, _, A2 = forward_prop(W1, b1, W2, b2, X_test) \n",
    "    pred = obtain_predictions(A2)\n",
    "    return pred    "
   ]
  },
  {
   "cell_type": "code",
   "execution_count": 33,
   "metadata": {},
   "outputs": [],
   "source": [
    "def plot_image(image):\n",
    "    X_test_2d = image.reshape(28,-1)\n",
    "    print(X_test_2d.shape)\n",
    "    plt.imshow(X_test_2d) \n",
    "    plt.axis('off')\n",
    "    plt.show()"
   ]
  },
  {
   "cell_type": "code",
   "execution_count": 34,
   "metadata": {},
   "outputs": [
    {
     "name": "stdout",
     "output_type": "stream",
     "text": [
      "Iteration: 0 \t Accuracy: 0.10049\n",
      "Iteration: 5 \t Accuracy: 0.10061\n",
      "Iteration: 10 \t Accuracy: 0.10071\n",
      "Iteration: 15 \t Accuracy: 0.10090\n",
      "Iteration: 20 \t Accuracy: 0.10117\n",
      "Iteration: 25 \t Accuracy: 0.10151\n",
      "Iteration: 30 \t Accuracy: 0.10141\n",
      "Iteration: 35 \t Accuracy: 0.10171\n",
      "Iteration: 40 \t Accuracy: 0.10185\n",
      "Iteration: 45 \t Accuracy: 0.10195\n",
      "Iteration: 50 \t Accuracy: 0.10237\n",
      "Iteration: 55 \t Accuracy: 0.10254\n",
      "Iteration: 60 \t Accuracy: 0.10273\n",
      "Iteration: 65 \t Accuracy: 0.10298\n",
      "Iteration: 70 \t Accuracy: 0.10329\n",
      "Iteration: 75 \t Accuracy: 0.10356\n",
      "Iteration: 80 \t Accuracy: 0.10398\n",
      "Iteration: 85 \t Accuracy: 0.10420\n",
      "Iteration: 90 \t Accuracy: 0.10432\n",
      "Iteration: 95 \t Accuracy: 0.10466\n",
      "Iteration: 100 \t Accuracy: 0.10490\n",
      "Iteration: 105 \t Accuracy: 0.10522\n",
      "Iteration: 110 \t Accuracy: 0.10539\n",
      "Iteration: 115 \t Accuracy: 0.10573\n",
      "Iteration: 120 \t Accuracy: 0.10605\n",
      "Iteration: 125 \t Accuracy: 0.10641\n",
      "Iteration: 130 \t Accuracy: 0.10676\n",
      "Iteration: 135 \t Accuracy: 0.10693\n",
      "Iteration: 140 \t Accuracy: 0.10729\n",
      "Iteration: 145 \t Accuracy: 0.10768\n",
      "Iteration: 150 \t Accuracy: 0.10785\n",
      "Iteration: 155 \t Accuracy: 0.10798\n",
      "Iteration: 160 \t Accuracy: 0.10820\n",
      "Iteration: 165 \t Accuracy: 0.10844\n",
      "Iteration: 170 \t Accuracy: 0.10876\n",
      "Iteration: 175 \t Accuracy: 0.10900\n",
      "Iteration: 180 \t Accuracy: 0.10922\n",
      "Iteration: 185 \t Accuracy: 0.10959\n",
      "Iteration: 190 \t Accuracy: 0.10993\n",
      "Iteration: 195 \t Accuracy: 0.11022\n",
      "Iteration: 200 \t Accuracy: 0.11054\n",
      "Iteration: 205 \t Accuracy: 0.11078\n",
      "Iteration: 210 \t Accuracy: 0.11122\n",
      "Iteration: 215 \t Accuracy: 0.11151\n",
      "Iteration: 220 \t Accuracy: 0.11178\n",
      "Iteration: 225 \t Accuracy: 0.11195\n",
      "Iteration: 230 \t Accuracy: 0.11251\n",
      "Iteration: 235 \t Accuracy: 0.11273\n",
      "Iteration: 240 \t Accuracy: 0.11298\n",
      "Iteration: 245 \t Accuracy: 0.11324\n",
      "Iteration: 250 \t Accuracy: 0.11339\n",
      "Iteration: 255 \t Accuracy: 0.11390\n",
      "Iteration: 260 \t Accuracy: 0.11410\n",
      "Iteration: 265 \t Accuracy: 0.11437\n",
      "Iteration: 270 \t Accuracy: 0.11466\n",
      "Iteration: 275 \t Accuracy: 0.11476\n",
      "Iteration: 280 \t Accuracy: 0.11490\n",
      "Iteration: 285 \t Accuracy: 0.11520\n",
      "Iteration: 290 \t Accuracy: 0.11541\n",
      "Iteration: 295 \t Accuracy: 0.11578\n",
      "Iteration: 300 \t Accuracy: 0.11637\n",
      "Iteration: 305 \t Accuracy: 0.11683\n",
      "Iteration: 310 \t Accuracy: 0.11724\n",
      "Iteration: 315 \t Accuracy: 0.11759\n",
      "Iteration: 320 \t Accuracy: 0.11810\n",
      "Iteration: 325 \t Accuracy: 0.11871\n",
      "Iteration: 330 \t Accuracy: 0.11912\n",
      "Iteration: 335 \t Accuracy: 0.11956\n",
      "Iteration: 340 \t Accuracy: 0.11973\n",
      "Iteration: 345 \t Accuracy: 0.11993\n",
      "Iteration: 350 \t Accuracy: 0.12027\n",
      "Iteration: 355 \t Accuracy: 0.12073\n",
      "Iteration: 360 \t Accuracy: 0.12078\n",
      "Iteration: 365 \t Accuracy: 0.12093\n",
      "Iteration: 370 \t Accuracy: 0.12129\n",
      "Iteration: 375 \t Accuracy: 0.12166\n",
      "Iteration: 380 \t Accuracy: 0.12198\n",
      "Iteration: 385 \t Accuracy: 0.12207\n",
      "Iteration: 390 \t Accuracy: 0.12244\n",
      "Iteration: 395 \t Accuracy: 0.12263\n",
      "Iteration: 400 \t Accuracy: 0.12305\n",
      "Iteration: 405 \t Accuracy: 0.12320\n",
      "Iteration: 410 \t Accuracy: 0.12356\n",
      "Iteration: 415 \t Accuracy: 0.12395\n",
      "Iteration: 420 \t Accuracy: 0.12417\n",
      "Iteration: 425 \t Accuracy: 0.12424\n",
      "Iteration: 430 \t Accuracy: 0.12478\n",
      "Iteration: 435 \t Accuracy: 0.12480\n",
      "Iteration: 440 \t Accuracy: 0.12527\n",
      "Iteration: 445 \t Accuracy: 0.12522\n",
      "Iteration: 450 \t Accuracy: 0.12510\n",
      "Iteration: 455 \t Accuracy: 0.12517\n",
      "Iteration: 460 \t Accuracy: 0.12561\n",
      "Iteration: 465 \t Accuracy: 0.12610\n",
      "Iteration: 470 \t Accuracy: 0.12624\n",
      "Iteration: 475 \t Accuracy: 0.12685\n",
      "Iteration: 480 \t Accuracy: 0.12724\n",
      "Iteration: 485 \t Accuracy: 0.12724\n",
      "Iteration: 490 \t Accuracy: 0.12783\n",
      "Iteration: 495 \t Accuracy: 0.12780\n",
      "Iteration: 500 \t Accuracy: 0.12824\n",
      "Iteration: 505 \t Accuracy: 0.12829\n",
      "Iteration: 510 \t Accuracy: 0.12856\n",
      "Iteration: 515 \t Accuracy: 0.12837\n",
      "Iteration: 520 \t Accuracy: 0.12854\n",
      "Iteration: 525 \t Accuracy: 0.12871\n",
      "Iteration: 530 \t Accuracy: 0.12905\n",
      "Iteration: 535 \t Accuracy: 0.12927\n",
      "Iteration: 540 \t Accuracy: 0.12946\n",
      "Iteration: 545 \t Accuracy: 0.12959\n",
      "Iteration: 550 \t Accuracy: 0.12966\n",
      "Iteration: 555 \t Accuracy: 0.12978\n",
      "Iteration: 560 \t Accuracy: 0.12993\n",
      "Iteration: 565 \t Accuracy: 0.13007\n",
      "Iteration: 570 \t Accuracy: 0.13012\n",
      "Iteration: 575 \t Accuracy: 0.13017\n",
      "Iteration: 580 \t Accuracy: 0.13041\n",
      "Iteration: 585 \t Accuracy: 0.13039\n",
      "Iteration: 590 \t Accuracy: 0.13034\n",
      "Iteration: 595 \t Accuracy: 0.13073\n",
      "Iteration: 600 \t Accuracy: 0.13105\n",
      "Iteration: 605 \t Accuracy: 0.13093\n",
      "Iteration: 610 \t Accuracy: 0.13120\n",
      "Iteration: 615 \t Accuracy: 0.13159\n",
      "Iteration: 620 \t Accuracy: 0.13156\n",
      "Iteration: 625 \t Accuracy: 0.13149\n",
      "Iteration: 630 \t Accuracy: 0.13215\n",
      "Iteration: 635 \t Accuracy: 0.13246\n",
      "Iteration: 640 \t Accuracy: 0.13278\n",
      "Iteration: 645 \t Accuracy: 0.13246\n",
      "Iteration: 650 \t Accuracy: 0.13246\n",
      "Iteration: 655 \t Accuracy: 0.13227\n",
      "Iteration: 660 \t Accuracy: 0.13222\n",
      "Iteration: 665 \t Accuracy: 0.13254\n",
      "Iteration: 670 \t Accuracy: 0.13259\n",
      "Iteration: 675 \t Accuracy: 0.13229\n",
      "Iteration: 680 \t Accuracy: 0.13190\n",
      "Iteration: 685 \t Accuracy: 0.13168\n",
      "Iteration: 690 \t Accuracy: 0.13151\n",
      "Iteration: 695 \t Accuracy: 0.13146\n",
      "Iteration: 700 \t Accuracy: 0.13095\n",
      "Iteration: 705 \t Accuracy: 0.13093\n",
      "Iteration: 710 \t Accuracy: 0.13090\n",
      "Iteration: 715 \t Accuracy: 0.13054\n",
      "Iteration: 720 \t Accuracy: 0.12973\n",
      "Iteration: 725 \t Accuracy: 0.12976\n",
      "Iteration: 730 \t Accuracy: 0.12995\n",
      "Iteration: 735 \t Accuracy: 0.12956\n",
      "Iteration: 740 \t Accuracy: 0.12922\n",
      "Iteration: 745 \t Accuracy: 0.12893\n",
      "Iteration: 750 \t Accuracy: 0.12876\n",
      "Iteration: 755 \t Accuracy: 0.12802\n",
      "Iteration: 760 \t Accuracy: 0.12717\n",
      "Iteration: 765 \t Accuracy: 0.12695\n",
      "Iteration: 770 \t Accuracy: 0.12680\n",
      "Iteration: 775 \t Accuracy: 0.12634\n",
      "Iteration: 780 \t Accuracy: 0.12563\n",
      "Iteration: 785 \t Accuracy: 0.12502\n",
      "Iteration: 790 \t Accuracy: 0.12446\n",
      "Iteration: 795 \t Accuracy: 0.12412\n",
      "Iteration: 800 \t Accuracy: 0.12376\n",
      "Iteration: 805 \t Accuracy: 0.12310\n",
      "Iteration: 810 \t Accuracy: 0.12246\n",
      "Iteration: 815 \t Accuracy: 0.12168\n",
      "Iteration: 820 \t Accuracy: 0.12115\n",
      "Iteration: 825 \t Accuracy: 0.12029\n",
      "Iteration: 830 \t Accuracy: 0.11971\n",
      "Iteration: 835 \t Accuracy: 0.11927\n",
      "Iteration: 840 \t Accuracy: 0.11885\n",
      "Iteration: 845 \t Accuracy: 0.11854\n",
      "Iteration: 850 \t Accuracy: 0.11793\n",
      "Iteration: 855 \t Accuracy: 0.11712\n",
      "Iteration: 860 \t Accuracy: 0.11629\n",
      "Iteration: 865 \t Accuracy: 0.11546\n",
      "Iteration: 870 \t Accuracy: 0.11473\n",
      "Iteration: 875 \t Accuracy: 0.11432\n",
      "Iteration: 880 \t Accuracy: 0.11380\n",
      "Iteration: 885 \t Accuracy: 0.11334\n",
      "Iteration: 890 \t Accuracy: 0.11293\n",
      "Iteration: 895 \t Accuracy: 0.11241\n",
      "Iteration: 900 \t Accuracy: 0.11168\n",
      "Iteration: 905 \t Accuracy: 0.11110\n",
      "Iteration: 910 \t Accuracy: 0.11066\n",
      "Iteration: 915 \t Accuracy: 0.11007\n",
      "Iteration: 920 \t Accuracy: 0.10934\n",
      "Iteration: 925 \t Accuracy: 0.10868\n",
      "Iteration: 930 \t Accuracy: 0.10820\n",
      "Iteration: 935 \t Accuracy: 0.10785\n",
      "Iteration: 940 \t Accuracy: 0.10749\n",
      "Iteration: 945 \t Accuracy: 0.10712\n",
      "Iteration: 950 \t Accuracy: 0.10680\n",
      "Iteration: 955 \t Accuracy: 0.10639\n",
      "Iteration: 960 \t Accuracy: 0.10612\n",
      "Iteration: 965 \t Accuracy: 0.10576\n",
      "Iteration: 970 \t Accuracy: 0.10537\n",
      "Iteration: 975 \t Accuracy: 0.10517\n",
      "Iteration: 980 \t Accuracy: 0.10500\n",
      "Iteration: 985 \t Accuracy: 0.10483\n",
      "Iteration: 990 \t Accuracy: 0.10449\n",
      "Iteration: 995 \t Accuracy: 0.10437\n",
      "Iteration: 1000 \t Accuracy: 0.10405\n"
     ]
    }
   ],
   "source": [
    "W1, b1, W2, b2, accuracy_list = gradient_descent(X_train, y_train, learning_rate=0.001, num_iterations=1000)"
   ]
  },
  {
   "cell_type": "code",
   "execution_count": 35,
   "metadata": {},
   "outputs": [
    {
     "data": {
      "image/png": "[encoded data removed]",
      "text/plain": [
       "<Figure size 1000x600 with 1 Axes>"
      ]
     },
     "metadata": {},
     "output_type": "display_data"
    }
   ],
   "source": [
    "iterations, accuracies = zip(*accuracy_list)\n",
    "\n",
    "plt.figure(figsize=(10, 6))\n",
    "plt.plot(iterations, accuracies, marker='o', linestyle='-', color='b')\n",
    "plt.title('Accuracy vs. Iteration')\n",
    "plt.xlabel('Iteration')\n",
    "plt.ylabel('Accuracy')\n",
    "plt.grid(True)\n",
    "plt.show()"
   ]
  },
  {
   "cell_type": "code",
   "execution_count": 36,
   "metadata": {},
   "outputs": [],
   "source": [
    "def test_predictions(W1, b1, W2, b2, X_test, y_test):\n",
    "    test = make_prediction(X_test, W1, b1, W2, b2)\n",
    "    image = X_test.T\n",
    "    print(test.shape)\n",
    "    accuracy = accuracy_sc(test, y_test)\n",
    "    print(f\"Accuracy:{accuracy}\")\n",
    "    y_test_label = obtain_predictions(y_test)\n",
    "    for i in range(10):\n",
    "        print(test[i], y_test_label[i])\n",
    "        print(image[i].shape)\n",
    "        plot_image(image[i])"
   ]
  },
  {
   "cell_type": "code",
   "execution_count": 37,
   "metadata": {},
   "outputs": [
    {
     "name": "stdout",
     "output_type": "stream",
     "text": [
      "(1000,)\n",
      "Accuracy:0.127\n",
      "3 0\n",
      "(784,)\n",
      "(28, 28)\n"
     ]
    },
    {
     "data": {
      "image/png": "[encoded data removed]",
      "text/plain": [
       "<Figure size 640x480 with 1 Axes>"
      ]
     },
     "metadata": {},
     "output_type": "display_data"
    },
    {
     "name": "stdout",
     "output_type": "stream",
     "text": [
      "3 5\n",
      "(784,)\n",
      "(28, 28)\n"
     ]
    },
    {
     "data": {
      "image/png": "[encoded data removed]",
      "text/plain": [
       "<Figure size 640x480 with 1 Axes>"
      ]
     },
     "metadata": {},
     "output_type": "display_data"
    },
    {
     "name": "stdout",
     "output_type": "stream",
     "text": [
      "3 1\n",
      "(784,)\n",
      "(28, 28)\n"
     ]
    },
    {
     "data": {
      "image/png": "[encoded data removed]",
      "text/plain": [
       "<Figure size 640x480 with 1 Axes>"
      ]
     },
     "metadata": {},
     "output_type": "display_data"
    },
    {
     "name": "stdout",
     "output_type": "stream",
     "text": [
      "3 5\n",
      "(784,)\n",
      "(28, 28)\n"
     ]
    },
    {
     "data": {
      "image/png": "[encoded data removed]",
      "text/plain": [
       "<Figure size 640x480 with 1 Axes>"
      ]
     },
     "metadata": {},
     "output_type": "display_data"
    },
    {
     "name": "stdout",
     "output_type": "stream",
     "text": [
      "3 3\n",
      "(784,)\n",
      "(28, 28)\n"
     ]
    },
    {
     "data": {
      "image/png": "[encoded data removed]",
      "text/plain": [
       "<Figure size 640x480 with 1 Axes>"
      ]
     },
     "metadata": {},
     "output_type": "display_data"
    },
    {
     "name": "stdout",
     "output_type": "stream",
     "text": [
      "3 3\n",
      "(784,)\n",
      "(28, 28)\n"
     ]
    },
    {
     "data": {
      "image/png": "[encoded data removed]",
      "text/plain": [
       "<Figure size 640x480 with 1 Axes>"
      ]
     },
     "metadata": {},
     "output_type": "display_data"
    },
    {
     "name": "stdout",
     "output_type": "stream",
     "text": [
      "3 4\n",
      "(784,)\n",
      "(28, 28)\n"
     ]
    },
    {
     "data": {
      "image/png": "[encoded data removed]",
      "text/plain": [
       "<Figure size 640x480 with 1 Axes>"
      ]
     },
     "metadata": {},
     "output_type": "display_data"
    },
    {
     "name": "stdout",
     "output_type": "stream",
     "text": [
      "3 2\n",
      "(784,)\n",
      "(28, 28)\n"
     ]
    },
    {
     "data": {
      "image/png": "[encoded data removed]",
      "text/plain": [
       "<Figure size 640x480 with 1 Axes>"
      ]
     },
     "metadata": {},
     "output_type": "display_data"
    },
    {
     "name": "stdout",
     "output_type": "stream",
     "text": [
      "3 4\n",
      "(784,)\n",
      "(28, 28)\n"
     ]
    },
    {
     "data": {
      "image/png": "[encoded data removed]",
      "text/plain": [
       "<Figure size 640x480 with 1 Axes>"
      ]
     },
     "metadata": {},
     "output_type": "display_data"
    },
    {
     "name": "stdout",
     "output_type": "stream",
     "text": [
      "3 6\n",
      "(784,)\n",
      "(28, 28)\n"
     ]
    },
    {
     "data": {
      "image/png": "[encoded data removed]",
      "text/plain": [
       "<Figure size 640x480 with 1 Axes>"
      ]
     },
     "metadata": {},
     "output_type": "display_data"
    }
   ],
   "source": [
    "test_predictions(W1, b1, W2, b2, X_test, y_test)"
   ]
  }
 ],
 "metadata": {
  "kernelspec": {
   "display_name": "Python 3",
   "language": "python",
   "name": "python3"
  },
  "language_info": {
   "codemirror_mode": {
    "name": "ipython",
    "version": 3
   },
   "file_extension": ".py",
   "mimetype": "text/x-python",
   "name": "python",
   "nbconvert_exporter": "python",
   "pygments_lexer": "ipython3",
   "version": "3.12.0"
  }
 },
 "nbformat": 4,
 "nbformat_minor": 2
}
