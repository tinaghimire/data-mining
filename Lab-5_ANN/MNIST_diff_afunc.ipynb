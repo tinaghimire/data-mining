{
 "cells": [
  {
   "cell_type": "code",
   "execution_count": 1,
   "metadata": {},
   "outputs": [],
   "source": [
    "import matplotlib.pyplot as plt\n",
    "import numpy as np\n",
    "import pandas as pd"
   ]
  },
  {
   "cell_type": "code",
   "execution_count": 2,
   "metadata": {},
   "outputs": [
    {
     "data": {
      "text/html": [
       "<div>\n",
       "<style scoped>\n",
       "    .dataframe tbody tr th:only-of-type {\n",
       "        vertical-align: middle;\n",
       "    }\n",
       "\n",
       "    .dataframe tbody tr th {\n",
       "        vertical-align: top;\n",
       "    }\n",
       "\n",
       "    .dataframe thead th {\n",
       "        text-align: right;\n",
       "    }\n",
       "</style>\n",
       "<table border=\"1\" class=\"dataframe\">\n",
       "  <thead>\n",
       "    <tr style=\"text-align: right;\">\n",
       "      <th></th>\n",
       "      <th>label</th>\n",
       "      <th>pixel0</th>\n",
       "      <th>pixel1</th>\n",
       "      <th>pixel2</th>\n",
       "      <th>pixel3</th>\n",
       "      <th>pixel4</th>\n",
       "      <th>pixel5</th>\n",
       "      <th>pixel6</th>\n",
       "      <th>pixel7</th>\n",
       "      <th>pixel8</th>\n",
       "      <th>...</th>\n",
       "      <th>pixel774</th>\n",
       "      <th>pixel775</th>\n",
       "      <th>pixel776</th>\n",
       "      <th>pixel777</th>\n",
       "      <th>pixel778</th>\n",
       "      <th>pixel779</th>\n",
       "      <th>pixel780</th>\n",
       "      <th>pixel781</th>\n",
       "      <th>pixel782</th>\n",
       "      <th>pixel783</th>\n",
       "    </tr>\n",
       "  </thead>\n",
       "  <tbody>\n",
       "    <tr>\n",
       "      <th>0</th>\n",
       "      <td>1</td>\n",
       "      <td>0</td>\n",
       "      <td>0</td>\n",
       "      <td>0</td>\n",
       "      <td>0</td>\n",
       "      <td>0</td>\n",
       "      <td>0</td>\n",
       "      <td>0</td>\n",
       "      <td>0</td>\n",
       "      <td>0</td>\n",
       "      <td>...</td>\n",
       "      <td>0</td>\n",
       "      <td>0</td>\n",
       "      <td>0</td>\n",
       "      <td>0</td>\n",
       "      <td>0</td>\n",
       "      <td>0</td>\n",
       "      <td>0</td>\n",
       "      <td>0</td>\n",
       "      <td>0</td>\n",
       "      <td>0</td>\n",
       "    </tr>\n",
       "    <tr>\n",
       "      <th>1</th>\n",
       "      <td>0</td>\n",
       "      <td>0</td>\n",
       "      <td>0</td>\n",
       "      <td>0</td>\n",
       "      <td>0</td>\n",
       "      <td>0</td>\n",
       "      <td>0</td>\n",
       "      <td>0</td>\n",
       "      <td>0</td>\n",
       "      <td>0</td>\n",
       "      <td>...</td>\n",
       "      <td>0</td>\n",
       "      <td>0</td>\n",
       "      <td>0</td>\n",
       "      <td>0</td>\n",
       "      <td>0</td>\n",
       "      <td>0</td>\n",
       "      <td>0</td>\n",
       "      <td>0</td>\n",
       "      <td>0</td>\n",
       "      <td>0</td>\n",
       "    </tr>\n",
       "    <tr>\n",
       "      <th>2</th>\n",
       "      <td>1</td>\n",
       "      <td>0</td>\n",
       "      <td>0</td>\n",
       "      <td>0</td>\n",
       "      <td>0</td>\n",
       "      <td>0</td>\n",
       "      <td>0</td>\n",
       "      <td>0</td>\n",
       "      <td>0</td>\n",
       "      <td>0</td>\n",
       "      <td>...</td>\n",
       "      <td>0</td>\n",
       "      <td>0</td>\n",
       "      <td>0</td>\n",
       "      <td>0</td>\n",
       "      <td>0</td>\n",
       "      <td>0</td>\n",
       "      <td>0</td>\n",
       "      <td>0</td>\n",
       "      <td>0</td>\n",
       "      <td>0</td>\n",
       "    </tr>\n",
       "    <tr>\n",
       "      <th>3</th>\n",
       "      <td>4</td>\n",
       "      <td>0</td>\n",
       "      <td>0</td>\n",
       "      <td>0</td>\n",
       "      <td>0</td>\n",
       "      <td>0</td>\n",
       "      <td>0</td>\n",
       "      <td>0</td>\n",
       "      <td>0</td>\n",
       "      <td>0</td>\n",
       "      <td>...</td>\n",
       "      <td>0</td>\n",
       "      <td>0</td>\n",
       "      <td>0</td>\n",
       "      <td>0</td>\n",
       "      <td>0</td>\n",
       "      <td>0</td>\n",
       "      <td>0</td>\n",
       "      <td>0</td>\n",
       "      <td>0</td>\n",
       "      <td>0</td>\n",
       "    </tr>\n",
       "    <tr>\n",
       "      <th>4</th>\n",
       "      <td>0</td>\n",
       "      <td>0</td>\n",
       "      <td>0</td>\n",
       "      <td>0</td>\n",
       "      <td>0</td>\n",
       "      <td>0</td>\n",
       "      <td>0</td>\n",
       "      <td>0</td>\n",
       "      <td>0</td>\n",
       "      <td>0</td>\n",
       "      <td>...</td>\n",
       "      <td>0</td>\n",
       "      <td>0</td>\n",
       "      <td>0</td>\n",
       "      <td>0</td>\n",
       "      <td>0</td>\n",
       "      <td>0</td>\n",
       "      <td>0</td>\n",
       "      <td>0</td>\n",
       "      <td>0</td>\n",
       "      <td>0</td>\n",
       "    </tr>\n",
       "  </tbody>\n",
       "</table>\n",
       "<p>5 rows × 785 columns</p>\n",
       "</div>"
      ],
      "text/plain": [
       "   label  pixel0  pixel1  pixel2  pixel3  pixel4  pixel5  pixel6  pixel7  \\\n",
       "0      1       0       0       0       0       0       0       0       0   \n",
       "1      0       0       0       0       0       0       0       0       0   \n",
       "2      1       0       0       0       0       0       0       0       0   \n",
       "3      4       0       0       0       0       0       0       0       0   \n",
       "4      0       0       0       0       0       0       0       0       0   \n",
       "\n",
       "   pixel8  ...  pixel774  pixel775  pixel776  pixel777  pixel778  pixel779  \\\n",
       "0       0  ...         0         0         0         0         0         0   \n",
       "1       0  ...         0         0         0         0         0         0   \n",
       "2       0  ...         0         0         0         0         0         0   \n",
       "3       0  ...         0         0         0         0         0         0   \n",
       "4       0  ...         0         0         0         0         0         0   \n",
       "\n",
       "   pixel780  pixel781  pixel782  pixel783  \n",
       "0         0         0         0         0  \n",
       "1         0         0         0         0  \n",
       "2         0         0         0         0  \n",
       "3         0         0         0         0  \n",
       "4         0         0         0         0  \n",
       "\n",
       "[5 rows x 785 columns]"
      ]
     },
     "execution_count": 2,
     "metadata": {},
     "output_type": "execute_result"
    }
   ],
   "source": [
    "# 1. Load dataset\n",
    "df = pd.read_csv('digit_data.csv')\n",
    "df.head()"
   ]
  },
  {
   "cell_type": "code",
   "execution_count": 3,
   "metadata": {},
   "outputs": [
    {
     "data": {
      "text/plain": [
       "array([[1, 0, 0, ..., 0, 0, 0],\n",
       "       [0, 0, 0, ..., 0, 0, 0],\n",
       "       [1, 0, 0, ..., 0, 0, 0],\n",
       "       ...,\n",
       "       [7, 0, 0, ..., 0, 0, 0],\n",
       "       [6, 0, 0, ..., 0, 0, 0],\n",
       "       [9, 0, 0, ..., 0, 0, 0]], dtype=int64)"
      ]
     },
     "execution_count": 3,
     "metadata": {},
     "output_type": "execute_result"
    }
   ],
   "source": [
    "# 2. Convert the data given in the dataFrame into a NumPy array\n",
    "data = np.array(df)\n",
    "data"
   ]
  },
  {
   "cell_type": "code",
   "execution_count": 4,
   "metadata": {},
   "outputs": [
    {
     "data": {
      "text/plain": [
       "(42000, 785)"
      ]
     },
     "execution_count": 4,
     "metadata": {},
     "output_type": "execute_result"
    }
   ],
   "source": [
    "# 3. Query the shape of the array\n",
    "data_shape = data.shape\n",
    "data_count = data_shape[0]\n",
    "features = data_shape[1]\n",
    "\n",
    "data_count, features"
   ]
  },
  {
   "cell_type": "code",
   "execution_count": 5,
   "metadata": {},
   "outputs": [],
   "source": [
    "# 4. Shuffle the contents of the array \n",
    "np.random.shuffle(data)"
   ]
  },
  {
   "cell_type": "code",
   "execution_count": 6,
   "metadata": {},
   "outputs": [],
   "source": [
    "# 5. Use first 1000 images of the dataset as the test set and remaining as the train set\n",
    "test = data[:1000]\n",
    "train = data[1000:]"
   ]
  },
  {
   "cell_type": "code",
   "execution_count": 7,
   "metadata": {},
   "outputs": [
    {
     "data": {
      "text/plain": [
       "((785, 1000), (784, 1000), (1000,))"
      ]
     },
     "execution_count": 7,
     "metadata": {},
     "output_type": "execute_result"
    }
   ],
   "source": [
    "# For test set -- Transpose the data (Take rows as the labels of the test set and rows as the features)\n",
    "test = test.T\n",
    "X_test = test[1:, :]\n",
    "y_test = test[0,:]\n",
    "X_test = X_test / 255 # Color normalization\n",
    "\n",
    "\n",
    "test.shape, X_test.shape, y_test.shape "
   ]
  },
  {
   "cell_type": "code",
   "execution_count": 8,
   "metadata": {},
   "outputs": [
    {
     "data": {
      "text/plain": [
       "((785, 41000), (784, 41000), (41000,))"
      ]
     },
     "execution_count": 8,
     "metadata": {},
     "output_type": "execute_result"
    }
   ],
   "source": [
    "# For train set -- Transpose the data (Take rows as the labels and rows as the features)\n",
    "train = train.T\n",
    "X_train = train[1:, :]\n",
    "y_train = train[0]\n",
    "\n",
    "X_train = X_train / 255\n",
    "\n",
    "train.shape, X_train.shape, y_train.shape "
   ]
  },
  {
   "cell_type": "code",
   "execution_count": 9,
   "metadata": {},
   "outputs": [
    {
     "data": {
      "text/plain": [
       "array([274])"
      ]
     },
     "execution_count": 9,
     "metadata": {},
     "output_type": "execute_result"
    }
   ],
   "source": [
    "# Generate a random index in the range dedicated for training images\n",
    "index = np.random.randint(0, len(train),1)\n",
    "index"
   ]
  },
  {
   "cell_type": "code",
   "execution_count": 10,
   "metadata": {},
   "outputs": [
    {
     "data": {
      "text/plain": [
       "(785, 41000)"
      ]
     },
     "execution_count": 10,
     "metadata": {},
     "output_type": "execute_result"
    }
   ],
   "source": [
    "train.shape"
   ]
  },
  {
   "cell_type": "code",
   "execution_count": 11,
   "metadata": {},
   "outputs": [
    {
     "data": {
      "text/plain": [
       "(1, 41000)"
      ]
     },
     "execution_count": 11,
     "metadata": {},
     "output_type": "execute_result"
    }
   ],
   "source": [
    "train[index].shape"
   ]
  },
  {
   "cell_type": "code",
   "execution_count": 12,
   "metadata": {},
   "outputs": [
    {
     "data": {
      "text/plain": [
       "(28, 28)"
      ]
     },
     "execution_count": 12,
     "metadata": {},
     "output_type": "execute_result"
    }
   ],
   "source": [
    "train_ = train.T\n",
    "new_img = train_[index, :-1]\n",
    "new_img.shape\n",
    "\n",
    "new_image = new_img.reshape(28,-1)\n",
    "new_image.shape"
   ]
  },
  {
   "cell_type": "code",
   "execution_count": 13,
   "metadata": {},
   "outputs": [
    {
     "data": {
      "image/png": "[encoded data removed]",
      "text/plain": [
       "<Figure size 640x480 with 1 Axes>"
      ]
     },
     "metadata": {},
     "output_type": "display_data"
    }
   ],
   "source": [
    "# X_test_2d = new_img.reshape(28,-1)\n",
    "# X_test_2d.shape\n",
    "plt.imshow(new_image) \n",
    "plt.axis('off')\n",
    "plt.show()"
   ]
  },
  {
   "cell_type": "code",
   "execution_count": 14,
   "metadata": {},
   "outputs": [
    {
     "data": {
      "text/plain": [
       "array([[ 0.1938706 , -0.20770728, -0.04275416,  0.06862972, -0.10847776,\n",
       "        -0.38415725,  0.46425799, -0.18895804,  0.26042428,  0.26724913],\n",
       "       [-0.04644633, -0.05231552, -0.08420608,  0.38863779, -0.16951878,\n",
       "        -0.07868585, -0.49554358, -0.37104233, -0.0609815 , -0.03581845],\n",
       "       [ 0.30746493,  0.39176365, -0.30057767, -0.29705141, -0.24682377,\n",
       "        -0.38075023, -0.46805579,  0.19565304, -0.16530743, -0.0629814 ],\n",
       "       [-0.3260424 ,  0.22876199, -0.49525185,  0.48660275,  0.20194552,\n",
       "        -0.46639577, -0.14071379, -0.00775764,  0.01746949, -0.45933288],\n",
       "       [ 0.10909117,  0.16354465,  0.09086094, -0.40469683, -0.19802409,\n",
       "        -0.47634992,  0.41655848,  0.37216103,  0.26573554, -0.41107863],\n",
       "       [-0.04151206, -0.46756171,  0.15992551, -0.49103526, -0.27124186,\n",
       "        -0.22291318,  0.20633061, -0.08346861, -0.25321715, -0.43830776],\n",
       "       [-0.10110306, -0.12517247, -0.44004427, -0.19477058, -0.28434259,\n",
       "         0.24673325,  0.3358008 , -0.42771972, -0.28894958,  0.41101395],\n",
       "       [-0.37825677, -0.16844953, -0.05958869,  0.25606897,  0.26686474,\n",
       "        -0.24385184,  0.29642991, -0.48683794,  0.01598992, -0.34277672],\n",
       "       [ 0.4524814 ,  0.14331488, -0.34878913,  0.47957275, -0.08117734,\n",
       "        -0.33423505,  0.21777233, -0.3174981 ,  0.2249019 ,  0.33724857],\n",
       "       [-0.27208066,  0.18853724,  0.36324089,  0.1899621 , -0.23676722,\n",
       "         0.30287275, -0.48966874, -0.36502119,  0.41980789,  0.02447582]])"
      ]
     },
     "execution_count": 14,
     "metadata": {},
     "output_type": "execute_result"
    }
   ],
   "source": [
    "def initial_params():    \n",
    "    W1 = np.random.uniform(low=-0.5, high=0.5, size=(10,784))\n",
    "    W2 = np.random.uniform(low=-0.5, high=0.5, size=(10,10))\n",
    "    b1 = np.random.uniform(low=-0.5, high=0.5, size=(10,1))\n",
    "    b2 = np.random.uniform(low=-0.5, high=0.5, size=(10,1))\n",
    "\n",
    "    # print(W1.shape, W2.shape, b1.shape, b2.shape)\n",
    "    return W1, b1, W2, b2\n",
    "\n",
    "_, _, W2, _ = initial_params()\n",
    "W2[:100]"
   ]
  },
  {
   "cell_type": "code",
   "execution_count": 15,
   "metadata": {},
   "outputs": [
    {
     "data": {
      "text/plain": [
       "(array([[-0.30913658],\n",
       "        [ 0.26969535],\n",
       "        [ 0.06051685],\n",
       "        [ 0.10692357],\n",
       "        [ 0.34592772],\n",
       "        [-0.39663247],\n",
       "        [ 0.22517008],\n",
       "        [ 0.32945086],\n",
       "        [ 0.1465822 ],\n",
       "        [ 0.00255357]]),\n",
       " array([[-0.2996514 ],\n",
       "        [ 0.26334134],\n",
       "        [ 0.06044308],\n",
       "        [ 0.10651795],\n",
       "        [ 0.33275911],\n",
       "        [-0.37706389],\n",
       "        [ 0.22144021],\n",
       "        [ 0.31802726],\n",
       "        [ 0.14554131],\n",
       "        [ 0.00255356]]))"
      ]
     },
     "execution_count": 15,
     "metadata": {},
     "output_type": "execute_result"
    }
   ],
   "source": [
    "def tanh_fn(vector):\n",
    "    p_exp = np.exp(vector)\n",
    "    n_exp = np.exp(-vector)\n",
    "    return (p_exp - n_exp) / (p_exp + n_exp)\n",
    "\n",
    "vector = np.random.uniform(low=-0.5, high=0.5, size=(10,1))\n",
    "tanh = tanh_fn(vector)\n",
    "vector, tanh"
   ]
  },
  {
   "cell_type": "code",
   "execution_count": 24,
   "metadata": {},
   "outputs": [
    {
     "data": {
      "text/plain": [
       "(array([[-0.07410968],\n",
       "        [-0.24408653],\n",
       "        [ 0.18091073],\n",
       "        [ 0.4904162 ],\n",
       "        [-0.22850607],\n",
       "        [ 0.47578513],\n",
       "        [-0.06954077],\n",
       "        [-0.41905403],\n",
       "        [ 0.35032775],\n",
       "        [ 0.21351301]]),\n",
       " array([[0.9945278 ],\n",
       "        [0.94271066],\n",
       "        [0.9679724 ],\n",
       "        [0.7933873 ],\n",
       "        [0.94955023],\n",
       "        [0.8038735 ],\n",
       "        [0.99517963],\n",
       "        [0.84307848],\n",
       "        [0.88665589],\n",
       "        [0.95576273]]))"
      ]
     },
     "execution_count": 24,
     "metadata": {},
     "output_type": "execute_result"
    }
   ],
   "source": [
    "def d_tanh(vector):\n",
    "    tan_h = tanh_fn(vector)\n",
    "    return 1 - np.power(tan_h, 2) # return 4 / pow((np.exp(vector)+np.exp(-vector)),2)\n",
    "\n",
    "vector = np.random.uniform(low=-0.5, high=0.5, size=(10,1))\n",
    "d_tan = d_tanh(vector)\n",
    "vector, d_tan"
   ]
  },
  {
   "cell_type": "code",
   "execution_count": 27,
   "metadata": {},
   "outputs": [
    {
     "data": {
      "text/plain": [
       "array([[ 0.38161365],\n",
       "       [-0.44769861],\n",
       "       [ 0.12012648],\n",
       "       [-0.07423492],\n",
       "       [ 0.17642567],\n",
       "       [ 0.07996329],\n",
       "       [ 0.1901924 ],\n",
       "       [-0.20524294],\n",
       "       [-0.11406901],\n",
       "       [ 0.4936856 ],\n",
       "       [ 0.30494067],\n",
       "       [-0.19949543],\n",
       "       [ 0.20926098],\n",
       "       [-0.18923924],\n",
       "       [ 0.3462112 ],\n",
       "       [ 0.10200319],\n",
       "       [-0.36940063],\n",
       "       [-0.29766589],\n",
       "       [-0.47197614],\n",
       "       [ 0.43036812],\n",
       "       [-0.37980879],\n",
       "       [-0.17576734],\n",
       "       [ 0.30795387],\n",
       "       [-0.02843774],\n",
       "       [-0.29465895],\n",
       "       [-0.33383574],\n",
       "       [-0.35714252],\n",
       "       [-0.15046174],\n",
       "       [-0.31756572],\n",
       "       [-0.42482937],\n",
       "       [ 0.16891949],\n",
       "       [ 0.34978747],\n",
       "       [-0.18879895],\n",
       "       [-0.0567273 ],\n",
       "       [-0.31423148],\n",
       "       [-0.01464093],\n",
       "       [-0.04057384],\n",
       "       [-0.22290736],\n",
       "       [ 0.30798146],\n",
       "       [-0.2342166 ],\n",
       "       [ 0.21656753],\n",
       "       [ 0.45210841],\n",
       "       [ 0.33749411],\n",
       "       [ 0.28306936],\n",
       "       [ 0.4919775 ],\n",
       "       [-0.11990016],\n",
       "       [-0.40376809],\n",
       "       [ 0.09589603],\n",
       "       [-0.20508669],\n",
       "       [ 0.35071411],\n",
       "       [ 0.26838312],\n",
       "       [ 0.33331868],\n",
       "       [-0.45176084],\n",
       "       [-0.0163593 ],\n",
       "       [ 0.18953092],\n",
       "       [-0.49181401],\n",
       "       [-0.03368141],\n",
       "       [ 0.21953782],\n",
       "       [ 0.46642655],\n",
       "       [-0.3140265 ],\n",
       "       [-0.29533258],\n",
       "       [ 0.313442  ],\n",
       "       [ 0.02465124],\n",
       "       [-0.12418264],\n",
       "       [-0.16959589],\n",
       "       [ 0.42333358],\n",
       "       [ 0.07225564],\n",
       "       [-0.4716062 ],\n",
       "       [ 0.05271373],\n",
       "       [ 0.25185494],\n",
       "       [ 0.2200627 ],\n",
       "       [ 0.42372248],\n",
       "       [-0.0934687 ],\n",
       "       [ 0.30195611],\n",
       "       [-0.15088769],\n",
       "       [ 0.48495401],\n",
       "       [ 0.22119448],\n",
       "       [-0.33089733],\n",
       "       [-0.01158967],\n",
       "       [-0.43195418],\n",
       "       [-0.14498392],\n",
       "       [-0.23120459],\n",
       "       [ 0.04320242],\n",
       "       [ 0.23110136],\n",
       "       [-0.49962404],\n",
       "       [ 0.14617858],\n",
       "       [-0.39801143],\n",
       "       [ 0.3158303 ],\n",
       "       [ 0.05824399],\n",
       "       [-0.27080656],\n",
       "       [ 0.01026278],\n",
       "       [-0.01098547],\n",
       "       [ 0.00289348],\n",
       "       [ 0.44584278],\n",
       "       [ 0.49550837],\n",
       "       [ 0.15235328],\n",
       "       [-0.46483997],\n",
       "       [ 0.22705427],\n",
       "       [-0.3514725 ],\n",
       "       [-0.40911979]])"
      ]
     },
     "execution_count": 27,
     "metadata": {},
     "output_type": "execute_result"
    }
   ],
   "source": [
    "vector = np.random.uniform(low=-0.5, high=0.5, size=(100,1))\n",
    "vector"
   ]
  },
  {
   "cell_type": "code",
   "execution_count": 28,
   "metadata": {},
   "outputs": [
    {
     "data": {
      "text/plain": [
       "<matplotlib.collections.PathCollection at 0x27a85ee3e30>"
      ]
     },
     "execution_count": 28,
     "metadata": {},
     "output_type": "execute_result"
    },
    {
     "data": {
      "image/png": "[encoded data removed]",
      "text/plain": [
       "<Figure size 640x480 with 1 Axes>"
      ]
     },
     "metadata": {},
     "output_type": "display_data"
    }
   ],
   "source": [
    "tan_h = tanh_fn(vector)\n",
    "d_tan_h = d_tanh(vector)\n",
    "\n",
    "plt.scatter(vector, tan_h, c='blue')\n",
    "plt.scatter(vector, d_tan_h, c='green')\n"
   ]
  },
  {
   "cell_type": "code",
   "execution_count": 29,
   "metadata": {},
   "outputs": [
    {
     "data": {
      "text/plain": [
       "(array([[ 0.17880687],\n",
       "        [-0.25522783],\n",
       "        [ 0.01330156],\n",
       "        [-0.11722704],\n",
       "        [-0.03961057],\n",
       "        [-0.13964129],\n",
       "        [-0.43760348],\n",
       "        [ 0.3249054 ],\n",
       "        [-0.37029766],\n",
       "        [-0.01677396]]),\n",
       " array([[0.544583  ],\n",
       "        [0.43653717],\n",
       "        [0.50332534],\n",
       "        [0.47072676],\n",
       "        [0.49009865],\n",
       "        [0.46514629],\n",
       "        [0.39231216],\n",
       "        [0.58051927],\n",
       "        [0.4084691 ],\n",
       "        [0.49580661]]))"
      ]
     },
     "execution_count": 29,
     "metadata": {},
     "output_type": "execute_result"
    }
   ],
   "source": [
    "def sigmoid(vector):\n",
    "    return 1 / (1 + np.exp(-vector))\n",
    "\n",
    "vector = np.random.uniform(low=-0.5, high=0.5, size=(10,1))\n",
    "softmax = sigmoid(vector)\n",
    "vector, softmax"
   ]
  },
  {
   "cell_type": "code",
   "execution_count": 20,
   "metadata": {},
   "outputs": [],
   "source": [
    "# def df_softmax(vector):\n",
    "#     d_softmax = softmax_fn(vector) * (1 - softmax_fn(vector))\n",
    "\n",
    "#     return d_softmax\n",
    "\n",
    "# vector = np.random.uniform(low=-0.5, high=0.5, size=(10,1))\n",
    "# d_softmax = softmax_fn(vector)\n",
    "# vector, d_softmax"
   ]
  },
  {
   "cell_type": "code",
   "execution_count": 30,
   "metadata": {},
   "outputs": [
    {
     "data": {
      "text/plain": [
       "<matplotlib.collections.PathCollection at 0x27a9f041070>"
      ]
     },
     "execution_count": 30,
     "metadata": {},
     "output_type": "execute_result"
    },
    {
     "data": {
      "image/png": "[encoded data removed]",
      "text/plain": [
       "<Figure size 640x480 with 1 Axes>"
      ]
     },
     "metadata": {},
     "output_type": "display_data"
    }
   ],
   "source": [
    "vector = np.random.uniform(low=-0.5, high=0.5, size=(10,1))\n",
    "vector = np.append(vector, [0.00000, -0.5, 0.5])\n",
    "vector\n",
    "\n",
    "sigm = sigmoid(vector)\n",
    "# d_softmax = df_softmax(vector)\n",
    "\n",
    "plt.scatter(vector, sigm, c='blue')\n",
    "# plt.scatter(vector, d_softmax, c='green')\n"
   ]
  },
  {
   "cell_type": "code",
   "execution_count": 43,
   "metadata": {},
   "outputs": [],
   "source": [
    "def forward_prop(W1, b1, W2, b2, A0):\n",
    "    Z1 = np.dot(W1, A0) + b1\n",
    "    A1 = tanh_fn(Z1)\n",
    "\n",
    "    Z2 = np.dot(W2, A1) + b2\n",
    "    A2 = sigmoid(Z2)\n",
    "\n",
    "    return Z1, A1, Z2, A2"
   ]
  },
  {
   "cell_type": "code",
   "execution_count": 32,
   "metadata": {},
   "outputs": [
    {
     "data": {
      "text/plain": [
       "(10, 1000)"
      ]
     },
     "execution_count": 32,
     "metadata": {},
     "output_type": "execute_result"
    }
   ],
   "source": [
    "# One hot encoding\n",
    "def one_hot_encoding(Y, num_classes):\n",
    "    num_classes = int(num_classes)  # Ensure num_classes is an integer\n",
    "    encoded_mat = np.zeros((num_classes, len(Y)))\n",
    "    for i in range(len(Y)):\n",
    "        class_index = int(Y[i])\n",
    "        encoded_mat[class_index, i] = 1\n",
    "    return encoded_mat\n",
    "\n",
    "y_train = one_hot_encoding(y_train, num_classes=10)\n",
    "y_train.shape\n",
    "y_test = one_hot_encoding(y_test, num_classes=10)\n",
    "y_test.shape\n"
   ]
  },
  {
   "cell_type": "code",
   "execution_count": 33,
   "metadata": {},
   "outputs": [],
   "source": [
    "# Backward propagation\n",
    "def backward_prop(Z1, A1, Z2, A2, W1, W2, y, A0, y_train):\n",
    "    m = A0.shape[1]\n",
    "    dZ2 = A2 - y_train\n",
    "    dZ1 = np.dot(W2.T, dZ2) * d_tanh(Z1)\n",
    "\n",
    "    dW1 = (1 / m) * np.dot(dZ1, A0.T)\n",
    "    dW2 = (1 / m) * np.dot(dZ2, A1.T)\n",
    "    db1 = (1 / m) * np.sum(dZ1, axis=1, keepdims=True)\n",
    "    db2 = (1 / m) * np.sum(dZ2, axis=1, keepdims=True)\n",
    "\n",
    "    return dW1, db1, dW2, db2"
   ]
  },
  {
   "cell_type": "code",
   "execution_count": 34,
   "metadata": {},
   "outputs": [],
   "source": [
    "# Update parameters\n",
    "def update_parameters(W1, b1, W2, b2, dW1, db1, dW2, db2, learning_rate= 0.01):\n",
    "    W1 = W1 - learning_rate * dW1\n",
    "    b1 = b1 - learning_rate * db1\n",
    "    W2 = W2 - learning_rate * dW2\n",
    "    b2 = b2 - learning_rate * db2\n",
    "\n",
    "    return W1, b1, W2, b2"
   ]
  },
  {
   "cell_type": "code",
   "execution_count": 35,
   "metadata": {},
   "outputs": [],
   "source": [
    "def obtain_predictions(vector):  # Corrected parameter name\n",
    "    return np.argmax(vector, axis=0)\n"
   ]
  },
  {
   "cell_type": "code",
   "execution_count": 36,
   "metadata": {},
   "outputs": [
    {
     "name": "stdout",
     "output_type": "stream",
     "text": [
      "Requirement already satisfied: scikit-learn in c:\\users\\ghimi\\appdata\\local\\programs\\python\\python312\\lib\\site-packages (1.5.1)Note: you may need to restart the kernel to use updated packages.\n",
      "\n",
      "Requirement already satisfied: numpy>=1.19.5 in c:\\users\\ghimi\\appdata\\local\\programs\\python\\python312\\lib\\site-packages (from scikit-learn) (1.26.1)\n",
      "Requirement already satisfied: scipy>=1.6.0 in c:\\users\\ghimi\\appdata\\local\\programs\\python\\python312\\lib\\site-packages (from scikit-learn) (1.14.0)\n",
      "Requirement already satisfied: joblib>=1.2.0 in c:\\users\\ghimi\\appdata\\local\\programs\\python\\python312\\lib\\site-packages (from scikit-learn) (1.3.2)\n",
      "Requirement already satisfied: threadpoolctl>=3.1.0 in c:\\users\\ghimi\\appdata\\local\\programs\\python\\python312\\lib\\site-packages (from scikit-learn) (3.5.0)\n"
     ]
    },
    {
     "name": "stderr",
     "output_type": "stream",
     "text": [
      "\n",
      "[notice] A new release of pip is available: 23.3.2 -> 24.1.2\n",
      "[notice] To update, run: python.exe -m pip install --upgrade pip\n"
     ]
    }
   ],
   "source": [
    "%pip install scikit-learn\n",
    "from sklearn.metrics import accuracy_score"
   ]
  },
  {
   "cell_type": "code",
   "execution_count": 37,
   "metadata": {},
   "outputs": [],
   "source": [
    "def accuracy_sc(y_pred, y_actual): # Vectors  \n",
    "    num_samples = y_actual.shape[1]\n",
    "\n",
    "    if y_pred.ndim ==2:\n",
    "        pred_label = obtain_predictions(y_pred)\n",
    "    else:\n",
    "        pred_label = y_pred\n",
    "        \n",
    "    if y_actual.ndim == 2:\n",
    "        actual_label = obtain_predictions(y_actual)\n",
    "    else:\n",
    "        actual_label = y_actual\n",
    "    \n",
    "    num_correct = np.sum(pred_label == actual_label)\n",
    "    # print(num_correct)\n",
    "    return num_correct / num_samples"
   ]
  },
  {
   "cell_type": "code",
   "execution_count": 38,
   "metadata": {},
   "outputs": [
    {
     "data": {
      "text/plain": [
       "(10, 41000)"
      ]
     },
     "execution_count": 38,
     "metadata": {},
     "output_type": "execute_result"
    }
   ],
   "source": [
    "y_train.shape"
   ]
  },
  {
   "cell_type": "code",
   "execution_count": 39,
   "metadata": {},
   "outputs": [],
   "source": [
    "def gradient_descent(X_train, y_train, learning_rate, num_iterations):\n",
    "    W1, b1, W2, b2 = initial_params()\n",
    "\n",
    "    accuracy_list = []\n",
    "\n",
    "    for i in range(num_iterations+1):\n",
    "        Z1, A1, Z2, A2 = forward_prop(W1, b1, W2, b2, X_train)\n",
    "        dW1, db1, dW2, db2 = backward_prop(Z1, A1, Z2, A2, W1, W2, y_train, X_train, y_train)\n",
    "        W1, b1, W2, b2 = update_parameters(W1, b1, W2, b2, dW1, db1, dW2, db2, learning_rate)\n",
    "\n",
    "        if i%5==0:\n",
    "            accuracy = accuracy_sc(A2,y_train)\n",
    "            accuracy_list.append((i,accuracy))\n",
    "            print(f\"Iteration: {i} \\t Accuracy: {accuracy:.5f}\")\n",
    "\n",
    "    return W1, b1, W2, b2, accuracy_list"
   ]
  },
  {
   "cell_type": "code",
   "execution_count": 40,
   "metadata": {},
   "outputs": [],
   "source": [
    "def make_prediction(X_test, W1, b1, W2, b2):\n",
    "    _, _, _, A2 = forward_prop(W1, b1, W2, b2, X_test) \n",
    "    pred = obtain_predictions(A2)\n",
    "    return pred    "
   ]
  },
  {
   "cell_type": "code",
   "execution_count": 41,
   "metadata": {},
   "outputs": [],
   "source": [
    "def plot_image(image):\n",
    "    X_test_2d = image.reshape(28,-1)\n",
    "    print(X_test_2d.shape)\n",
    "    plt.imshow(X_test_2d) \n",
    "    plt.axis('off')\n",
    "    plt.show()"
   ]
  },
  {
   "cell_type": "code",
   "execution_count": 44,
   "metadata": {},
   "outputs": [
    {
     "name": "stdout",
     "output_type": "stream",
     "text": [
      "Iteration: 0 \t Accuracy: 0.05568\n",
      "Iteration: 5 \t Accuracy: 0.05578\n",
      "Iteration: 10 \t Accuracy: 0.05578\n",
      "Iteration: 15 \t Accuracy: 0.05568\n",
      "Iteration: 20 \t Accuracy: 0.05566\n",
      "Iteration: 25 \t Accuracy: 0.05563\n",
      "Iteration: 30 \t Accuracy: 0.05568\n",
      "Iteration: 35 \t Accuracy: 0.05576\n",
      "Iteration: 40 \t Accuracy: 0.05585\n",
      "Iteration: 45 \t Accuracy: 0.05598\n",
      "Iteration: 50 \t Accuracy: 0.05605\n",
      "Iteration: 55 \t Accuracy: 0.05615\n",
      "Iteration: 60 \t Accuracy: 0.05629\n",
      "Iteration: 65 \t Accuracy: 0.05627\n",
      "Iteration: 70 \t Accuracy: 0.05644\n",
      "Iteration: 75 \t Accuracy: 0.05641\n",
      "Iteration: 80 \t Accuracy: 0.05656\n",
      "Iteration: 85 \t Accuracy: 0.05651\n",
      "Iteration: 90 \t Accuracy: 0.05659\n",
      "Iteration: 95 \t Accuracy: 0.05671\n",
      "Iteration: 100 \t Accuracy: 0.05683\n",
      "Iteration: 105 \t Accuracy: 0.05698\n",
      "Iteration: 110 \t Accuracy: 0.05712\n",
      "Iteration: 115 \t Accuracy: 0.05720\n",
      "Iteration: 120 \t Accuracy: 0.05729\n",
      "Iteration: 125 \t Accuracy: 0.05732\n",
      "Iteration: 130 \t Accuracy: 0.05739\n",
      "Iteration: 135 \t Accuracy: 0.05746\n",
      "Iteration: 140 \t Accuracy: 0.05759\n",
      "Iteration: 145 \t Accuracy: 0.05759\n",
      "Iteration: 150 \t Accuracy: 0.05771\n",
      "Iteration: 155 \t Accuracy: 0.05780\n",
      "Iteration: 160 \t Accuracy: 0.05778\n",
      "Iteration: 165 \t Accuracy: 0.05776\n",
      "Iteration: 170 \t Accuracy: 0.05788\n",
      "Iteration: 175 \t Accuracy: 0.05793\n",
      "Iteration: 180 \t Accuracy: 0.05795\n",
      "Iteration: 185 \t Accuracy: 0.05790\n",
      "Iteration: 190 \t Accuracy: 0.05802\n",
      "Iteration: 195 \t Accuracy: 0.05810\n",
      "Iteration: 200 \t Accuracy: 0.05812\n",
      "Iteration: 205 \t Accuracy: 0.05820\n",
      "Iteration: 210 \t Accuracy: 0.05817\n",
      "Iteration: 215 \t Accuracy: 0.05824\n",
      "Iteration: 220 \t Accuracy: 0.05827\n",
      "Iteration: 225 \t Accuracy: 0.05824\n",
      "Iteration: 230 \t Accuracy: 0.05832\n",
      "Iteration: 235 \t Accuracy: 0.05829\n",
      "Iteration: 240 \t Accuracy: 0.05837\n",
      "Iteration: 245 \t Accuracy: 0.05849\n",
      "Iteration: 250 \t Accuracy: 0.05859\n",
      "Iteration: 255 \t Accuracy: 0.05866\n",
      "Iteration: 260 \t Accuracy: 0.05876\n",
      "Iteration: 265 \t Accuracy: 0.05876\n",
      "Iteration: 270 \t Accuracy: 0.05876\n",
      "Iteration: 275 \t Accuracy: 0.05888\n",
      "Iteration: 280 \t Accuracy: 0.05885\n",
      "Iteration: 285 \t Accuracy: 0.05883\n",
      "Iteration: 290 \t Accuracy: 0.05888\n",
      "Iteration: 295 \t Accuracy: 0.05898\n",
      "Iteration: 300 \t Accuracy: 0.05900\n",
      "Iteration: 305 \t Accuracy: 0.05915\n",
      "Iteration: 310 \t Accuracy: 0.05927\n",
      "Iteration: 315 \t Accuracy: 0.05939\n",
      "Iteration: 320 \t Accuracy: 0.05956\n",
      "Iteration: 325 \t Accuracy: 0.05968\n",
      "Iteration: 330 \t Accuracy: 0.05973\n",
      "Iteration: 335 \t Accuracy: 0.05973\n",
      "Iteration: 340 \t Accuracy: 0.05971\n",
      "Iteration: 345 \t Accuracy: 0.05968\n",
      "Iteration: 350 \t Accuracy: 0.05978\n",
      "Iteration: 355 \t Accuracy: 0.05976\n",
      "Iteration: 360 \t Accuracy: 0.05990\n",
      "Iteration: 365 \t Accuracy: 0.05995\n",
      "Iteration: 370 \t Accuracy: 0.06005\n",
      "Iteration: 375 \t Accuracy: 0.06012\n",
      "Iteration: 380 \t Accuracy: 0.06020\n",
      "Iteration: 385 \t Accuracy: 0.06012\n",
      "Iteration: 390 \t Accuracy: 0.06020\n",
      "Iteration: 395 \t Accuracy: 0.06024\n",
      "Iteration: 400 \t Accuracy: 0.06029\n",
      "Iteration: 405 \t Accuracy: 0.06037\n",
      "Iteration: 410 \t Accuracy: 0.06044\n",
      "Iteration: 415 \t Accuracy: 0.06049\n",
      "Iteration: 420 \t Accuracy: 0.06041\n",
      "Iteration: 425 \t Accuracy: 0.06039\n",
      "Iteration: 430 \t Accuracy: 0.06046\n",
      "Iteration: 435 \t Accuracy: 0.06056\n",
      "Iteration: 440 \t Accuracy: 0.06056\n",
      "Iteration: 445 \t Accuracy: 0.06066\n",
      "Iteration: 450 \t Accuracy: 0.06068\n",
      "Iteration: 455 \t Accuracy: 0.06066\n",
      "Iteration: 460 \t Accuracy: 0.06068\n",
      "Iteration: 465 \t Accuracy: 0.06068\n",
      "Iteration: 470 \t Accuracy: 0.06078\n",
      "Iteration: 475 \t Accuracy: 0.06078\n",
      "Iteration: 480 \t Accuracy: 0.06088\n",
      "Iteration: 485 \t Accuracy: 0.06090\n",
      "Iteration: 490 \t Accuracy: 0.06093\n",
      "Iteration: 495 \t Accuracy: 0.06093\n",
      "Iteration: 500 \t Accuracy: 0.06110\n",
      "Iteration: 505 \t Accuracy: 0.06110\n",
      "Iteration: 510 \t Accuracy: 0.06105\n",
      "Iteration: 515 \t Accuracy: 0.06110\n",
      "Iteration: 520 \t Accuracy: 0.06122\n",
      "Iteration: 525 \t Accuracy: 0.06132\n",
      "Iteration: 530 \t Accuracy: 0.06127\n",
      "Iteration: 535 \t Accuracy: 0.06141\n",
      "Iteration: 540 \t Accuracy: 0.06146\n",
      "Iteration: 545 \t Accuracy: 0.06163\n",
      "Iteration: 550 \t Accuracy: 0.06166\n",
      "Iteration: 555 \t Accuracy: 0.06173\n",
      "Iteration: 560 \t Accuracy: 0.06178\n",
      "Iteration: 565 \t Accuracy: 0.06188\n",
      "Iteration: 570 \t Accuracy: 0.06188\n",
      "Iteration: 575 \t Accuracy: 0.06195\n",
      "Iteration: 580 \t Accuracy: 0.06193\n",
      "Iteration: 585 \t Accuracy: 0.06193\n",
      "Iteration: 590 \t Accuracy: 0.06202\n",
      "Iteration: 595 \t Accuracy: 0.06202\n",
      "Iteration: 600 \t Accuracy: 0.06200\n",
      "Iteration: 605 \t Accuracy: 0.06217\n",
      "Iteration: 610 \t Accuracy: 0.06237\n",
      "Iteration: 615 \t Accuracy: 0.06246\n",
      "Iteration: 620 \t Accuracy: 0.06244\n",
      "Iteration: 625 \t Accuracy: 0.06241\n",
      "Iteration: 630 \t Accuracy: 0.06249\n",
      "Iteration: 635 \t Accuracy: 0.06251\n",
      "Iteration: 640 \t Accuracy: 0.06268\n",
      "Iteration: 645 \t Accuracy: 0.06266\n",
      "Iteration: 650 \t Accuracy: 0.06268\n",
      "Iteration: 655 \t Accuracy: 0.06280\n",
      "Iteration: 660 \t Accuracy: 0.06280\n",
      "Iteration: 665 \t Accuracy: 0.06276\n",
      "Iteration: 670 \t Accuracy: 0.06278\n",
      "Iteration: 675 \t Accuracy: 0.06273\n",
      "Iteration: 680 \t Accuracy: 0.06280\n",
      "Iteration: 685 \t Accuracy: 0.06278\n",
      "Iteration: 690 \t Accuracy: 0.06288\n",
      "Iteration: 695 \t Accuracy: 0.06302\n",
      "Iteration: 700 \t Accuracy: 0.06307\n",
      "Iteration: 705 \t Accuracy: 0.06302\n",
      "Iteration: 710 \t Accuracy: 0.06322\n",
      "Iteration: 715 \t Accuracy: 0.06329\n",
      "Iteration: 720 \t Accuracy: 0.06329\n",
      "Iteration: 725 \t Accuracy: 0.06324\n",
      "Iteration: 730 \t Accuracy: 0.06334\n",
      "Iteration: 735 \t Accuracy: 0.06349\n",
      "Iteration: 740 \t Accuracy: 0.06366\n",
      "Iteration: 745 \t Accuracy: 0.06385\n",
      "Iteration: 750 \t Accuracy: 0.06383\n",
      "Iteration: 755 \t Accuracy: 0.06390\n",
      "Iteration: 760 \t Accuracy: 0.06393\n",
      "Iteration: 765 \t Accuracy: 0.06395\n",
      "Iteration: 770 \t Accuracy: 0.06405\n",
      "Iteration: 775 \t Accuracy: 0.06410\n",
      "Iteration: 780 \t Accuracy: 0.06417\n",
      "Iteration: 785 \t Accuracy: 0.06415\n",
      "Iteration: 790 \t Accuracy: 0.06424\n",
      "Iteration: 795 \t Accuracy: 0.06427\n",
      "Iteration: 800 \t Accuracy: 0.06434\n",
      "Iteration: 805 \t Accuracy: 0.06441\n",
      "Iteration: 810 \t Accuracy: 0.06449\n",
      "Iteration: 815 \t Accuracy: 0.06459\n",
      "Iteration: 820 \t Accuracy: 0.06471\n",
      "Iteration: 825 \t Accuracy: 0.06476\n",
      "Iteration: 830 \t Accuracy: 0.06478\n",
      "Iteration: 835 \t Accuracy: 0.06490\n",
      "Iteration: 840 \t Accuracy: 0.06502\n",
      "Iteration: 845 \t Accuracy: 0.06510\n",
      "Iteration: 850 \t Accuracy: 0.06527\n",
      "Iteration: 855 \t Accuracy: 0.06529\n",
      "Iteration: 860 \t Accuracy: 0.06546\n",
      "Iteration: 865 \t Accuracy: 0.06546\n",
      "Iteration: 870 \t Accuracy: 0.06541\n",
      "Iteration: 875 \t Accuracy: 0.06551\n",
      "Iteration: 880 \t Accuracy: 0.06563\n",
      "Iteration: 885 \t Accuracy: 0.06573\n",
      "Iteration: 890 \t Accuracy: 0.06573\n",
      "Iteration: 895 \t Accuracy: 0.06580\n",
      "Iteration: 900 \t Accuracy: 0.06578\n",
      "Iteration: 905 \t Accuracy: 0.06585\n",
      "Iteration: 910 \t Accuracy: 0.06590\n",
      "Iteration: 915 \t Accuracy: 0.06600\n",
      "Iteration: 920 \t Accuracy: 0.06590\n",
      "Iteration: 925 \t Accuracy: 0.06588\n",
      "Iteration: 930 \t Accuracy: 0.06605\n",
      "Iteration: 935 \t Accuracy: 0.06615\n",
      "Iteration: 940 \t Accuracy: 0.06615\n",
      "Iteration: 945 \t Accuracy: 0.06617\n",
      "Iteration: 950 \t Accuracy: 0.06629\n",
      "Iteration: 955 \t Accuracy: 0.06644\n",
      "Iteration: 960 \t Accuracy: 0.06634\n",
      "Iteration: 965 \t Accuracy: 0.06646\n",
      "Iteration: 970 \t Accuracy: 0.06649\n",
      "Iteration: 975 \t Accuracy: 0.06651\n",
      "Iteration: 980 \t Accuracy: 0.06661\n",
      "Iteration: 985 \t Accuracy: 0.06654\n",
      "Iteration: 990 \t Accuracy: 0.06651\n",
      "Iteration: 995 \t Accuracy: 0.06654\n",
      "Iteration: 1000 \t Accuracy: 0.06656\n"
     ]
    }
   ],
   "source": [
    "W1, b1, W2, b2, accuracy_list = gradient_descent(X_train, y_train, learning_rate=0.0001, num_iterations=1000)"
   ]
  },
  {
   "cell_type": "code",
   "execution_count": 45,
   "metadata": {},
   "outputs": [
    {
     "data": {
      "image/png": "[encoded data removed]",
      "text/plain": [
       "<Figure size 1000x600 with 1 Axes>"
      ]
     },
     "metadata": {},
     "output_type": "display_data"
    }
   ],
   "source": [
    "iterations, accuracies = zip(*accuracy_list)\n",
    "\n",
    "plt.figure(figsize=(10, 6))\n",
    "plt.plot(iterations, accuracies, marker='o', linestyle='-', color='b')\n",
    "plt.title('Accuracy vs. Iteration')\n",
    "plt.xlabel('Iteration')\n",
    "plt.ylabel('Accuracy')\n",
    "plt.grid(True)\n",
    "plt.show()"
   ]
  },
  {
   "cell_type": "code",
   "execution_count": 46,
   "metadata": {},
   "outputs": [],
   "source": [
    "def test_predictions(W1, b1, W2, b2, X_test, y_test):\n",
    "    test = make_prediction(X_test, W1, b1, W2, b2)\n",
    "    image = X_test.T\n",
    "    print(test.shape)\n",
    "    accuracy = accuracy_sc(test, y_test)\n",
    "    print(f\"Accuracy:{accuracy}\")\n",
    "    y_test_label = obtain_predictions(y_test)\n",
    "    for i in range(10):\n",
    "        print(test[i], y_test_label[i])\n",
    "        print(image[i].shape)\n",
    "        plot_image(image[i])"
   ]
  },
  {
   "cell_type": "code",
   "execution_count": 47,
   "metadata": {},
   "outputs": [
    {
     "name": "stdout",
     "output_type": "stream",
     "text": [
      "(1000,)\n",
      "Accuracy:0.051\n",
      "5 7\n",
      "(784,)\n",
      "(28, 28)\n"
     ]
    },
    {
     "data": {
      "image/png": "[encoded data removed]",
      "text/plain": [
       "<Figure size 640x480 with 1 Axes>"
      ]
     },
     "metadata": {},
     "output_type": "display_data"
    },
    {
     "name": "stdout",
     "output_type": "stream",
     "text": [
      "0 9\n",
      "(784,)\n",
      "(28, 28)\n"
     ]
    },
    {
     "data": {
      "image/png": "[encoded data removed]",
      "text/plain": [
       "<Figure size 640x480 with 1 Axes>"
      ]
     },
     "metadata": {},
     "output_type": "display_data"
    },
    {
     "name": "stdout",
     "output_type": "stream",
     "text": [
      "0 0\n",
      "(784,)\n",
      "(28, 28)\n"
     ]
    },
    {
     "data": {
      "image/png": "[encoded data removed]",
      "text/plain": [
       "<Figure size 640x480 with 1 Axes>"
      ]
     },
     "metadata": {},
     "output_type": "display_data"
    },
    {
     "name": "stdout",
     "output_type": "stream",
     "text": [
      "0 9\n",
      "(784,)\n",
      "(28, 28)\n"
     ]
    },
    {
     "data": {
      "image/png": "[encoded data removed]",
      "text/plain": [
       "<Figure size 640x480 with 1 Axes>"
      ]
     },
     "metadata": {},
     "output_type": "display_data"
    },
    {
     "name": "stdout",
     "output_type": "stream",
     "text": [
      "1 0\n",
      "(784,)\n",
      "(28, 28)\n"
     ]
    },
    {
     "data": {
      "image/png": "[encoded data removed]",
      "text/plain": [
       "<Figure size 640x480 with 1 Axes>"
      ]
     },
     "metadata": {},
     "output_type": "display_data"
    },
    {
     "name": "stdout",
     "output_type": "stream",
     "text": [
      "7 9\n",
      "(784,)\n",
      "(28, 28)\n"
     ]
    },
    {
     "data": {
      "image/png": "[encoded data removed]",
      "text/plain": [
       "<Figure size 640x480 with 1 Axes>"
      ]
     },
     "metadata": {},
     "output_type": "display_data"
    },
    {
     "name": "stdout",
     "output_type": "stream",
     "text": [
      "8 9\n",
      "(784,)\n",
      "(28, 28)\n"
     ]
    },
    {
     "data": {
      "image/png": "[encoded data removed]",
      "text/plain": [
       "<Figure size 640x480 with 1 Axes>"
      ]
     },
     "metadata": {},
     "output_type": "display_data"
    },
    {
     "name": "stdout",
     "output_type": "stream",
     "text": [
      "3 3\n",
      "(784,)\n",
      "(28, 28)\n"
     ]
    },
    {
     "data": {
      "image/png": "[encoded data removed]",
      "text/plain": [
       "<Figure size 640x480 with 1 Axes>"
      ]
     },
     "metadata": {},
     "output_type": "display_data"
    },
    {
     "name": "stdout",
     "output_type": "stream",
     "text": [
      "3 4\n",
      "(784,)\n",
      "(28, 28)\n"
     ]
    },
    {
     "data": {
      "image/png": "[encoded data removed]",
      "text/plain": [
       "<Figure size 640x480 with 1 Axes>"
      ]
     },
     "metadata": {},
     "output_type": "display_data"
    },
    {
     "name": "stdout",
     "output_type": "stream",
     "text": [
      "9 2\n",
      "(784,)\n",
      "(28, 28)\n"
     ]
    },
    {
     "data": {
      "image/png": "[encoded data removed]",
      "text/plain": [
       "<Figure size 640x480 with 1 Axes>"
      ]
     },
     "metadata": {},
     "output_type": "display_data"
    }
   ],
   "source": [
    "test_predictions(W1, b1, W2, b2, X_test, y_test)"
   ]
  }
 ],
 "metadata": {
  "kernelspec": {
   "display_name": "Python 3",
   "language": "python",
   "name": "python3"
  },
  "language_info": {
   "codemirror_mode": {
    "name": "ipython",
    "version": 3
   },
   "file_extension": ".py",
   "mimetype": "text/x-python",
   "name": "python",
   "nbconvert_exporter": "python",
   "pygments_lexer": "ipython3",
   "version": "3.12.0"
  }
 },
 "nbformat": 4,
 "nbformat_minor": 2
}
