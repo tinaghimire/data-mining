{
 "cells": [
  {
   "cell_type": "code",
   "execution_count": 1,
   "metadata": {},
   "outputs": [],
   "source": [
    "import matplotlib.pyplot as plt\n",
    "import numpy as np\n",
    "import pandas as pd"
   ]
  },
  {
   "cell_type": "code",
   "execution_count": 2,
   "metadata": {},
   "outputs": [
    {
     "data": {
      "text/html": [
       "<div>\n",
       "<style scoped>\n",
       "    .dataframe tbody tr th:only-of-type {\n",
       "        vertical-align: middle;\n",
       "    }\n",
       "\n",
       "    .dataframe tbody tr th {\n",
       "        vertical-align: top;\n",
       "    }\n",
       "\n",
       "    .dataframe thead th {\n",
       "        text-align: right;\n",
       "    }\n",
       "</style>\n",
       "<table border=\"1\" class=\"dataframe\">\n",
       "  <thead>\n",
       "    <tr style=\"text-align: right;\">\n",
       "      <th></th>\n",
       "      <th>label</th>\n",
       "      <th>pixel0</th>\n",
       "      <th>pixel1</th>\n",
       "      <th>pixel2</th>\n",
       "      <th>pixel3</th>\n",
       "      <th>pixel4</th>\n",
       "      <th>pixel5</th>\n",
       "      <th>pixel6</th>\n",
       "      <th>pixel7</th>\n",
       "      <th>pixel8</th>\n",
       "      <th>...</th>\n",
       "      <th>pixel774</th>\n",
       "      <th>pixel775</th>\n",
       "      <th>pixel776</th>\n",
       "      <th>pixel777</th>\n",
       "      <th>pixel778</th>\n",
       "      <th>pixel779</th>\n",
       "      <th>pixel780</th>\n",
       "      <th>pixel781</th>\n",
       "      <th>pixel782</th>\n",
       "      <th>pixel783</th>\n",
       "    </tr>\n",
       "  </thead>\n",
       "  <tbody>\n",
       "    <tr>\n",
       "      <th>0</th>\n",
       "      <td>1</td>\n",
       "      <td>0</td>\n",
       "      <td>0</td>\n",
       "      <td>0</td>\n",
       "      <td>0</td>\n",
       "      <td>0</td>\n",
       "      <td>0</td>\n",
       "      <td>0</td>\n",
       "      <td>0</td>\n",
       "      <td>0</td>\n",
       "      <td>...</td>\n",
       "      <td>0</td>\n",
       "      <td>0</td>\n",
       "      <td>0</td>\n",
       "      <td>0</td>\n",
       "      <td>0</td>\n",
       "      <td>0</td>\n",
       "      <td>0</td>\n",
       "      <td>0</td>\n",
       "      <td>0</td>\n",
       "      <td>0</td>\n",
       "    </tr>\n",
       "    <tr>\n",
       "      <th>1</th>\n",
       "      <td>0</td>\n",
       "      <td>0</td>\n",
       "      <td>0</td>\n",
       "      <td>0</td>\n",
       "      <td>0</td>\n",
       "      <td>0</td>\n",
       "      <td>0</td>\n",
       "      <td>0</td>\n",
       "      <td>0</td>\n",
       "      <td>0</td>\n",
       "      <td>...</td>\n",
       "      <td>0</td>\n",
       "      <td>0</td>\n",
       "      <td>0</td>\n",
       "      <td>0</td>\n",
       "      <td>0</td>\n",
       "      <td>0</td>\n",
       "      <td>0</td>\n",
       "      <td>0</td>\n",
       "      <td>0</td>\n",
       "      <td>0</td>\n",
       "    </tr>\n",
       "    <tr>\n",
       "      <th>2</th>\n",
       "      <td>1</td>\n",
       "      <td>0</td>\n",
       "      <td>0</td>\n",
       "      <td>0</td>\n",
       "      <td>0</td>\n",
       "      <td>0</td>\n",
       "      <td>0</td>\n",
       "      <td>0</td>\n",
       "      <td>0</td>\n",
       "      <td>0</td>\n",
       "      <td>...</td>\n",
       "      <td>0</td>\n",
       "      <td>0</td>\n",
       "      <td>0</td>\n",
       "      <td>0</td>\n",
       "      <td>0</td>\n",
       "      <td>0</td>\n",
       "      <td>0</td>\n",
       "      <td>0</td>\n",
       "      <td>0</td>\n",
       "      <td>0</td>\n",
       "    </tr>\n",
       "    <tr>\n",
       "      <th>3</th>\n",
       "      <td>4</td>\n",
       "      <td>0</td>\n",
       "      <td>0</td>\n",
       "      <td>0</td>\n",
       "      <td>0</td>\n",
       "      <td>0</td>\n",
       "      <td>0</td>\n",
       "      <td>0</td>\n",
       "      <td>0</td>\n",
       "      <td>0</td>\n",
       "      <td>...</td>\n",
       "      <td>0</td>\n",
       "      <td>0</td>\n",
       "      <td>0</td>\n",
       "      <td>0</td>\n",
       "      <td>0</td>\n",
       "      <td>0</td>\n",
       "      <td>0</td>\n",
       "      <td>0</td>\n",
       "      <td>0</td>\n",
       "      <td>0</td>\n",
       "    </tr>\n",
       "    <tr>\n",
       "      <th>4</th>\n",
       "      <td>0</td>\n",
       "      <td>0</td>\n",
       "      <td>0</td>\n",
       "      <td>0</td>\n",
       "      <td>0</td>\n",
       "      <td>0</td>\n",
       "      <td>0</td>\n",
       "      <td>0</td>\n",
       "      <td>0</td>\n",
       "      <td>0</td>\n",
       "      <td>...</td>\n",
       "      <td>0</td>\n",
       "      <td>0</td>\n",
       "      <td>0</td>\n",
       "      <td>0</td>\n",
       "      <td>0</td>\n",
       "      <td>0</td>\n",
       "      <td>0</td>\n",
       "      <td>0</td>\n",
       "      <td>0</td>\n",
       "      <td>0</td>\n",
       "    </tr>\n",
       "  </tbody>\n",
       "</table>\n",
       "<p>5 rows × 785 columns</p>\n",
       "</div>"
      ],
      "text/plain": [
       "   label  pixel0  pixel1  pixel2  pixel3  pixel4  pixel5  pixel6  pixel7  \\\n",
       "0      1       0       0       0       0       0       0       0       0   \n",
       "1      0       0       0       0       0       0       0       0       0   \n",
       "2      1       0       0       0       0       0       0       0       0   \n",
       "3      4       0       0       0       0       0       0       0       0   \n",
       "4      0       0       0       0       0       0       0       0       0   \n",
       "\n",
       "   pixel8  ...  pixel774  pixel775  pixel776  pixel777  pixel778  pixel779  \\\n",
       "0       0  ...         0         0         0         0         0         0   \n",
       "1       0  ...         0         0         0         0         0         0   \n",
       "2       0  ...         0         0         0         0         0         0   \n",
       "3       0  ...         0         0         0         0         0         0   \n",
       "4       0  ...         0         0         0         0         0         0   \n",
       "\n",
       "   pixel780  pixel781  pixel782  pixel783  \n",
       "0         0         0         0         0  \n",
       "1         0         0         0         0  \n",
       "2         0         0         0         0  \n",
       "3         0         0         0         0  \n",
       "4         0         0         0         0  \n",
       "\n",
       "[5 rows x 785 columns]"
      ]
     },
     "execution_count": 2,
     "metadata": {},
     "output_type": "execute_result"
    }
   ],
   "source": [
    "# 1. Load dataset\n",
    "df = pd.read_csv('digit_data.csv')\n",
    "df.head()"
   ]
  },
  {
   "cell_type": "code",
   "execution_count": 3,
   "metadata": {},
   "outputs": [
    {
     "data": {
      "text/plain": [
       "array([[1, 0, 0, ..., 0, 0, 0],\n",
       "       [0, 0, 0, ..., 0, 0, 0],\n",
       "       [1, 0, 0, ..., 0, 0, 0],\n",
       "       ...,\n",
       "       [7, 0, 0, ..., 0, 0, 0],\n",
       "       [6, 0, 0, ..., 0, 0, 0],\n",
       "       [9, 0, 0, ..., 0, 0, 0]], dtype=int64)"
      ]
     },
     "execution_count": 3,
     "metadata": {},
     "output_type": "execute_result"
    }
   ],
   "source": [
    "# 2. Convert the data given in the dataFrame into a NumPy array\n",
    "data = np.array(df)\n",
    "data"
   ]
  },
  {
   "cell_type": "code",
   "execution_count": 4,
   "metadata": {},
   "outputs": [
    {
     "data": {
      "text/plain": [
       "(42000, 785)"
      ]
     },
     "execution_count": 4,
     "metadata": {},
     "output_type": "execute_result"
    }
   ],
   "source": [
    "# 3. Query the shape of the array\n",
    "data_shape = data.shape\n",
    "data_count = data_shape[0]\n",
    "features = data_shape[1]\n",
    "\n",
    "data_count, features"
   ]
  },
  {
   "cell_type": "code",
   "execution_count": 5,
   "metadata": {},
   "outputs": [],
   "source": [
    "# 4. Shuffle the contents of the array \n",
    "np.random.shuffle(data)"
   ]
  },
  {
   "cell_type": "code",
   "execution_count": 6,
   "metadata": {},
   "outputs": [],
   "source": [
    "# 5. Use first 1000 images of the dataset as the test set and remaining as the train set\n",
    "test = data[:1000]\n",
    "train = data[1000:]"
   ]
  },
  {
   "cell_type": "code",
   "execution_count": 7,
   "metadata": {},
   "outputs": [
    {
     "data": {
      "text/plain": [
       "((785, 1000), (784, 1000), (1000,))"
      ]
     },
     "execution_count": 7,
     "metadata": {},
     "output_type": "execute_result"
    }
   ],
   "source": [
    "# For test set -- Transpose the data (Take rows as the labels of the test set and rows as the features)\n",
    "test = test.T\n",
    "X_test = test[1:, :]\n",
    "y_test = test[0,:]\n",
    "X_test = X_test / 255 # Color normalization\n",
    "\n",
    "\n",
    "test.shape, X_test.shape, y_test.shape "
   ]
  },
  {
   "cell_type": "code",
   "execution_count": 8,
   "metadata": {},
   "outputs": [
    {
     "data": {
      "text/plain": [
       "((785, 41000), (784, 41000), (41000,))"
      ]
     },
     "execution_count": 8,
     "metadata": {},
     "output_type": "execute_result"
    }
   ],
   "source": [
    "# For train set -- Transpose the data (Take rows as the labels and rows as the features)\n",
    "train = train.T\n",
    "X_train = train[1:, :]\n",
    "y_train = train[0]\n",
    "\n",
    "X_train = X_train / 255\n",
    "\n",
    "train.shape, X_train.shape, y_train.shape "
   ]
  },
  {
   "cell_type": "code",
   "execution_count": 9,
   "metadata": {},
   "outputs": [
    {
     "data": {
      "text/plain": [
       "array([662])"
      ]
     },
     "execution_count": 9,
     "metadata": {},
     "output_type": "execute_result"
    }
   ],
   "source": [
    "# Generate a random index in the range dedicated for training images\n",
    "index = np.random.randint(0, len(train),1)\n",
    "index"
   ]
  },
  {
   "cell_type": "code",
   "execution_count": 10,
   "metadata": {},
   "outputs": [
    {
     "data": {
      "text/plain": [
       "(785, 41000)"
      ]
     },
     "execution_count": 10,
     "metadata": {},
     "output_type": "execute_result"
    }
   ],
   "source": [
    "train.shape"
   ]
  },
  {
   "cell_type": "code",
   "execution_count": 11,
   "metadata": {},
   "outputs": [
    {
     "data": {
      "text/plain": [
       "(1, 41000)"
      ]
     },
     "execution_count": 11,
     "metadata": {},
     "output_type": "execute_result"
    }
   ],
   "source": [
    "train[index].shape"
   ]
  },
  {
   "cell_type": "code",
   "execution_count": 12,
   "metadata": {},
   "outputs": [
    {
     "data": {
      "text/plain": [
       "(28, 28)"
      ]
     },
     "execution_count": 12,
     "metadata": {},
     "output_type": "execute_result"
    }
   ],
   "source": [
    "train_ = train.T\n",
    "new_img = train_[index, :-1]\n",
    "new_img.shape\n",
    "\n",
    "new_image = new_img.reshape(28,-1)\n",
    "new_image.shape"
   ]
  },
  {
   "cell_type": "code",
   "execution_count": 13,
   "metadata": {},
   "outputs": [
    {
     "data": {
      "image/png": "[encoded data removed]",
      "text/plain": [
       "<Figure size 640x480 with 1 Axes>"
      ]
     },
     "metadata": {},
     "output_type": "display_data"
    }
   ],
   "source": [
    "# X_test_2d = new_img.reshape(28,-1)\n",
    "# X_test_2d.shape\n",
    "plt.imshow(new_image) \n",
    "plt.axis('off')\n",
    "plt.show()"
   ]
  },
  {
   "cell_type": "code",
   "execution_count": 39,
   "metadata": {},
   "outputs": [
    {
     "data": {
      "text/plain": [
       "(10, 128)"
      ]
     },
     "execution_count": 39,
     "metadata": {},
     "output_type": "execute_result"
    }
   ],
   "source": [
    "def initial_params():    \n",
    "    W1 = np.random.uniform(low=-0.5, high=0.5, size=(256,784))\n",
    "    W2 = np.random.uniform(low=-0.5, high=0.5, size=(10,256))\n",
    "    b1 = np.random.uniform(low=-0.5, high=0.5, size=(256,1))\n",
    "    b2 = np.random.uniform(low=-0.5, high=0.5, size=(10,1))\n",
    "\n",
    "    # print(W1.shape, W2.shape, b1.shape, b2.shape)\n",
    "    return W1, b1, W2, b2\n",
    "\n",
    "_, _, W2, _ = initial_params()\n",
    "W2[:100]\n",
    "W2.shape"
   ]
  },
  {
   "cell_type": "code",
   "execution_count": 40,
   "metadata": {},
   "outputs": [
    {
     "data": {
      "text/plain": [
       "(array([[-0.38138337],\n",
       "        [-0.19064236],\n",
       "        [ 0.24676612],\n",
       "        [-0.01925385],\n",
       "        [-0.26771501],\n",
       "        [-0.20654131],\n",
       "        [ 0.47157199],\n",
       "        [-0.3657398 ],\n",
       "        [-0.33856101],\n",
       "        [-0.06147007]]),\n",
       " array([[0.        ],\n",
       "        [0.        ],\n",
       "        [0.24676612],\n",
       "        [0.        ],\n",
       "        [0.        ],\n",
       "        [0.        ],\n",
       "        [0.47157199],\n",
       "        [0.        ],\n",
       "        [0.        ],\n",
       "        [0.        ]]))"
      ]
     },
     "execution_count": 40,
     "metadata": {},
     "output_type": "execute_result"
    }
   ],
   "source": [
    "def ReLU_fn(vector):\n",
    "    return np.maximum(0, vector)\n",
    "\n",
    "vector = np.random.uniform(low=-0.5, high=0.5, size=(10,1))\n",
    "relu = ReLU_fn(vector)\n",
    "vector, relu"
   ]
  },
  {
   "cell_type": "code",
   "execution_count": 17,
   "metadata": {},
   "outputs": [
    {
     "data": {
      "text/plain": [
       "array([[1.],\n",
       "       [1.],\n",
       "       [1.],\n",
       "       [1.],\n",
       "       [0.],\n",
       "       [0.],\n",
       "       [1.],\n",
       "       [1.],\n",
       "       [1.],\n",
       "       [1.]])"
      ]
     },
     "execution_count": 17,
     "metadata": {},
     "output_type": "execute_result"
    }
   ],
   "source": [
    "def d_ReLU(vector):\n",
    "    return np.where(vector > 0, 1.0, 0.0)\n",
    "\n",
    "\n",
    "vector = np.random.uniform(low=-0.5, high=0.5, size=(10,1))\n",
    "relu = d_ReLU(vector)\n",
    "relu"
   ]
  },
  {
   "cell_type": "code",
   "execution_count": 18,
   "metadata": {},
   "outputs": [
    {
     "data": {
      "text/plain": [
       "array([-0.40976664,  0.45059273,  0.4484673 ,  0.41039931, -0.26772568,\n",
       "        0.04395693, -0.32324541, -0.19305053, -0.4206301 ,  0.04769347,\n",
       "        0.        ])"
      ]
     },
     "execution_count": 18,
     "metadata": {},
     "output_type": "execute_result"
    }
   ],
   "source": [
    "vector = np.random.uniform(low=-0.5, high=0.5, size=(10,1))\n",
    "vector = np.append(vector, [0.00000])\n",
    "vector"
   ]
  },
  {
   "cell_type": "code",
   "execution_count": 19,
   "metadata": {},
   "outputs": [
    {
     "data": {
      "text/plain": [
       "(-0.5, 0.5)"
      ]
     },
     "execution_count": 19,
     "metadata": {},
     "output_type": "execute_result"
    },
    {
     "data": {
      "image/png": "[encoded data removed]",
      "text/plain": [
       "<Figure size 640x480 with 1 Axes>"
      ]
     },
     "metadata": {},
     "output_type": "display_data"
    }
   ],
   "source": [
    "relu = ReLU_fn(vector)\n",
    "d_relu = d_ReLU(vector)\n",
    "\n",
    "plt.scatter(vector, relu, c='blue')\n",
    "plt.scatter(vector, d_relu, c='green')\n",
    "plt.ylim(0.0, 1.1)\n",
    "plt.xlim(-0.5, 0.5)"
   ]
  },
  {
   "cell_type": "code",
   "execution_count": 20,
   "metadata": {},
   "outputs": [
    {
     "data": {
      "text/plain": [
       "(array([[ 0.41292184],\n",
       "        [-0.37981686],\n",
       "        [ 0.14416087],\n",
       "        [ 0.16048276],\n",
       "        [ 0.13302853],\n",
       "        [-0.00996004],\n",
       "        [ 0.39551762],\n",
       "        [ 0.2308902 ],\n",
       "        [-0.27521007],\n",
       "        [ 0.07342423]]),\n",
       " array([[0.13448422],\n",
       "        [0.06086804],\n",
       "        [0.10278978],\n",
       "        [0.10448127],\n",
       "        [0.10165183],\n",
       "        [0.08810815],\n",
       "        [0.13216388],\n",
       "        [0.11210268],\n",
       "        [0.06758019],\n",
       "        [0.09576998]]))"
      ]
     },
     "execution_count": 20,
     "metadata": {},
     "output_type": "execute_result"
    }
   ],
   "source": [
    "def softmax_fn(vector):\n",
    "    exp_vector = np.exp(vector - np.max(vector))\n",
    "    return exp_vector / exp_vector.sum()\n",
    "\n",
    "vector = np.random.uniform(low=-0.5, high=0.5, size=(10,1))\n",
    "softmax = softmax_fn(vector)\n",
    "vector, softmax"
   ]
  },
  {
   "cell_type": "code",
   "execution_count": 115,
   "metadata": {},
   "outputs": [],
   "source": [
    "# def df_softmax(vector):\n",
    "#     d_softmax = softmax_fn(vector) * (1 - softmax_fn(vector))\n",
    "\n",
    "#     return d_softmax\n",
    "\n",
    "# vector = np.random.uniform(low=-0.5, high=0.5, size=(10,1))\n",
    "# d_softmax = softmax_fn(vector)\n",
    "# vector, d_softmax"
   ]
  },
  {
   "cell_type": "code",
   "execution_count": 21,
   "metadata": {},
   "outputs": [
    {
     "data": {
      "text/plain": [
       "<matplotlib.collections.PathCollection at 0x1ff2f9b56d0>"
      ]
     },
     "execution_count": 21,
     "metadata": {},
     "output_type": "execute_result"
    },
    {
     "data": {
      "image/png": "[encoded data removed]",
      "text/plain": [
       "<Figure size 640x480 with 1 Axes>"
      ]
     },
     "metadata": {},
     "output_type": "display_data"
    }
   ],
   "source": [
    "vector = np.random.uniform(low=-0.5, high=0.5, size=(10,1))\n",
    "vector = np.append(vector, [0.00000, -0.5, 0.5])\n",
    "vector\n",
    "\n",
    "softmax = softmax_fn(vector)\n",
    "# d_softmax = df_softmax(vector)\n",
    "\n",
    "plt.scatter(vector, softmax, c='blue')\n",
    "# plt.scatter(vector, d_softmax, c='green')\n"
   ]
  },
  {
   "cell_type": "code",
   "execution_count": 22,
   "metadata": {},
   "outputs": [],
   "source": [
    "def forward_prop(W1, b1, W2, b2, A0):\n",
    "    Z1 = np.dot(W1, A0) + b1\n",
    "    A1 = ReLU_fn(Z1)\n",
    "\n",
    "    Z2 = np.dot(W2, A1) + b2\n",
    "    A2 = softmax_fn(Z2)\n",
    "\n",
    "    return Z1, A1, Z2, A2"
   ]
  },
  {
   "cell_type": "code",
   "execution_count": 23,
   "metadata": {},
   "outputs": [
    {
     "data": {
      "text/plain": [
       "(10, 1000)"
      ]
     },
     "execution_count": 23,
     "metadata": {},
     "output_type": "execute_result"
    }
   ],
   "source": [
    "# One hot encoding\n",
    "def one_hot_encoding(Y, num_classes):\n",
    "    num_classes = int(num_classes)  # Ensure num_classes is an integer\n",
    "    encoded_mat = np.zeros((num_classes, len(Y)))\n",
    "    for i in range(len(Y)):\n",
    "        class_index = int(Y[i])\n",
    "        encoded_mat[class_index, i] = 1\n",
    "    return encoded_mat\n",
    "\n",
    "y_train = one_hot_encoding(y_train, num_classes=10)\n",
    "y_train.shape\n",
    "y_test = one_hot_encoding(y_test, num_classes=10)\n",
    "y_test.shape\n"
   ]
  },
  {
   "cell_type": "code",
   "execution_count": 24,
   "metadata": {},
   "outputs": [],
   "source": [
    "# Backward propagation\n",
    "def backward_prop(Z1, A1, Z2, A2, W1, W2, y, A0, y_train):\n",
    "    m = A0.shape[1]\n",
    "    dZ2 = A2 - y_train\n",
    "    dZ1 = np.dot(W2.T, dZ2) * d_ReLU(Z1)\n",
    "\n",
    "    dW1 = (1 / m) * np.dot(dZ1, A0.T)\n",
    "    dW2 = (1 / m) * np.dot(dZ2, A1.T)\n",
    "    db1 = (1 / m) * np.sum(dZ1, axis=1, keepdims=True)\n",
    "    db2 = (1 / m) * np.sum(dZ2, axis=1, keepdims=True)\n",
    "\n",
    "    return dW1, db1, dW2, db2"
   ]
  },
  {
   "cell_type": "code",
   "execution_count": 25,
   "metadata": {},
   "outputs": [],
   "source": [
    "# Update parameters\n",
    "def update_parameters(W1, b1, W2, b2, dW1, db1, dW2, db2, learning_rate= 0.01):\n",
    "    W1 = W1 - learning_rate * dW1\n",
    "    b1 = b1 - learning_rate * db1\n",
    "    W2 = W2 - learning_rate * dW2\n",
    "    b2 = b2 - learning_rate * db2\n",
    "\n",
    "    return W1, b1, W2, b2"
   ]
  },
  {
   "cell_type": "code",
   "execution_count": 26,
   "metadata": {},
   "outputs": [],
   "source": [
    "def obtain_predictions(vector):  # Corrected parameter name\n",
    "    return np.argmax(vector, axis=0)\n"
   ]
  },
  {
   "cell_type": "code",
   "execution_count": 27,
   "metadata": {},
   "outputs": [
    {
     "name": "stdout",
     "output_type": "stream",
     "text": [
      "Requirement already satisfied: scikit-learn in c:\\users\\ghimi\\appdata\\local\\programs\\python\\python312\\lib\\site-packages (1.5.1)\n",
      "Requirement already satisfied: numpy>=1.19.5 in c:\\users\\ghimi\\appdata\\local\\programs\\python\\python312\\lib\\site-packages (from scikit-learn) (1.26.1)\n",
      "Requirement already satisfied: scipy>=1.6.0 in c:\\users\\ghimi\\appdata\\local\\programs\\python\\python312\\lib\\site-packages (from scikit-learn) (1.14.0)\n",
      "Requirement already satisfied: joblib>=1.2.0 in c:\\users\\ghimi\\appdata\\local\\programs\\python\\python312\\lib\\site-packages (from scikit-learn) (1.3.2)\n",
      "Requirement already satisfied: threadpoolctl>=3.1.0 in c:\\users\\ghimi\\appdata\\local\\programs\\python\\python312\\lib\\site-packages (from scikit-learn) (3.5.0)\n",
      "Note: you may need to restart the kernel to use updated packages.\n"
     ]
    },
    {
     "name": "stderr",
     "output_type": "stream",
     "text": [
      "\n",
      "[notice] A new release of pip is available: 23.3.2 -> 24.1.2\n",
      "[notice] To update, run: python.exe -m pip install --upgrade pip\n"
     ]
    }
   ],
   "source": [
    "%pip install scikit-learn\n",
    "from sklearn.metrics import accuracy_score"
   ]
  },
  {
   "cell_type": "code",
   "execution_count": 28,
   "metadata": {},
   "outputs": [],
   "source": [
    "def accuracy_sc(y_pred, y_actual): # Vectors  \n",
    "    num_samples = y_actual.shape[1]\n",
    "\n",
    "    if y_pred.ndim ==2:\n",
    "        pred_label = obtain_predictions(y_pred)\n",
    "    else:\n",
    "        pred_label = y_pred\n",
    "        \n",
    "    if y_actual.ndim == 2:\n",
    "        actual_label = obtain_predictions(y_actual)\n",
    "    else:\n",
    "        actual_label = y_actual\n",
    "    \n",
    "    num_correct = np.sum(pred_label == actual_label)\n",
    "    # print(num_correct)\n",
    "    return num_correct / num_samples"
   ]
  },
  {
   "cell_type": "code",
   "execution_count": 29,
   "metadata": {},
   "outputs": [
    {
     "data": {
      "text/plain": [
       "(10, 41000)"
      ]
     },
     "execution_count": 29,
     "metadata": {},
     "output_type": "execute_result"
    }
   ],
   "source": [
    "y_train.shape"
   ]
  },
  {
   "cell_type": "code",
   "execution_count": 30,
   "metadata": {},
   "outputs": [],
   "source": [
    "def gradient_descent(X_train, y_train, learning_rate, num_iterations):\n",
    "    W1, b1, W2, b2 = initial_params()\n",
    "\n",
    "    accuracy_list = []\n",
    "\n",
    "    for i in range(num_iterations+1):\n",
    "        Z1, A1, Z2, A2 = forward_prop(W1, b1, W2, b2, X_train)\n",
    "        dW1, db1, dW2, db2 = backward_prop(Z1, A1, Z2, A2, W1, W2, y_train, X_train, y_train)\n",
    "        W1, b1, W2, b2 = update_parameters(W1, b1, W2, b2, dW1, db1, dW2, db2, learning_rate)\n",
    "\n",
    "        if i%5==0:\n",
    "            accuracy = accuracy_sc(A2,y_train)\n",
    "            accuracy_list.append((i,accuracy))\n",
    "            print(f\"Iteration: {i} \\t Accuracy: {accuracy:.5f}\")\n",
    "\n",
    "    return W1, b1, W2, b2, accuracy_list"
   ]
  },
  {
   "cell_type": "code",
   "execution_count": 31,
   "metadata": {},
   "outputs": [],
   "source": [
    "def make_prediction(X_test, W1, b1, W2, b2):\n",
    "    _, _, _, A2 = forward_prop(W1, b1, W2, b2, X_test) \n",
    "    pred = obtain_predictions(A2)\n",
    "    return pred    "
   ]
  },
  {
   "cell_type": "code",
   "execution_count": 32,
   "metadata": {},
   "outputs": [],
   "source": [
    "def plot_image(image):\n",
    "    X_test_2d = image.reshape(28,-1)\n",
    "    print(X_test_2d.shape)\n",
    "    plt.imshow(X_test_2d) \n",
    "    plt.axis('off')\n",
    "    plt.show()"
   ]
  },
  {
   "cell_type": "code",
   "execution_count": 41,
   "metadata": {},
   "outputs": [
    {
     "name": "stdout",
     "output_type": "stream",
     "text": [
      "Iteration: 0 \t Accuracy: 0.13198\n",
      "Iteration: 5 \t Accuracy: 0.13205\n",
      "Iteration: 10 \t Accuracy: 0.13220\n",
      "Iteration: 15 \t Accuracy: 0.13234\n",
      "Iteration: 20 \t Accuracy: 0.13241\n",
      "Iteration: 25 \t Accuracy: 0.13246\n",
      "Iteration: 30 \t Accuracy: 0.13266\n",
      "Iteration: 35 \t Accuracy: 0.13280\n",
      "Iteration: 40 \t Accuracy: 0.13293\n",
      "Iteration: 45 \t Accuracy: 0.13305\n",
      "Iteration: 50 \t Accuracy: 0.13324\n",
      "Iteration: 55 \t Accuracy: 0.13351\n",
      "Iteration: 60 \t Accuracy: 0.13354\n",
      "Iteration: 65 \t Accuracy: 0.13373\n",
      "Iteration: 70 \t Accuracy: 0.13385\n",
      "Iteration: 75 \t Accuracy: 0.13393\n",
      "Iteration: 80 \t Accuracy: 0.13400\n",
      "Iteration: 85 \t Accuracy: 0.13398\n",
      "Iteration: 90 \t Accuracy: 0.13410\n",
      "Iteration: 95 \t Accuracy: 0.13424\n",
      "Iteration: 100 \t Accuracy: 0.13437\n",
      "Iteration: 105 \t Accuracy: 0.13446\n",
      "Iteration: 110 \t Accuracy: 0.13463\n",
      "Iteration: 115 \t Accuracy: 0.13476\n",
      "Iteration: 120 \t Accuracy: 0.13498\n",
      "Iteration: 125 \t Accuracy: 0.13502\n",
      "Iteration: 130 \t Accuracy: 0.13510\n",
      "Iteration: 135 \t Accuracy: 0.13517\n",
      "Iteration: 140 \t Accuracy: 0.13520\n",
      "Iteration: 145 \t Accuracy: 0.13517\n",
      "Iteration: 150 \t Accuracy: 0.13524\n",
      "Iteration: 155 \t Accuracy: 0.13541\n",
      "Iteration: 160 \t Accuracy: 0.13559\n",
      "Iteration: 165 \t Accuracy: 0.13573\n",
      "Iteration: 170 \t Accuracy: 0.13588\n",
      "Iteration: 175 \t Accuracy: 0.13598\n",
      "Iteration: 180 \t Accuracy: 0.13615\n",
      "Iteration: 185 \t Accuracy: 0.13634\n",
      "Iteration: 190 \t Accuracy: 0.13644\n",
      "Iteration: 195 \t Accuracy: 0.13654\n",
      "Iteration: 200 \t Accuracy: 0.13666\n",
      "Iteration: 205 \t Accuracy: 0.13676\n",
      "Iteration: 210 \t Accuracy: 0.13698\n",
      "Iteration: 215 \t Accuracy: 0.13705\n",
      "Iteration: 220 \t Accuracy: 0.13734\n",
      "Iteration: 225 \t Accuracy: 0.13756\n",
      "Iteration: 230 \t Accuracy: 0.13773\n",
      "Iteration: 235 \t Accuracy: 0.13788\n",
      "Iteration: 240 \t Accuracy: 0.13788\n",
      "Iteration: 245 \t Accuracy: 0.13788\n",
      "Iteration: 250 \t Accuracy: 0.13795\n",
      "Iteration: 255 \t Accuracy: 0.13812\n",
      "Iteration: 260 \t Accuracy: 0.13812\n",
      "Iteration: 265 \t Accuracy: 0.13822\n",
      "Iteration: 270 \t Accuracy: 0.13839\n",
      "Iteration: 275 \t Accuracy: 0.13841\n",
      "Iteration: 280 \t Accuracy: 0.13851\n",
      "Iteration: 285 \t Accuracy: 0.13871\n",
      "Iteration: 290 \t Accuracy: 0.13883\n",
      "Iteration: 295 \t Accuracy: 0.13895\n",
      "Iteration: 300 \t Accuracy: 0.13902\n",
      "Iteration: 305 \t Accuracy: 0.13907\n",
      "Iteration: 310 \t Accuracy: 0.13922\n",
      "Iteration: 315 \t Accuracy: 0.13929\n",
      "Iteration: 320 \t Accuracy: 0.13934\n",
      "Iteration: 325 \t Accuracy: 0.13946\n",
      "Iteration: 330 \t Accuracy: 0.13963\n",
      "Iteration: 335 \t Accuracy: 0.13968\n",
      "Iteration: 340 \t Accuracy: 0.13993\n",
      "Iteration: 345 \t Accuracy: 0.13998\n",
      "Iteration: 350 \t Accuracy: 0.14012\n",
      "Iteration: 355 \t Accuracy: 0.14029\n",
      "Iteration: 360 \t Accuracy: 0.14041\n",
      "Iteration: 365 \t Accuracy: 0.14049\n",
      "Iteration: 370 \t Accuracy: 0.14061\n",
      "Iteration: 375 \t Accuracy: 0.14068\n",
      "Iteration: 380 \t Accuracy: 0.14085\n",
      "Iteration: 385 \t Accuracy: 0.14098\n",
      "Iteration: 390 \t Accuracy: 0.14110\n",
      "Iteration: 395 \t Accuracy: 0.14115\n",
      "Iteration: 400 \t Accuracy: 0.14124\n",
      "Iteration: 405 \t Accuracy: 0.14141\n",
      "Iteration: 410 \t Accuracy: 0.14139\n",
      "Iteration: 415 \t Accuracy: 0.14144\n",
      "Iteration: 420 \t Accuracy: 0.14163\n",
      "Iteration: 425 \t Accuracy: 0.14171\n",
      "Iteration: 430 \t Accuracy: 0.14159\n",
      "Iteration: 435 \t Accuracy: 0.14188\n",
      "Iteration: 440 \t Accuracy: 0.14193\n",
      "Iteration: 445 \t Accuracy: 0.14210\n",
      "Iteration: 450 \t Accuracy: 0.14224\n",
      "Iteration: 455 \t Accuracy: 0.14234\n",
      "Iteration: 460 \t Accuracy: 0.14254\n",
      "Iteration: 465 \t Accuracy: 0.14268\n",
      "Iteration: 470 \t Accuracy: 0.14276\n",
      "Iteration: 475 \t Accuracy: 0.14283\n",
      "Iteration: 480 \t Accuracy: 0.14283\n",
      "Iteration: 485 \t Accuracy: 0.14283\n",
      "Iteration: 490 \t Accuracy: 0.14288\n",
      "Iteration: 495 \t Accuracy: 0.14298\n",
      "Iteration: 500 \t Accuracy: 0.14317\n",
      "Iteration: 505 \t Accuracy: 0.14315\n",
      "Iteration: 510 \t Accuracy: 0.14322\n",
      "Iteration: 515 \t Accuracy: 0.14329\n",
      "Iteration: 520 \t Accuracy: 0.14344\n",
      "Iteration: 525 \t Accuracy: 0.14354\n",
      "Iteration: 530 \t Accuracy: 0.14378\n",
      "Iteration: 535 \t Accuracy: 0.14390\n",
      "Iteration: 540 \t Accuracy: 0.14398\n",
      "Iteration: 545 \t Accuracy: 0.14402\n",
      "Iteration: 550 \t Accuracy: 0.14424\n",
      "Iteration: 555 \t Accuracy: 0.14432\n",
      "Iteration: 560 \t Accuracy: 0.14439\n",
      "Iteration: 565 \t Accuracy: 0.14451\n",
      "Iteration: 570 \t Accuracy: 0.14466\n",
      "Iteration: 575 \t Accuracy: 0.14476\n",
      "Iteration: 580 \t Accuracy: 0.14483\n",
      "Iteration: 585 \t Accuracy: 0.14493\n",
      "Iteration: 590 \t Accuracy: 0.14502\n",
      "Iteration: 595 \t Accuracy: 0.14507\n",
      "Iteration: 600 \t Accuracy: 0.14517\n",
      "Iteration: 605 \t Accuracy: 0.14539\n",
      "Iteration: 610 \t Accuracy: 0.14544\n",
      "Iteration: 615 \t Accuracy: 0.14551\n",
      "Iteration: 620 \t Accuracy: 0.14561\n",
      "Iteration: 625 \t Accuracy: 0.14568\n",
      "Iteration: 630 \t Accuracy: 0.14576\n",
      "Iteration: 635 \t Accuracy: 0.14593\n",
      "Iteration: 640 \t Accuracy: 0.14600\n",
      "Iteration: 645 \t Accuracy: 0.14600\n",
      "Iteration: 650 \t Accuracy: 0.14602\n",
      "Iteration: 655 \t Accuracy: 0.14612\n",
      "Iteration: 660 \t Accuracy: 0.14622\n",
      "Iteration: 665 \t Accuracy: 0.14644\n",
      "Iteration: 670 \t Accuracy: 0.14649\n",
      "Iteration: 675 \t Accuracy: 0.14666\n",
      "Iteration: 680 \t Accuracy: 0.14676\n",
      "Iteration: 685 \t Accuracy: 0.14685\n",
      "Iteration: 690 \t Accuracy: 0.14705\n",
      "Iteration: 695 \t Accuracy: 0.14710\n",
      "Iteration: 700 \t Accuracy: 0.14712\n",
      "Iteration: 705 \t Accuracy: 0.14710\n",
      "Iteration: 710 \t Accuracy: 0.14710\n",
      "Iteration: 715 \t Accuracy: 0.14724\n",
      "Iteration: 720 \t Accuracy: 0.14739\n",
      "Iteration: 725 \t Accuracy: 0.14746\n",
      "Iteration: 730 \t Accuracy: 0.14768\n",
      "Iteration: 735 \t Accuracy: 0.14790\n",
      "Iteration: 740 \t Accuracy: 0.14802\n",
      "Iteration: 745 \t Accuracy: 0.14815\n",
      "Iteration: 750 \t Accuracy: 0.14829\n",
      "Iteration: 755 \t Accuracy: 0.14839\n",
      "Iteration: 760 \t Accuracy: 0.14851\n",
      "Iteration: 765 \t Accuracy: 0.14871\n",
      "Iteration: 770 \t Accuracy: 0.14883\n",
      "Iteration: 775 \t Accuracy: 0.14898\n",
      "Iteration: 780 \t Accuracy: 0.14902\n",
      "Iteration: 785 \t Accuracy: 0.14902\n",
      "Iteration: 790 \t Accuracy: 0.14920\n",
      "Iteration: 795 \t Accuracy: 0.14927\n",
      "Iteration: 800 \t Accuracy: 0.14929\n",
      "Iteration: 805 \t Accuracy: 0.14954\n",
      "Iteration: 810 \t Accuracy: 0.14966\n",
      "Iteration: 815 \t Accuracy: 0.14976\n",
      "Iteration: 820 \t Accuracy: 0.14990\n",
      "Iteration: 825 \t Accuracy: 0.14988\n",
      "Iteration: 830 \t Accuracy: 0.15007\n",
      "Iteration: 835 \t Accuracy: 0.15017\n",
      "Iteration: 840 \t Accuracy: 0.15022\n",
      "Iteration: 845 \t Accuracy: 0.15027\n",
      "Iteration: 850 \t Accuracy: 0.15037\n",
      "Iteration: 855 \t Accuracy: 0.15041\n",
      "Iteration: 860 \t Accuracy: 0.15046\n",
      "Iteration: 865 \t Accuracy: 0.15051\n",
      "Iteration: 870 \t Accuracy: 0.15068\n",
      "Iteration: 875 \t Accuracy: 0.15068\n",
      "Iteration: 880 \t Accuracy: 0.15080\n",
      "Iteration: 885 \t Accuracy: 0.15100\n",
      "Iteration: 890 \t Accuracy: 0.15115\n",
      "Iteration: 895 \t Accuracy: 0.15124\n",
      "Iteration: 900 \t Accuracy: 0.15139\n",
      "Iteration: 905 \t Accuracy: 0.15154\n",
      "Iteration: 910 \t Accuracy: 0.15161\n",
      "Iteration: 915 \t Accuracy: 0.15163\n",
      "Iteration: 920 \t Accuracy: 0.15185\n",
      "Iteration: 925 \t Accuracy: 0.15202\n",
      "Iteration: 930 \t Accuracy: 0.15212\n",
      "Iteration: 935 \t Accuracy: 0.15227\n",
      "Iteration: 940 \t Accuracy: 0.15239\n",
      "Iteration: 945 \t Accuracy: 0.15246\n",
      "Iteration: 950 \t Accuracy: 0.15251\n",
      "Iteration: 955 \t Accuracy: 0.15268\n",
      "Iteration: 960 \t Accuracy: 0.15283\n",
      "Iteration: 965 \t Accuracy: 0.15295\n",
      "Iteration: 970 \t Accuracy: 0.15315\n",
      "Iteration: 975 \t Accuracy: 0.15332\n",
      "Iteration: 980 \t Accuracy: 0.15346\n",
      "Iteration: 985 \t Accuracy: 0.15368\n",
      "Iteration: 990 \t Accuracy: 0.15380\n",
      "Iteration: 995 \t Accuracy: 0.15388\n",
      "Iteration: 1000 \t Accuracy: 0.15393\n"
     ]
    }
   ],
   "source": [
    "W1, b1, W2, b2, accuracy_list = gradient_descent(X_train, y_train, learning_rate=0.001, num_iterations=1000)"
   ]
  },
  {
   "cell_type": "code",
   "execution_count": 42,
   "metadata": {},
   "outputs": [
    {
     "data": {
      "image/png": "[encoded data removed]",
      "text/plain": [
       "<Figure size 1000x600 with 1 Axes>"
      ]
     },
     "metadata": {},
     "output_type": "display_data"
    }
   ],
   "source": [
    "iterations, accuracies = zip(*accuracy_list)\n",
    "\n",
    "plt.figure(figsize=(10, 6))\n",
    "plt.plot(iterations, accuracies, marker='o', linestyle='-', color='b')\n",
    "plt.title('Accuracy vs. Iteration')\n",
    "plt.xlabel('Iteration')\n",
    "plt.ylabel('Accuracy')\n",
    "plt.grid(True)\n",
    "plt.show()"
   ]
  },
  {
   "cell_type": "code",
   "execution_count": 43,
   "metadata": {},
   "outputs": [],
   "source": [
    "def test_predictions(W1, b1, W2, b2, X_test, y_test):\n",
    "    test = make_prediction(X_test, W1, b1, W2, b2)\n",
    "    image = X_test.T\n",
    "    print(test.shape)\n",
    "    accuracy = accuracy_sc(test, y_test)\n",
    "    print(f\"Accuracy:{accuracy}\")\n",
    "    y_test_label = obtain_predictions(y_test)\n",
    "    for i in range(10):\n",
    "        print(test[i], y_test_label[i])\n",
    "        print(image[i].shape)\n",
    "        plot_image(image[i])"
   ]
  },
  {
   "cell_type": "code",
   "execution_count": 44,
   "metadata": {},
   "outputs": [
    {
     "name": "stdout",
     "output_type": "stream",
     "text": [
      "(1000,)\n",
      "Accuracy:0.136\n",
      "2 2\n",
      "(784,)\n",
      "(28, 28)\n"
     ]
    },
    {
     "data": {
      "image/png": "[encoded data removed]",
      "text/plain": [
       "<Figure size 640x480 with 1 Axes>"
      ]
     },
     "metadata": {},
     "output_type": "display_data"
    },
    {
     "name": "stdout",
     "output_type": "stream",
     "text": [
      "0 5\n",
      "(784,)\n",
      "(28, 28)\n"
     ]
    },
    {
     "data": {
      "image/png": "[encoded data removed]",
      "text/plain": [
       "<Figure size 640x480 with 1 Axes>"
      ]
     },
     "metadata": {},
     "output_type": "display_data"
    },
    {
     "name": "stdout",
     "output_type": "stream",
     "text": [
      "8 0\n",
      "(784,)\n",
      "(28, 28)\n"
     ]
    },
    {
     "data": {
      "image/png": "[encoded data removed]",
      "text/plain": [
       "<Figure size 640x480 with 1 Axes>"
      ]
     },
     "metadata": {},
     "output_type": "display_data"
    },
    {
     "name": "stdout",
     "output_type": "stream",
     "text": [
      "0 2\n",
      "(784,)\n",
      "(28, 28)\n"
     ]
    },
    {
     "data": {
      "image/png": "[encoded data removed]",
      "text/plain": [
       "<Figure size 640x480 with 1 Axes>"
      ]
     },
     "metadata": {},
     "output_type": "display_data"
    },
    {
     "name": "stdout",
     "output_type": "stream",
     "text": [
      "0 5\n",
      "(784,)\n",
      "(28, 28)\n"
     ]
    },
    {
     "data": {
      "image/png": "[encoded data removed]",
      "text/plain": [
       "<Figure size 640x480 with 1 Axes>"
      ]
     },
     "metadata": {},
     "output_type": "display_data"
    },
    {
     "name": "stdout",
     "output_type": "stream",
     "text": [
      "8 1\n",
      "(784,)\n",
      "(28, 28)\n"
     ]
    },
    {
     "data": {
      "image/png": "[encoded data removed]",
      "text/plain": [
       "<Figure size 640x480 with 1 Axes>"
      ]
     },
     "metadata": {},
     "output_type": "display_data"
    },
    {
     "name": "stdout",
     "output_type": "stream",
     "text": [
      "2 4\n",
      "(784,)\n",
      "(28, 28)\n"
     ]
    },
    {
     "data": {
      "image/png": "[encoded data removed]",
      "text/plain": [
       "<Figure size 640x480 with 1 Axes>"
      ]
     },
     "metadata": {},
     "output_type": "display_data"
    },
    {
     "name": "stdout",
     "output_type": "stream",
     "text": [
      "8 7\n",
      "(784,)\n",
      "(28, 28)\n"
     ]
    },
    {
     "data": {
      "image/png": "[encoded data removed]",
      "text/plain": [
       "<Figure size 640x480 with 1 Axes>"
      ]
     },
     "metadata": {},
     "output_type": "display_data"
    },
    {
     "name": "stdout",
     "output_type": "stream",
     "text": [
      "2 4\n",
      "(784,)\n",
      "(28, 28)\n"
     ]
    },
    {
     "data": {
      "image/png": "[encoded data removed]",
      "text/plain": [
       "<Figure size 640x480 with 1 Axes>"
      ]
     },
     "metadata": {},
     "output_type": "display_data"
    },
    {
     "name": "stdout",
     "output_type": "stream",
     "text": [
      "0 4\n",
      "(784,)\n",
      "(28, 28)\n"
     ]
    },
    {
     "data": {
      "image/png": "[encoded data removed]",
      "text/plain": [
       "<Figure size 640x480 with 1 Axes>"
      ]
     },
     "metadata": {},
     "output_type": "display_data"
    }
   ],
   "source": [
    "test_predictions(W1, b1, W2, b2, X_test, y_test)"
   ]
  }
 ],
 "metadata": {
  "kernelspec": {
   "display_name": "Python 3",
   "language": "python",
   "name": "python3"
  },
  "language_info": {
   "codemirror_mode": {
    "name": "ipython",
    "version": 3
   },
   "file_extension": ".py",
   "mimetype": "text/x-python",
   "name": "python",
   "nbconvert_exporter": "python",
   "pygments_lexer": "ipython3",
   "version": "3.12.0"
  }
 },
 "nbformat": 4,
 "nbformat_minor": 2
}
