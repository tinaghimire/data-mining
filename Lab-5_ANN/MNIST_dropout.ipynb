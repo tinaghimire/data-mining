{
 "cells": [
  {
   "cell_type": "code",
   "execution_count": 5,
   "metadata": {},
   "outputs": [],
   "source": [
    "import matplotlib.pyplot as plt\n",
    "import numpy as np\n",
    "import pandas as pd"
   ]
  },
  {
   "cell_type": "code",
   "execution_count": 6,
   "metadata": {},
   "outputs": [
    {
     "data": {
      "text/html": [
       "<div>\n",
       "<style scoped>\n",
       "    .dataframe tbody tr th:only-of-type {\n",
       "        vertical-align: middle;\n",
       "    }\n",
       "\n",
       "    .dataframe tbody tr th {\n",
       "        vertical-align: top;\n",
       "    }\n",
       "\n",
       "    .dataframe thead th {\n",
       "        text-align: right;\n",
       "    }\n",
       "</style>\n",
       "<table border=\"1\" class=\"dataframe\">\n",
       "  <thead>\n",
       "    <tr style=\"text-align: right;\">\n",
       "      <th></th>\n",
       "      <th>label</th>\n",
       "      <th>pixel0</th>\n",
       "      <th>pixel1</th>\n",
       "      <th>pixel2</th>\n",
       "      <th>pixel3</th>\n",
       "      <th>pixel4</th>\n",
       "      <th>pixel5</th>\n",
       "      <th>pixel6</th>\n",
       "      <th>pixel7</th>\n",
       "      <th>pixel8</th>\n",
       "      <th>...</th>\n",
       "      <th>pixel774</th>\n",
       "      <th>pixel775</th>\n",
       "      <th>pixel776</th>\n",
       "      <th>pixel777</th>\n",
       "      <th>pixel778</th>\n",
       "      <th>pixel779</th>\n",
       "      <th>pixel780</th>\n",
       "      <th>pixel781</th>\n",
       "      <th>pixel782</th>\n",
       "      <th>pixel783</th>\n",
       "    </tr>\n",
       "  </thead>\n",
       "  <tbody>\n",
       "    <tr>\n",
       "      <th>0</th>\n",
       "      <td>1</td>\n",
       "      <td>0</td>\n",
       "      <td>0</td>\n",
       "      <td>0</td>\n",
       "      <td>0</td>\n",
       "      <td>0</td>\n",
       "      <td>0</td>\n",
       "      <td>0</td>\n",
       "      <td>0</td>\n",
       "      <td>0</td>\n",
       "      <td>...</td>\n",
       "      <td>0</td>\n",
       "      <td>0</td>\n",
       "      <td>0</td>\n",
       "      <td>0</td>\n",
       "      <td>0</td>\n",
       "      <td>0</td>\n",
       "      <td>0</td>\n",
       "      <td>0</td>\n",
       "      <td>0</td>\n",
       "      <td>0</td>\n",
       "    </tr>\n",
       "    <tr>\n",
       "      <th>1</th>\n",
       "      <td>0</td>\n",
       "      <td>0</td>\n",
       "      <td>0</td>\n",
       "      <td>0</td>\n",
       "      <td>0</td>\n",
       "      <td>0</td>\n",
       "      <td>0</td>\n",
       "      <td>0</td>\n",
       "      <td>0</td>\n",
       "      <td>0</td>\n",
       "      <td>...</td>\n",
       "      <td>0</td>\n",
       "      <td>0</td>\n",
       "      <td>0</td>\n",
       "      <td>0</td>\n",
       "      <td>0</td>\n",
       "      <td>0</td>\n",
       "      <td>0</td>\n",
       "      <td>0</td>\n",
       "      <td>0</td>\n",
       "      <td>0</td>\n",
       "    </tr>\n",
       "    <tr>\n",
       "      <th>2</th>\n",
       "      <td>1</td>\n",
       "      <td>0</td>\n",
       "      <td>0</td>\n",
       "      <td>0</td>\n",
       "      <td>0</td>\n",
       "      <td>0</td>\n",
       "      <td>0</td>\n",
       "      <td>0</td>\n",
       "      <td>0</td>\n",
       "      <td>0</td>\n",
       "      <td>...</td>\n",
       "      <td>0</td>\n",
       "      <td>0</td>\n",
       "      <td>0</td>\n",
       "      <td>0</td>\n",
       "      <td>0</td>\n",
       "      <td>0</td>\n",
       "      <td>0</td>\n",
       "      <td>0</td>\n",
       "      <td>0</td>\n",
       "      <td>0</td>\n",
       "    </tr>\n",
       "    <tr>\n",
       "      <th>3</th>\n",
       "      <td>4</td>\n",
       "      <td>0</td>\n",
       "      <td>0</td>\n",
       "      <td>0</td>\n",
       "      <td>0</td>\n",
       "      <td>0</td>\n",
       "      <td>0</td>\n",
       "      <td>0</td>\n",
       "      <td>0</td>\n",
       "      <td>0</td>\n",
       "      <td>...</td>\n",
       "      <td>0</td>\n",
       "      <td>0</td>\n",
       "      <td>0</td>\n",
       "      <td>0</td>\n",
       "      <td>0</td>\n",
       "      <td>0</td>\n",
       "      <td>0</td>\n",
       "      <td>0</td>\n",
       "      <td>0</td>\n",
       "      <td>0</td>\n",
       "    </tr>\n",
       "    <tr>\n",
       "      <th>4</th>\n",
       "      <td>0</td>\n",
       "      <td>0</td>\n",
       "      <td>0</td>\n",
       "      <td>0</td>\n",
       "      <td>0</td>\n",
       "      <td>0</td>\n",
       "      <td>0</td>\n",
       "      <td>0</td>\n",
       "      <td>0</td>\n",
       "      <td>0</td>\n",
       "      <td>...</td>\n",
       "      <td>0</td>\n",
       "      <td>0</td>\n",
       "      <td>0</td>\n",
       "      <td>0</td>\n",
       "      <td>0</td>\n",
       "      <td>0</td>\n",
       "      <td>0</td>\n",
       "      <td>0</td>\n",
       "      <td>0</td>\n",
       "      <td>0</td>\n",
       "    </tr>\n",
       "  </tbody>\n",
       "</table>\n",
       "<p>5 rows × 785 columns</p>\n",
       "</div>"
      ],
      "text/plain": [
       "   label  pixel0  pixel1  pixel2  pixel3  pixel4  pixel5  pixel6  pixel7  \\\n",
       "0      1       0       0       0       0       0       0       0       0   \n",
       "1      0       0       0       0       0       0       0       0       0   \n",
       "2      1       0       0       0       0       0       0       0       0   \n",
       "3      4       0       0       0       0       0       0       0       0   \n",
       "4      0       0       0       0       0       0       0       0       0   \n",
       "\n",
       "   pixel8  ...  pixel774  pixel775  pixel776  pixel777  pixel778  pixel779  \\\n",
       "0       0  ...         0         0         0         0         0         0   \n",
       "1       0  ...         0         0         0         0         0         0   \n",
       "2       0  ...         0         0         0         0         0         0   \n",
       "3       0  ...         0         0         0         0         0         0   \n",
       "4       0  ...         0         0         0         0         0         0   \n",
       "\n",
       "   pixel780  pixel781  pixel782  pixel783  \n",
       "0         0         0         0         0  \n",
       "1         0         0         0         0  \n",
       "2         0         0         0         0  \n",
       "3         0         0         0         0  \n",
       "4         0         0         0         0  \n",
       "\n",
       "[5 rows x 785 columns]"
      ]
     },
     "execution_count": 6,
     "metadata": {},
     "output_type": "execute_result"
    }
   ],
   "source": [
    "# 1. Load dataset\n",
    "df = pd.read_csv('digit_data.csv')\n",
    "df.head()"
   ]
  },
  {
   "cell_type": "code",
   "execution_count": 7,
   "metadata": {},
   "outputs": [
    {
     "data": {
      "text/plain": [
       "array([[1, 0, 0, ..., 0, 0, 0],\n",
       "       [0, 0, 0, ..., 0, 0, 0],\n",
       "       [1, 0, 0, ..., 0, 0, 0],\n",
       "       ...,\n",
       "       [7, 0, 0, ..., 0, 0, 0],\n",
       "       [6, 0, 0, ..., 0, 0, 0],\n",
       "       [9, 0, 0, ..., 0, 0, 0]], dtype=int64)"
      ]
     },
     "execution_count": 7,
     "metadata": {},
     "output_type": "execute_result"
    }
   ],
   "source": [
    "# 2. Convert the data given in the dataFrame into a NumPy array\n",
    "data = np.array(df)\n",
    "data"
   ]
  },
  {
   "cell_type": "code",
   "execution_count": 8,
   "metadata": {},
   "outputs": [
    {
     "data": {
      "text/plain": [
       "(42000, 785)"
      ]
     },
     "execution_count": 8,
     "metadata": {},
     "output_type": "execute_result"
    }
   ],
   "source": [
    "# 3. Query the shape of the array\n",
    "data_shape = data.shape\n",
    "data_count = data_shape[0]\n",
    "features = data_shape[1]\n",
    "\n",
    "data_count, features"
   ]
  },
  {
   "cell_type": "code",
   "execution_count": 9,
   "metadata": {},
   "outputs": [],
   "source": [
    "# 4. Shuffle the contents of the array \n",
    "np.random.shuffle(data)"
   ]
  },
  {
   "cell_type": "code",
   "execution_count": 10,
   "metadata": {},
   "outputs": [],
   "source": [
    "# 5. Use first 1000 images of the dataset as the test set and remaining as the train set\n",
    "test = data[:1000]\n",
    "train = data[1000:]"
   ]
  },
  {
   "cell_type": "code",
   "execution_count": 11,
   "metadata": {},
   "outputs": [
    {
     "data": {
      "text/plain": [
       "((785, 1000), (784, 1000), (1000,))"
      ]
     },
     "execution_count": 11,
     "metadata": {},
     "output_type": "execute_result"
    }
   ],
   "source": [
    "# For test set -- Transpose the data (Take rows as the labels of the test set and rows as the features)\n",
    "test = test.T\n",
    "X_test = test[1:, :]\n",
    "y_test = test[0,:]\n",
    "X_test = X_test / 255 # Color normalization\n",
    "\n",
    "\n",
    "test.shape, X_test.shape, y_test.shape "
   ]
  },
  {
   "cell_type": "code",
   "execution_count": 12,
   "metadata": {},
   "outputs": [
    {
     "data": {
      "text/plain": [
       "((785, 41000), (784, 41000), (41000,))"
      ]
     },
     "execution_count": 12,
     "metadata": {},
     "output_type": "execute_result"
    }
   ],
   "source": [
    "# For train set -- Transpose the data (Take rows as the labels and rows as the features)\n",
    "train = train.T\n",
    "X_train = train[1:, :]\n",
    "y_train = train[0]\n",
    "\n",
    "X_train = X_train / 255\n",
    "\n",
    "train.shape, X_train.shape, y_train.shape "
   ]
  },
  {
   "cell_type": "code",
   "execution_count": 13,
   "metadata": {},
   "outputs": [
    {
     "data": {
      "text/plain": [
       "array([492])"
      ]
     },
     "execution_count": 13,
     "metadata": {},
     "output_type": "execute_result"
    }
   ],
   "source": [
    "# Generate a random index in the range dedicated for training images\n",
    "index = np.random.randint(0, len(train),1)\n",
    "index"
   ]
  },
  {
   "cell_type": "code",
   "execution_count": 14,
   "metadata": {},
   "outputs": [
    {
     "data": {
      "text/plain": [
       "(785, 41000)"
      ]
     },
     "execution_count": 14,
     "metadata": {},
     "output_type": "execute_result"
    }
   ],
   "source": [
    "train.shape"
   ]
  },
  {
   "cell_type": "code",
   "execution_count": 15,
   "metadata": {},
   "outputs": [
    {
     "data": {
      "text/plain": [
       "(1, 41000)"
      ]
     },
     "execution_count": 15,
     "metadata": {},
     "output_type": "execute_result"
    }
   ],
   "source": [
    "train[index].shape"
   ]
  },
  {
   "cell_type": "code",
   "execution_count": 16,
   "metadata": {},
   "outputs": [
    {
     "data": {
      "text/plain": [
       "(28, 28)"
      ]
     },
     "execution_count": 16,
     "metadata": {},
     "output_type": "execute_result"
    }
   ],
   "source": [
    "train_ = train.T\n",
    "new_img = train_[index, :-1]\n",
    "new_img.shape\n",
    "\n",
    "new_image = new_img.reshape(28,-1)\n",
    "new_image.shape"
   ]
  },
  {
   "cell_type": "code",
   "execution_count": 17,
   "metadata": {},
   "outputs": [
    {
     "data": {
      "image/png": "[encoded data removed]",
      "text/plain": [
       "<Figure size 640x480 with 1 Axes>"
      ]
     },
     "metadata": {},
     "output_type": "display_data"
    }
   ],
   "source": [
    "# X_test_2d = new_img.reshape(28,-1)\n",
    "# X_test_2d.shape\n",
    "plt.imshow(new_image) \n",
    "plt.axis('off')\n",
    "plt.show()"
   ]
  },
  {
   "cell_type": "code",
   "execution_count": 18,
   "metadata": {},
   "outputs": [
    {
     "data": {
      "text/plain": [
       "array([[-0.35341069, -0.20123052,  0.37685608,  0.26422929, -0.37597242,\n",
       "        -0.35049998,  0.48013297,  0.30907047, -0.4606284 , -0.28955806],\n",
       "       [ 0.29292698, -0.07751962,  0.13199137,  0.11392826,  0.40881785,\n",
       "         0.41920339, -0.30599902, -0.35444705, -0.35296438, -0.07891098],\n",
       "       [ 0.21687959, -0.35888669,  0.27014982, -0.06198179,  0.10331858,\n",
       "        -0.21047133, -0.39670337, -0.07736683, -0.09768427, -0.35122744],\n",
       "       [ 0.28149837,  0.01015978,  0.22411337, -0.46000768, -0.32512537,\n",
       "         0.04931723, -0.33849541,  0.20428502, -0.24352818,  0.17143918],\n",
       "       [ 0.39717557,  0.08579   , -0.39311437,  0.26092094, -0.49755579,\n",
       "         0.31425824,  0.37200057,  0.11808701, -0.15833865, -0.29599713],\n",
       "       [ 0.32980758, -0.426852  , -0.20401402,  0.19266404, -0.26593542,\n",
       "         0.38000993, -0.22646885,  0.38694855, -0.22949638, -0.0991963 ],\n",
       "       [ 0.11637864, -0.34168371,  0.4415039 , -0.1458225 ,  0.40046847,\n",
       "         0.32957789, -0.45435435, -0.17102695, -0.21646431,  0.10886623],\n",
       "       [ 0.22188321, -0.20563773, -0.29573292, -0.01149918,  0.29698096,\n",
       "        -0.25289835,  0.1698144 , -0.21793485, -0.41163752, -0.09066523],\n",
       "       [-0.40289893, -0.26518627, -0.211556  ,  0.0080485 ,  0.14471461,\n",
       "         0.24445616, -0.07370692, -0.12094875, -0.35740772,  0.21718466],\n",
       "       [-0.05133252,  0.26759654, -0.28560566,  0.497856  , -0.00608281,\n",
       "         0.14974411, -0.44347735,  0.32437812,  0.45546463,  0.30240537]])"
      ]
     },
     "execution_count": 18,
     "metadata": {},
     "output_type": "execute_result"
    }
   ],
   "source": [
    "def initial_params():    \n",
    "    W1 = np.random.uniform(low=-0.5, high=0.5, size=(10,784))\n",
    "    W2 = np.random.uniform(low=-0.5, high=0.5, size=(10,10))\n",
    "    b1 = np.random.uniform(low=-0.5, high=0.5, size=(10,1))\n",
    "    b2 = np.random.uniform(low=-0.5, high=0.5, size=(10,1))\n",
    "\n",
    "    # print(W1.shape, W2.shape, b1.shape, b2.shape)\n",
    "    return W1, b1, W2, b2\n",
    "\n",
    "_, _, W2, _ = initial_params()\n",
    "W2[:100]"
   ]
  },
  {
   "cell_type": "code",
   "execution_count": 19,
   "metadata": {},
   "outputs": [
    {
     "data": {
      "text/plain": [
       "(array([[-0.14928437],\n",
       "        [ 0.06801349],\n",
       "        [-0.31040219],\n",
       "        [-0.2701153 ],\n",
       "        [ 0.49721321],\n",
       "        [ 0.45524656],\n",
       "        [ 0.43444367],\n",
       "        [-0.07023351],\n",
       "        [-0.47378042],\n",
       "        [ 0.03109259]]),\n",
       " array([[0.        ],\n",
       "        [0.06801349],\n",
       "        [0.        ],\n",
       "        [0.        ],\n",
       "        [0.49721321],\n",
       "        [0.45524656],\n",
       "        [0.43444367],\n",
       "        [0.        ],\n",
       "        [0.        ],\n",
       "        [0.03109259]]))"
      ]
     },
     "execution_count": 19,
     "metadata": {},
     "output_type": "execute_result"
    }
   ],
   "source": [
    "def ReLU_fn(vector):\n",
    "    return np.maximum(0, vector)\n",
    "\n",
    "vector = np.random.uniform(low=-0.5, high=0.5, size=(10,1))\n",
    "relu = ReLU_fn(vector)\n",
    "vector, relu"
   ]
  },
  {
   "cell_type": "code",
   "execution_count": 20,
   "metadata": {},
   "outputs": [
    {
     "data": {
      "text/plain": [
       "array([[1.],\n",
       "       [1.],\n",
       "       [0.],\n",
       "       [0.],\n",
       "       [1.],\n",
       "       [1.],\n",
       "       [1.],\n",
       "       [1.],\n",
       "       [0.],\n",
       "       [0.]])"
      ]
     },
     "execution_count": 20,
     "metadata": {},
     "output_type": "execute_result"
    }
   ],
   "source": [
    "def d_ReLU(vector):\n",
    "    return np.where(vector > 0, 1.0, 0.0)\n",
    "\n",
    "\n",
    "vector = np.random.uniform(low=-0.5, high=0.5, size=(10,1))\n",
    "relu = d_ReLU(vector)\n",
    "relu"
   ]
  },
  {
   "cell_type": "code",
   "execution_count": 21,
   "metadata": {},
   "outputs": [
    {
     "data": {
      "text/plain": [
       "array([ 0.34057197, -0.11709756, -0.49695817, -0.06184445, -0.45438843,\n",
       "       -0.42768081,  0.1133097 ,  0.10174686, -0.46840334, -0.44742315,\n",
       "        0.        ])"
      ]
     },
     "execution_count": 21,
     "metadata": {},
     "output_type": "execute_result"
    }
   ],
   "source": [
    "vector = np.random.uniform(low=-0.5, high=0.5, size=(10,1))\n",
    "vector = np.append(vector, [0.00000])\n",
    "vector"
   ]
  },
  {
   "cell_type": "code",
   "execution_count": 22,
   "metadata": {},
   "outputs": [
    {
     "data": {
      "text/plain": [
       "(-0.5, 0.5)"
      ]
     },
     "execution_count": 22,
     "metadata": {},
     "output_type": "execute_result"
    },
    {
     "data": {
      "image/png": "[encoded data removed]",
      "text/plain": [
       "<Figure size 640x480 with 1 Axes>"
      ]
     },
     "metadata": {},
     "output_type": "display_data"
    }
   ],
   "source": [
    "relu = ReLU_fn(vector)\n",
    "d_relu = d_ReLU(vector)\n",
    "\n",
    "plt.scatter(vector, relu, c='blue')\n",
    "plt.scatter(vector, d_relu, c='green')\n",
    "plt.ylim(0.0, 1.1)\n",
    "plt.xlim(-0.5, 0.5)"
   ]
  },
  {
   "cell_type": "code",
   "execution_count": 23,
   "metadata": {},
   "outputs": [
    {
     "data": {
      "text/plain": [
       "(array([[-0.08881039],\n",
       "        [ 0.17158234],\n",
       "        [-0.19032182],\n",
       "        [-0.41296883],\n",
       "        [ 0.26501136],\n",
       "        [ 0.41435429],\n",
       "        [ 0.27751858],\n",
       "        [-0.09072557],\n",
       "        [ 0.08074469],\n",
       "        [-0.07278392]]),\n",
       " array([[0.08588155],\n",
       "        [0.11142612],\n",
       "        [0.07759148],\n",
       "        [0.06210401],\n",
       "        [0.12233838],\n",
       "        [0.14204356],\n",
       "        [0.1238781 ],\n",
       "        [0.08571723],\n",
       "        [0.10175054],\n",
       "        [0.08726902]]))"
      ]
     },
     "execution_count": 23,
     "metadata": {},
     "output_type": "execute_result"
    }
   ],
   "source": [
    "def softmax_fn(vector):\n",
    "    exp_vector = np.exp(vector - np.max(vector))\n",
    "    return exp_vector / exp_vector.sum()\n",
    "\n",
    "vector = np.random.uniform(low=-0.5, high=0.5, size=(10,1))\n",
    "softmax = softmax_fn(vector)\n",
    "vector, softmax"
   ]
  },
  {
   "cell_type": "code",
   "execution_count": 24,
   "metadata": {},
   "outputs": [],
   "source": [
    "# def df_softmax(vector):\n",
    "#     d_softmax = softmax_fn(vector) * (1 - softmax_fn(vector))\n",
    "\n",
    "#     return d_softmax\n",
    "\n",
    "# vector = np.random.uniform(low=-0.5, high=0.5, size=(10,1))\n",
    "# d_softmax = softmax_fn(vector)\n",
    "# vector, d_softmax"
   ]
  },
  {
   "cell_type": "code",
   "execution_count": 25,
   "metadata": {},
   "outputs": [
    {
     "data": {
      "text/plain": [
       "<matplotlib.collections.PathCollection at 0x27033407e30>"
      ]
     },
     "execution_count": 25,
     "metadata": {},
     "output_type": "execute_result"
    },
    {
     "data": {
      "image/png": "[encoded data removed]",
      "text/plain": [
       "<Figure size 640x480 with 1 Axes>"
      ]
     },
     "metadata": {},
     "output_type": "display_data"
    }
   ],
   "source": [
    "vector = np.random.uniform(low=-0.5, high=0.5, size=(10,1))\n",
    "vector = np.append(vector, [0.00000, -0.5, 0.5])\n",
    "vector\n",
    "\n",
    "softmax = softmax_fn(vector)\n",
    "# d_softmax = df_softmax(vector)\n",
    "\n",
    "plt.scatter(vector, softmax, c='blue')\n",
    "# plt.scatter(vector, d_softmax, c='green')\n"
   ]
  },
  {
   "cell_type": "code",
   "execution_count": 26,
   "metadata": {},
   "outputs": [],
   "source": [
    "def dropout_forward(A, dropout_rate):\n",
    "    mask = np.random.binomial(1, 1 - dropout_rate, size=A.shape)\n",
    "    A_dropout = A * mask\n",
    "    A_dropout /= (1-dropout_rate)\n",
    "    return A_dropout, mask"
   ]
  },
  {
   "cell_type": "code",
   "execution_count": 27,
   "metadata": {},
   "outputs": [],
   "source": [
    "def forward_prop(W1, b1, W2, b2, A0, dropout_rate = 0.5):\n",
    "    Z1 = np.dot(W1, A0) + b1\n",
    "    A1 = ReLU_fn(Z1)\n",
    "    A1, _ = dropout_forward(A1, dropout_rate)\n",
    "\n",
    "    Z2 = np.dot(W2, A1) + b2\n",
    "    A2 = softmax_fn(Z2)\n",
    "\n",
    "    return Z1, A1, Z2, A2"
   ]
  },
  {
   "cell_type": "code",
   "execution_count": 28,
   "metadata": {},
   "outputs": [
    {
     "data": {
      "text/plain": [
       "(10, 1000)"
      ]
     },
     "execution_count": 28,
     "metadata": {},
     "output_type": "execute_result"
    }
   ],
   "source": [
    "# One hot encoding\n",
    "def one_hot_encoding(Y, num_classes):\n",
    "    num_classes = int(num_classes)  # Ensure num_classes is an integer\n",
    "    encoded_mat = np.zeros((num_classes, len(Y)))\n",
    "    for i in range(len(Y)):\n",
    "        class_index = int(Y[i])\n",
    "        encoded_mat[class_index, i] = 1\n",
    "    return encoded_mat\n",
    "\n",
    "y_train = one_hot_encoding(y_train, num_classes=10)\n",
    "y_train.shape\n",
    "y_test = one_hot_encoding(y_test, num_classes=10)\n",
    "y_test.shape\n"
   ]
  },
  {
   "cell_type": "code",
   "execution_count": 29,
   "metadata": {},
   "outputs": [],
   "source": [
    "# Backward propagation\n",
    "def backward_prop(Z1, A1, Z2, A2, W1, W2, y, A0, y_train):\n",
    "    m = A0.shape[1]\n",
    "    dZ2 = A2 - y_train\n",
    "    dZ1 = np.dot(W2.T, dZ2) * d_ReLU(Z1)\n",
    "\n",
    "    dW1 = (1 / m) * np.dot(dZ1, A0.T)\n",
    "    dW2 = (1 / m) * np.dot(dZ2, A1.T)\n",
    "    db1 = (1 / m) * np.sum(dZ1, axis=1, keepdims=True)\n",
    "    db2 = (1 / m) * np.sum(dZ2, axis=1, keepdims=True)\n",
    "\n",
    "    return dW1, db1, dW2, db2"
   ]
  },
  {
   "cell_type": "code",
   "execution_count": 30,
   "metadata": {},
   "outputs": [],
   "source": [
    "# Update parameters\n",
    "def update_parameters(W1, b1, W2, b2, dW1, db1, dW2, db2, learning_rate= 0.01):\n",
    "    W1 = W1 - learning_rate * dW1\n",
    "    b1 = b1 - learning_rate * db1\n",
    "    W2 = W2 - learning_rate * dW2\n",
    "    b2 = b2 - learning_rate * db2\n",
    "\n",
    "    return W1, b1, W2, b2"
   ]
  },
  {
   "cell_type": "code",
   "execution_count": 31,
   "metadata": {},
   "outputs": [],
   "source": [
    "def obtain_predictions(vector):  # Corrected parameter name\n",
    "    return np.argmax(vector, axis=0)\n"
   ]
  },
  {
   "cell_type": "code",
   "execution_count": 32,
   "metadata": {},
   "outputs": [
    {
     "name": "stderr",
     "output_type": "stream",
     "text": [
      "\n",
      "[notice] A new release of pip is available: 23.3.2 -> 24.1.2\n",
      "[notice] To update, run: python.exe -m pip install --upgrade pip\n"
     ]
    },
    {
     "name": "stdout",
     "output_type": "stream",
     "text": [
      "Requirement already satisfied: scikit-learn in c:\\users\\ghimi\\appdata\\local\\programs\\python\\python312\\lib\\site-packages (1.5.1)Note: you may need to restart the kernel to use updated packages.\n",
      "\n",
      "Requirement already satisfied: numpy>=1.19.5 in c:\\users\\ghimi\\appdata\\local\\programs\\python\\python312\\lib\\site-packages (from scikit-learn) (1.26.1)\n",
      "Requirement already satisfied: scipy>=1.6.0 in c:\\users\\ghimi\\appdata\\local\\programs\\python\\python312\\lib\\site-packages (from scikit-learn) (1.14.0)\n",
      "Requirement already satisfied: joblib>=1.2.0 in c:\\users\\ghimi\\appdata\\local\\programs\\python\\python312\\lib\\site-packages (from scikit-learn) (1.3.2)\n",
      "Requirement already satisfied: threadpoolctl>=3.1.0 in c:\\users\\ghimi\\appdata\\local\\programs\\python\\python312\\lib\\site-packages (from scikit-learn) (3.5.0)\n"
     ]
    }
   ],
   "source": [
    "%pip install scikit-learn\n",
    "from sklearn.metrics import accuracy_score"
   ]
  },
  {
   "cell_type": "code",
   "execution_count": 33,
   "metadata": {},
   "outputs": [],
   "source": [
    "def accuracy_sc(y_pred, y_actual): # Vectors  \n",
    "    num_samples = y_actual.shape[1]\n",
    "\n",
    "    if y_pred.ndim ==2:\n",
    "        pred_label = obtain_predictions(y_pred)\n",
    "    else:\n",
    "        pred_label = y_pred\n",
    "        \n",
    "    if y_actual.ndim == 2:\n",
    "        actual_label = obtain_predictions(y_actual)\n",
    "    else:\n",
    "        actual_label = y_actual\n",
    "    \n",
    "    num_correct = np.sum(pred_label == actual_label)\n",
    "    # print(num_correct)\n",
    "    return num_correct / num_samples"
   ]
  },
  {
   "cell_type": "code",
   "execution_count": 34,
   "metadata": {},
   "outputs": [
    {
     "data": {
      "text/plain": [
       "(10, 41000)"
      ]
     },
     "execution_count": 34,
     "metadata": {},
     "output_type": "execute_result"
    }
   ],
   "source": [
    "y_train.shape"
   ]
  },
  {
   "cell_type": "code",
   "execution_count": 40,
   "metadata": {},
   "outputs": [],
   "source": [
    "def gradient_descent(X_train, y_train, learning_rate, num_iterations, dropout_rate):\n",
    "    W1, b1, W2, b2 = initial_params()\n",
    "\n",
    "    accuracy_list = []\n",
    "\n",
    "    for i in range(num_iterations+1):\n",
    "        Z1, A1, Z2, A2 = forward_prop(W1, b1, W2, b2, X_train, dropout_rate)\n",
    "        dW1, db1, dW2, db2 = backward_prop(Z1, A1, Z2, A2, W1, W2, y_train, X_train, y_train)\n",
    "        W1, b1, W2, b2 = update_parameters(W1, b1, W2, b2, dW1, db1, dW2, db2, learning_rate)\n",
    "\n",
    "        if i%5==0:\n",
    "            accuracy = accuracy_sc(A2,y_train)\n",
    "            accuracy_list.append((i,accuracy))\n",
    "            print(f\"Iteration: {i} \\t Accuracy: {accuracy:.5f}\")\n",
    "\n",
    "    return W1, b1, W2, b2, accuracy_list"
   ]
  },
  {
   "cell_type": "code",
   "execution_count": 36,
   "metadata": {},
   "outputs": [],
   "source": [
    "def make_prediction(X_test, W1, b1, W2, b2):\n",
    "    _, _, _, A2 = forward_prop(W1, b1, W2, b2, X_test) \n",
    "    pred = obtain_predictions(A2)\n",
    "    return pred    "
   ]
  },
  {
   "cell_type": "code",
   "execution_count": 37,
   "metadata": {},
   "outputs": [],
   "source": [
    "def plot_image(image):\n",
    "    X_test_2d = image.reshape(28,-1)\n",
    "    print(X_test_2d.shape)\n",
    "    plt.imshow(X_test_2d) \n",
    "    plt.axis('off')\n",
    "    plt.show()"
   ]
  },
  {
   "cell_type": "code",
   "execution_count": 45,
   "metadata": {},
   "outputs": [
    {
     "name": "stdout",
     "output_type": "stream",
     "text": [
      "Iteration: 0 \t Accuracy: 0.10202\n",
      "Iteration: 5 \t Accuracy: 0.10161\n",
      "Iteration: 10 \t Accuracy: 0.10059\n",
      "Iteration: 15 \t Accuracy: 0.10168\n",
      "Iteration: 20 \t Accuracy: 0.10361\n",
      "Iteration: 25 \t Accuracy: 0.10293\n",
      "Iteration: 30 \t Accuracy: 0.10078\n",
      "Iteration: 35 \t Accuracy: 0.10205\n",
      "Iteration: 40 \t Accuracy: 0.10095\n",
      "Iteration: 45 \t Accuracy: 0.10298\n",
      "Iteration: 50 \t Accuracy: 0.10261\n",
      "Iteration: 55 \t Accuracy: 0.10273\n",
      "Iteration: 60 \t Accuracy: 0.10227\n",
      "Iteration: 65 \t Accuracy: 0.10115\n",
      "Iteration: 70 \t Accuracy: 0.10285\n",
      "Iteration: 75 \t Accuracy: 0.10171\n",
      "Iteration: 80 \t Accuracy: 0.10320\n",
      "Iteration: 85 \t Accuracy: 0.10207\n",
      "Iteration: 90 \t Accuracy: 0.10195\n",
      "Iteration: 95 \t Accuracy: 0.10427\n",
      "Iteration: 100 \t Accuracy: 0.10156\n",
      "Iteration: 105 \t Accuracy: 0.10102\n",
      "Iteration: 110 \t Accuracy: 0.10117\n",
      "Iteration: 115 \t Accuracy: 0.10307\n",
      "Iteration: 120 \t Accuracy: 0.10222\n",
      "Iteration: 125 \t Accuracy: 0.10398\n",
      "Iteration: 130 \t Accuracy: 0.10278\n",
      "Iteration: 135 \t Accuracy: 0.10276\n",
      "Iteration: 140 \t Accuracy: 0.10141\n",
      "Iteration: 145 \t Accuracy: 0.10315\n",
      "Iteration: 150 \t Accuracy: 0.10044\n",
      "Iteration: 155 \t Accuracy: 0.10420\n",
      "Iteration: 160 \t Accuracy: 0.10139\n",
      "Iteration: 165 \t Accuracy: 0.10251\n",
      "Iteration: 170 \t Accuracy: 0.10190\n",
      "Iteration: 175 \t Accuracy: 0.10424\n",
      "Iteration: 180 \t Accuracy: 0.10149\n",
      "Iteration: 185 \t Accuracy: 0.10180\n",
      "Iteration: 190 \t Accuracy: 0.10305\n",
      "Iteration: 195 \t Accuracy: 0.10276\n",
      "Iteration: 200 \t Accuracy: 0.10329\n",
      "Iteration: 205 \t Accuracy: 0.10073\n",
      "Iteration: 210 \t Accuracy: 0.10344\n",
      "Iteration: 215 \t Accuracy: 0.09988\n",
      "Iteration: 220 \t Accuracy: 0.09971\n",
      "Iteration: 225 \t Accuracy: 0.10200\n",
      "Iteration: 230 \t Accuracy: 0.10098\n",
      "Iteration: 235 \t Accuracy: 0.10229\n",
      "Iteration: 240 \t Accuracy: 0.10237\n",
      "Iteration: 245 \t Accuracy: 0.09851\n",
      "Iteration: 250 \t Accuracy: 0.10061\n",
      "Iteration: 255 \t Accuracy: 0.10332\n",
      "Iteration: 260 \t Accuracy: 0.10327\n",
      "Iteration: 265 \t Accuracy: 0.10322\n",
      "Iteration: 270 \t Accuracy: 0.10300\n",
      "Iteration: 275 \t Accuracy: 0.10398\n",
      "Iteration: 280 \t Accuracy: 0.10212\n",
      "Iteration: 285 \t Accuracy: 0.10202\n",
      "Iteration: 290 \t Accuracy: 0.10344\n",
      "Iteration: 295 \t Accuracy: 0.10078\n",
      "Iteration: 300 \t Accuracy: 0.10371\n",
      "Iteration: 305 \t Accuracy: 0.10512\n",
      "Iteration: 310 \t Accuracy: 0.10298\n",
      "Iteration: 315 \t Accuracy: 0.09951\n",
      "Iteration: 320 \t Accuracy: 0.10093\n",
      "Iteration: 325 \t Accuracy: 0.10261\n",
      "Iteration: 330 \t Accuracy: 0.09980\n",
      "Iteration: 335 \t Accuracy: 0.10415\n",
      "Iteration: 340 \t Accuracy: 0.10378\n",
      "Iteration: 345 \t Accuracy: 0.10239\n",
      "Iteration: 350 \t Accuracy: 0.10176\n",
      "Iteration: 355 \t Accuracy: 0.10351\n",
      "Iteration: 360 \t Accuracy: 0.10344\n",
      "Iteration: 365 \t Accuracy: 0.10434\n",
      "Iteration: 370 \t Accuracy: 0.10371\n",
      "Iteration: 375 \t Accuracy: 0.10485\n",
      "Iteration: 380 \t Accuracy: 0.09866\n",
      "Iteration: 385 \t Accuracy: 0.10105\n",
      "Iteration: 390 \t Accuracy: 0.10256\n",
      "Iteration: 395 \t Accuracy: 0.10356\n",
      "Iteration: 400 \t Accuracy: 0.10227\n",
      "Iteration: 405 \t Accuracy: 0.10210\n",
      "Iteration: 410 \t Accuracy: 0.10388\n",
      "Iteration: 415 \t Accuracy: 0.10495\n",
      "Iteration: 420 \t Accuracy: 0.10476\n",
      "Iteration: 425 \t Accuracy: 0.10205\n",
      "Iteration: 430 \t Accuracy: 0.10061\n",
      "Iteration: 435 \t Accuracy: 0.10451\n",
      "Iteration: 440 \t Accuracy: 0.10598\n",
      "Iteration: 445 \t Accuracy: 0.10159\n",
      "Iteration: 450 \t Accuracy: 0.10410\n",
      "Iteration: 455 \t Accuracy: 0.10429\n",
      "Iteration: 460 \t Accuracy: 0.10654\n",
      "Iteration: 465 \t Accuracy: 0.10244\n",
      "Iteration: 470 \t Accuracy: 0.10229\n",
      "Iteration: 475 \t Accuracy: 0.10583\n",
      "Iteration: 480 \t Accuracy: 0.10424\n",
      "Iteration: 485 \t Accuracy: 0.10329\n",
      "Iteration: 490 \t Accuracy: 0.10339\n",
      "Iteration: 495 \t Accuracy: 0.10268\n",
      "Iteration: 500 \t Accuracy: 0.10515\n",
      "Iteration: 505 \t Accuracy: 0.10463\n",
      "Iteration: 510 \t Accuracy: 0.10371\n",
      "Iteration: 515 \t Accuracy: 0.10302\n",
      "Iteration: 520 \t Accuracy: 0.10439\n",
      "Iteration: 525 \t Accuracy: 0.10007\n",
      "Iteration: 530 \t Accuracy: 0.10378\n",
      "Iteration: 535 \t Accuracy: 0.10246\n",
      "Iteration: 540 \t Accuracy: 0.10232\n",
      "Iteration: 545 \t Accuracy: 0.10237\n",
      "Iteration: 550 \t Accuracy: 0.10359\n",
      "Iteration: 555 \t Accuracy: 0.10156\n",
      "Iteration: 560 \t Accuracy: 0.10478\n",
      "Iteration: 565 \t Accuracy: 0.10412\n",
      "Iteration: 570 \t Accuracy: 0.10334\n",
      "Iteration: 575 \t Accuracy: 0.10376\n",
      "Iteration: 580 \t Accuracy: 0.10220\n",
      "Iteration: 585 \t Accuracy: 0.10520\n",
      "Iteration: 590 \t Accuracy: 0.10251\n",
      "Iteration: 595 \t Accuracy: 0.10476\n",
      "Iteration: 600 \t Accuracy: 0.10276\n",
      "Iteration: 605 \t Accuracy: 0.10490\n",
      "Iteration: 610 \t Accuracy: 0.10215\n",
      "Iteration: 615 \t Accuracy: 0.10361\n",
      "Iteration: 620 \t Accuracy: 0.10585\n",
      "Iteration: 625 \t Accuracy: 0.10185\n",
      "Iteration: 630 \t Accuracy: 0.10507\n",
      "Iteration: 635 \t Accuracy: 0.10237\n",
      "Iteration: 640 \t Accuracy: 0.10583\n",
      "Iteration: 645 \t Accuracy: 0.10124\n",
      "Iteration: 650 \t Accuracy: 0.10539\n",
      "Iteration: 655 \t Accuracy: 0.10359\n",
      "Iteration: 660 \t Accuracy: 0.10198\n",
      "Iteration: 665 \t Accuracy: 0.10280\n",
      "Iteration: 670 \t Accuracy: 0.10222\n",
      "Iteration: 675 \t Accuracy: 0.10393\n",
      "Iteration: 680 \t Accuracy: 0.10556\n",
      "Iteration: 685 \t Accuracy: 0.10215\n",
      "Iteration: 690 \t Accuracy: 0.10290\n",
      "Iteration: 695 \t Accuracy: 0.09988\n",
      "Iteration: 700 \t Accuracy: 0.10273\n",
      "Iteration: 705 \t Accuracy: 0.10434\n",
      "Iteration: 710 \t Accuracy: 0.10390\n",
      "Iteration: 715 \t Accuracy: 0.10263\n",
      "Iteration: 720 \t Accuracy: 0.10459\n",
      "Iteration: 725 \t Accuracy: 0.10432\n",
      "Iteration: 730 \t Accuracy: 0.10354\n",
      "Iteration: 735 \t Accuracy: 0.10488\n",
      "Iteration: 740 \t Accuracy: 0.10295\n",
      "Iteration: 745 \t Accuracy: 0.10456\n",
      "Iteration: 750 \t Accuracy: 0.10539\n",
      "Iteration: 755 \t Accuracy: 0.10632\n",
      "Iteration: 760 \t Accuracy: 0.10422\n",
      "Iteration: 765 \t Accuracy: 0.10298\n",
      "Iteration: 770 \t Accuracy: 0.10356\n",
      "Iteration: 775 \t Accuracy: 0.10695\n",
      "Iteration: 780 \t Accuracy: 0.10659\n",
      "Iteration: 785 \t Accuracy: 0.10417\n",
      "Iteration: 790 \t Accuracy: 0.10285\n",
      "Iteration: 795 \t Accuracy: 0.10432\n",
      "Iteration: 800 \t Accuracy: 0.10666\n",
      "Iteration: 805 \t Accuracy: 0.10493\n",
      "Iteration: 810 \t Accuracy: 0.10373\n",
      "Iteration: 815 \t Accuracy: 0.10459\n",
      "Iteration: 820 \t Accuracy: 0.10349\n",
      "Iteration: 825 \t Accuracy: 0.10239\n",
      "Iteration: 830 \t Accuracy: 0.10434\n",
      "Iteration: 835 \t Accuracy: 0.10249\n",
      "Iteration: 840 \t Accuracy: 0.10385\n",
      "Iteration: 845 \t Accuracy: 0.10537\n",
      "Iteration: 850 \t Accuracy: 0.10502\n",
      "Iteration: 855 \t Accuracy: 0.10095\n",
      "Iteration: 860 \t Accuracy: 0.10202\n",
      "Iteration: 865 \t Accuracy: 0.10302\n",
      "Iteration: 870 \t Accuracy: 0.10610\n",
      "Iteration: 875 \t Accuracy: 0.10600\n",
      "Iteration: 880 \t Accuracy: 0.10639\n",
      "Iteration: 885 \t Accuracy: 0.10620\n",
      "Iteration: 890 \t Accuracy: 0.10585\n",
      "Iteration: 895 \t Accuracy: 0.10373\n",
      "Iteration: 900 \t Accuracy: 0.10705\n",
      "Iteration: 905 \t Accuracy: 0.10434\n",
      "Iteration: 910 \t Accuracy: 0.10490\n",
      "Iteration: 915 \t Accuracy: 0.10354\n",
      "Iteration: 920 \t Accuracy: 0.10180\n",
      "Iteration: 925 \t Accuracy: 0.10412\n",
      "Iteration: 930 \t Accuracy: 0.10512\n",
      "Iteration: 935 \t Accuracy: 0.10329\n",
      "Iteration: 940 \t Accuracy: 0.10429\n",
      "Iteration: 945 \t Accuracy: 0.10651\n",
      "Iteration: 950 \t Accuracy: 0.10322\n",
      "Iteration: 955 \t Accuracy: 0.10295\n",
      "Iteration: 960 \t Accuracy: 0.10832\n",
      "Iteration: 965 \t Accuracy: 0.10198\n",
      "Iteration: 970 \t Accuracy: 0.10485\n",
      "Iteration: 975 \t Accuracy: 0.10507\n",
      "Iteration: 980 \t Accuracy: 0.10380\n",
      "Iteration: 985 \t Accuracy: 0.10351\n",
      "Iteration: 990 \t Accuracy: 0.10415\n",
      "Iteration: 995 \t Accuracy: 0.10537\n",
      "Iteration: 1000 \t Accuracy: 0.10402\n"
     ]
    }
   ],
   "source": [
    "W1, b1, W2, b2, accuracy_list = gradient_descent(X_train, y_train, learning_rate=0.0001, num_iterations=1000, dropout_rate=0.8)"
   ]
  },
  {
   "cell_type": "code",
   "execution_count": 46,
   "metadata": {},
   "outputs": [
    {
     "data": {
      "image/png": "[encoded data removed]",
      "text/plain": [
       "<Figure size 1000x600 with 1 Axes>"
      ]
     },
     "metadata": {},
     "output_type": "display_data"
    }
   ],
   "source": [
    "iterations, accuracies = zip(*accuracy_list)\n",
    "\n",
    "plt.figure(figsize=(10, 6))\n",
    "plt.plot(iterations, accuracies, marker='o', linestyle='-', color='b')\n",
    "plt.title('Accuracy vs. Iteration')\n",
    "plt.xlabel('Iteration')\n",
    "plt.ylabel('Accuracy')\n",
    "plt.grid(True)\n",
    "plt.show()"
   ]
  },
  {
   "cell_type": "code",
   "execution_count": 47,
   "metadata": {},
   "outputs": [],
   "source": [
    "def test_predictions(W1, b1, W2, b2, X_test, y_test):\n",
    "    test = make_prediction(X_test, W1, b1, W2, b2)\n",
    "    image = X_test.T\n",
    "    print(test.shape)\n",
    "    accuracy = accuracy_sc(test, y_test)\n",
    "    print(f\"Accuracy:{accuracy}\")\n",
    "    y_test_label = obtain_predictions(y_test)\n",
    "    for i in range(10):\n",
    "        print(test[i], y_test_label[i])\n",
    "        print(image[i].shape)\n",
    "        plot_image(image[i])"
   ]
  },
  {
   "cell_type": "code",
   "execution_count": 48,
   "metadata": {},
   "outputs": [
    {
     "name": "stdout",
     "output_type": "stream",
     "text": [
      "(1000,)\n",
      "Accuracy:0.124\n",
      "4 3\n",
      "(784,)\n",
      "(28, 28)\n"
     ]
    },
    {
     "data": {
      "image/png": "[encoded data removed]",
      "text/plain": [
       "<Figure size 640x480 with 1 Axes>"
      ]
     },
     "metadata": {},
     "output_type": "display_data"
    },
    {
     "name": "stdout",
     "output_type": "stream",
     "text": [
      "2 3\n",
      "(784,)\n",
      "(28, 28)\n"
     ]
    },
    {
     "data": {
      "image/png": "[encoded data removed]",
      "text/plain": [
       "<Figure size 640x480 with 1 Axes>"
      ]
     },
     "metadata": {},
     "output_type": "display_data"
    },
    {
     "name": "stdout",
     "output_type": "stream",
     "text": [
      "5 6\n",
      "(784,)\n",
      "(28, 28)\n"
     ]
    },
    {
     "data": {
      "image/png": "[encoded data removed]",
      "text/plain": [
       "<Figure size 640x480 with 1 Axes>"
      ]
     },
     "metadata": {},
     "output_type": "display_data"
    },
    {
     "name": "stdout",
     "output_type": "stream",
     "text": [
      "5 6\n",
      "(784,)\n",
      "(28, 28)\n"
     ]
    },
    {
     "data": {
      "image/png": "[encoded data removed]",
      "text/plain": [
       "<Figure size 640x480 with 1 Axes>"
      ]
     },
     "metadata": {},
     "output_type": "display_data"
    },
    {
     "name": "stdout",
     "output_type": "stream",
     "text": [
      "8 1\n",
      "(784,)\n",
      "(28, 28)\n"
     ]
    },
    {
     "data": {
      "image/png": "[encoded data removed]",
      "text/plain": [
       "<Figure size 640x480 with 1 Axes>"
      ]
     },
     "metadata": {},
     "output_type": "display_data"
    },
    {
     "name": "stdout",
     "output_type": "stream",
     "text": [
      "8 6\n",
      "(784,)\n",
      "(28, 28)\n"
     ]
    },
    {
     "data": {
      "image/png": "[encoded data removed]",
      "text/plain": [
       "<Figure size 640x480 with 1 Axes>"
      ]
     },
     "metadata": {},
     "output_type": "display_data"
    },
    {
     "name": "stdout",
     "output_type": "stream",
     "text": [
      "2 9\n",
      "(784,)\n",
      "(28, 28)\n"
     ]
    },
    {
     "data": {
      "image/png": "[encoded data removed]",
      "text/plain": [
       "<Figure size 640x480 with 1 Axes>"
      ]
     },
     "metadata": {},
     "output_type": "display_data"
    },
    {
     "name": "stdout",
     "output_type": "stream",
     "text": [
      "4 0\n",
      "(784,)\n",
      "(28, 28)\n"
     ]
    },
    {
     "data": {
      "image/png": "[encoded data removed]",
      "text/plain": [
       "<Figure size 640x480 with 1 Axes>"
      ]
     },
     "metadata": {},
     "output_type": "display_data"
    },
    {
     "name": "stdout",
     "output_type": "stream",
     "text": [
      "3 7\n",
      "(784,)\n",
      "(28, 28)\n"
     ]
    },
    {
     "data": {
      "image/png": "[encoded data removed]",
      "text/plain": [
       "<Figure size 640x480 with 1 Axes>"
      ]
     },
     "metadata": {},
     "output_type": "display_data"
    },
    {
     "name": "stdout",
     "output_type": "stream",
     "text": [
      "3 0\n",
      "(784,)\n",
      "(28, 28)\n"
     ]
    },
    {
     "data": {
      "image/png": "[encoded data removed]",
      "text/plain": [
       "<Figure size 640x480 with 1 Axes>"
      ]
     },
     "metadata": {},
     "output_type": "display_data"
    }
   ],
   "source": [
    "test_predictions(W1, b1, W2, b2, X_test, y_test)"
   ]
  }
 ],
 "metadata": {
  "kernelspec": {
   "display_name": "Python 3",
   "language": "python",
   "name": "python3"
  },
  "language_info": {
   "codemirror_mode": {
    "name": "ipython",
    "version": 3
   },
   "file_extension": ".py",
   "mimetype": "text/x-python",
   "name": "python",
   "nbconvert_exporter": "python",
   "pygments_lexer": "ipython3",
   "version": "3.12.0"
  }
 },
 "nbformat": 4,
 "nbformat_minor": 2
}
